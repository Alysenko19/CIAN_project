{
 "cells": [
  {
   "cell_type": "code",
   "execution_count": 1,
   "metadata": {
    "collapsed": true
   },
   "outputs": [],
   "source": [
    "import pandas as pd\n",
    "import scipy\n",
    "import numpy as np\n",
    "\n",
    "import matplotlib.pyplot as plt\n",
    "import seaborn as sns\n",
    "%matplotlib inline"
   ]
  },
  {
   "cell_type": "code",
   "execution_count": 2,
   "metadata": {
    "collapsed": true
   },
   "outputs": [],
   "source": [
    "df = pd.read_csv('sell_result/sell_table_2.csv')"
   ]
  },
  {
   "cell_type": "code",
   "execution_count": 3,
   "metadata": {
    "collapsed": true
   },
   "outputs": [],
   "source": [
    "df = df.iloc[:, 1:]"
   ]
  },
  {
   "cell_type": "code",
   "execution_count": 4,
   "metadata": {
    "collapsed": true
   },
   "outputs": [],
   "source": [
    "df = df[df.index != 746]"
   ]
  },
  {
   "cell_type": "code",
   "execution_count": 5,
   "metadata": {
    "collapsed": true
   },
   "outputs": [],
   "source": [
    "df = df[df['Price_duplicate'] > 100000].copy()"
   ]
  },
  {
   "cell_type": "code",
   "execution_count": 6,
   "metadata": {
    "collapsed": false
   },
   "outputs": [
    {
     "name": "stdout",
     "output_type": "stream",
     "text": [
      "Lat 0\n",
      "Lon 0\n",
      "District 0\n",
      "Small_district 3797\n",
      "Rooms 0\n",
      "Price 40\n",
      "Price_duplicate 0\n",
      "Totsp 0\n",
      "Livesp 4294\n",
      "Kitsp 852\n",
      "Dist 0\n",
      "Stname 1223\n",
      "Metrdist 1223\n",
      "Walk 1223\n",
      "Brick 3797\n",
      "Tel 0\n",
      "Bal 0\n",
      "Floor 2\n",
      "Nfloors 104\n",
      "New 0\n",
      "Link 0\n"
     ]
    }
   ],
   "source": [
    "for c in df.columns:\n",
    "    print(c, len(df[c][df[c].isnull()]))"
   ]
  },
  {
   "cell_type": "code",
   "execution_count": 22,
   "metadata": {
    "collapsed": true
   },
   "outputs": [],
   "source": [
    "from sklearn import cross_validation"
   ]
  },
  {
   "cell_type": "code",
   "execution_count": 54,
   "metadata": {
    "collapsed": true
   },
   "outputs": [],
   "source": [
    "from sklearn.metrics import mean_absolute_error as mae, mean_squared_error as mse"
   ]
  },
  {
   "cell_type": "code",
   "execution_count": 207,
   "metadata": {
    "collapsed": true
   },
   "outputs": [],
   "source": [
    "def accuracy_report(y_true, y_pred, make_plot=True):\n",
    "    print('MSE: {:.3f}'.format(mse(y_true, y_pred)))\n",
    "    print('RMSE: {:.3f}'.format(np.sqrt(mse(y_true, y_pred))))\n",
    "    print('MAE: {:.3f}'.format(mae(y_true, y_pred)))\n",
    "    if make_plot:\n",
    "        plt.figure(figsize=(8,6))\n",
    "        plt.scatter(y_true, y_pred)\n",
    "        plt.xlabel('Reality')\n",
    "        plt.ylabel('Prediction')\n",
    "        plt.plot([y_true.min(), y_true.max()], [y_true.min(), y_true.max()], 'r--')"
   ]
  },
  {
   "cell_type": "markdown",
   "metadata": {},
   "source": [
    "# Linear Model (OLS)"
   ]
  },
  {
   "cell_type": "markdown",
   "metadata": {},
   "source": [
    "There are a lot of NaNs in variable Brick - so we will drop it\n",
    "\n",
    "Then we will try linear model on all data just without NaNs and the we will try to add variable or fill the NaNs\n",
    "\n",
    "In the header we will write all Varibles we use and if we fill the NaNs"
   ]
  },
  {
   "cell_type": "code",
   "execution_count": 37,
   "metadata": {
    "collapsed": true
   },
   "outputs": [],
   "source": [
    "from sklearn.linear_model import LinearRegression"
   ]
  },
  {
   "cell_type": "markdown",
   "metadata": {},
   "source": [
    "### 1.1"
   ]
  },
  {
   "cell_type": "markdown",
   "metadata": {},
   "source": [
    "##### Lat, Lon, Rooms, Totsp, Livesp, Kitsp, Dist, Metrdist, Walk, Brick, Tel, Bal, Floor, Nfloors, New"
   ]
  },
  {
   "cell_type": "code",
   "execution_count": 208,
   "metadata": {
    "collapsed": false
   },
   "outputs": [],
   "source": [
    "data = df[['Lat', 'Lon', 'Rooms', 'Totsp', 'Livesp', 'Kitsp', 'Dist', 'Metrdist', 'Walk', 'Brick', 'Tel',\\\n",
    "           'Bal', 'Floor', 'Nfloors', 'New', 'Price_duplicate']].dropna()"
   ]
  },
  {
   "cell_type": "code",
   "execution_count": 209,
   "metadata": {
    "collapsed": false
   },
   "outputs": [
    {
     "data": {
      "text/plain": [
       "2167"
      ]
     },
     "execution_count": 209,
     "metadata": {},
     "output_type": "execute_result"
    }
   ],
   "source": [
    "len(data)"
   ]
  },
  {
   "cell_type": "code",
   "execution_count": 210,
   "metadata": {
    "collapsed": true
   },
   "outputs": [],
   "source": [
    "train_data, test_data, train_labels, test_labels = \\\n",
    "cross_validation.train_test_split(data.iloc[:, :-1],\n",
    "                                  data.iloc[:, -1],\n",
    "                                  test_size = 0.1,\n",
    "                                  random_state=0)"
   ]
  },
  {
   "cell_type": "code",
   "execution_count": 211,
   "metadata": {
    "collapsed": false
   },
   "outputs": [
    {
     "data": {
      "text/plain": [
       "LinearRegression(copy_X=True, fit_intercept=True, n_jobs=1, normalize=False)"
      ]
     },
     "execution_count": 211,
     "metadata": {},
     "output_type": "execute_result"
    }
   ],
   "source": [
    "model = LinearRegression()\n",
    "model.fit(X=train_data, y=train_labels)"
   ]
  },
  {
   "cell_type": "code",
   "execution_count": 212,
   "metadata": {
    "collapsed": false
   },
   "outputs": [
    {
     "name": "stdout",
     "output_type": "stream",
     "text": [
      "MSE: 60948466082364.906\n",
      "RMSE: 7806949.858\n",
      "MAE: 4390151.444\n"
     ]
    },
    {
     "data": {
      "image/png": "[encoded data removed]",
      "text/plain": [
       "<matplotlib.figure.Figure at 0x10f766f98>"
      ]
     },
     "metadata": {},
     "output_type": "display_data"
    }
   ],
   "source": [
    "accuracy_report(test_labels, model.predict(test_data))"
   ]
  },
  {
   "cell_type": "markdown",
   "metadata": {},
   "source": [
    "### 1.2"
   ]
  },
  {
   "cell_type": "markdown",
   "metadata": {},
   "source": [
    "#### Lat, Lon, Rooms, Totsp, Livesp, Kitsp, Dist, Metrdist, Walk, Brick, Tel, Bal, Floor, Nfloors, New\n",
    "\n",
    "#### Fill NaN's with 0"
   ]
  },
  {
   "cell_type": "code",
   "execution_count": 213,
   "metadata": {
    "collapsed": true
   },
   "outputs": [],
   "source": [
    "data = df[['Lat', 'Lon', 'Rooms', 'Totsp', 'Livesp', 'Kitsp', 'Dist', 'Metrdist', 'Walk', 'Brick', 'Tel',\\\n",
    "           'Bal', 'Floor', 'Nfloors', 'New', 'Price_duplicate']].fillna(0)\n",
    "\n",
    "train_data, test_data, train_labels, test_labels = \\\n",
    "cross_validation.train_test_split(data.iloc[:, :-1],\n",
    "                                  data.iloc[:, -1],\n",
    "                                  test_size = 0.1,\n",
    "                                  random_state=0)"
   ]
  },
  {
   "cell_type": "code",
   "execution_count": 214,
   "metadata": {
    "collapsed": false
   },
   "outputs": [
    {
     "data": {
      "text/plain": [
       "8976"
      ]
     },
     "execution_count": 214,
     "metadata": {},
     "output_type": "execute_result"
    }
   ],
   "source": [
    "len(data)"
   ]
  },
  {
   "cell_type": "code",
   "execution_count": 215,
   "metadata": {
    "collapsed": false
   },
   "outputs": [
    {
     "data": {
      "text/plain": [
       "LinearRegression(copy_X=True, fit_intercept=True, n_jobs=1, normalize=False)"
      ]
     },
     "execution_count": 215,
     "metadata": {},
     "output_type": "execute_result"
    }
   ],
   "source": [
    "model = LinearRegression()\n",
    "model.fit(X=train_data, y=train_labels)"
   ]
  },
  {
   "cell_type": "code",
   "execution_count": 216,
   "metadata": {
    "collapsed": false
   },
   "outputs": [
    {
     "name": "stdout",
     "output_type": "stream",
     "text": [
      "MSE: 115096656844937.141\n",
      "RMSE: 10728310.997\n",
      "MAE: 4762746.966\n"
     ]
    },
    {
     "data": {
      "image/png": "[encoded data removed]",
      "text/plain": [
       "<matplotlib.figure.Figure at 0x10f8e2898>"
      ]
     },
     "metadata": {},
     "output_type": "display_data"
    }
   ],
   "source": [
    "accuracy_report(test_labels, model.predict(test_data))"
   ]
  },
  {
   "cell_type": "markdown",
   "metadata": {},
   "source": [
    "### 1.3"
   ]
  },
  {
   "cell_type": "markdown",
   "metadata": {},
   "source": [
    "#### Lat, Lon, Rooms, Totsp, Kitsp, Dist, Metrdist, Walk, Tel, Bal, Floor, New\n",
    "#### Drop these variables: Livesp (too much NaNs), Brick (too much NaNs), Nfloors (May be it's not important plus highly correlated with floors)"
   ]
  },
  {
   "cell_type": "code",
   "execution_count": 217,
   "metadata": {
    "collapsed": true
   },
   "outputs": [],
   "source": [
    "data = df[['Lat', 'Lon', 'Rooms', 'Totsp', 'Kitsp', 'Dist', 'Metrdist', 'Walk', 'Tel',\\\n",
    "           'Bal', 'Floor', 'New', 'Price_duplicate']].dropna()\n",
    "\n",
    "train_data, test_data, train_labels, test_labels = \\\n",
    "cross_validation.train_test_split(data.iloc[:, :-1],\n",
    "                                  data.iloc[:, -1],\n",
    "                                  test_size = 0.1,\n",
    "                                  random_state=0)"
   ]
  },
  {
   "cell_type": "code",
   "execution_count": 218,
   "metadata": {
    "collapsed": false
   },
   "outputs": [
    {
     "data": {
      "text/plain": [
       "7101"
      ]
     },
     "execution_count": 218,
     "metadata": {},
     "output_type": "execute_result"
    }
   ],
   "source": [
    "len(data)"
   ]
  },
  {
   "cell_type": "code",
   "execution_count": 219,
   "metadata": {
    "collapsed": false
   },
   "outputs": [
    {
     "data": {
      "text/plain": [
       "LinearRegression(copy_X=True, fit_intercept=True, n_jobs=1, normalize=False)"
      ]
     },
     "execution_count": 219,
     "metadata": {},
     "output_type": "execute_result"
    }
   ],
   "source": [
    "model = LinearRegression()\n",
    "model.fit(X=train_data, y=train_labels)"
   ]
  },
  {
   "cell_type": "code",
   "execution_count": 220,
   "metadata": {
    "collapsed": false
   },
   "outputs": [
    {
     "name": "stdout",
     "output_type": "stream",
     "text": [
      "MSE: 41369946842951.562\n",
      "RMSE: 6431947.360\n",
      "MAE: 3435153.091\n"
     ]
    },
    {
     "data": {
      "image/png": "[encoded data removed]",
      "text/plain": [
       "<matplotlib.figure.Figure at 0x10f894e10>"
      ]
     },
     "metadata": {},
     "output_type": "display_data"
    }
   ],
   "source": [
    "accuracy_report(test_labels, model.predict(test_data))"
   ]
  },
  {
   "cell_type": "markdown",
   "metadata": {},
   "source": [
    "### 1.4"
   ]
  },
  {
   "cell_type": "markdown",
   "metadata": {},
   "source": [
    "#### Lat, Lon, Rooms, Totsp, Kitsp, Dist, Metrdist, Walk, Tel, Bal, Floor, New\n",
    "#### Drop these variables: Livesp (too much NaNs), Brick (too much NaNs), Nfloors (May be it's not important plus highly correlated with floors)\n",
    "#### Fill NaNs with 0"
   ]
  },
  {
   "cell_type": "code",
   "execution_count": 221,
   "metadata": {
    "collapsed": true
   },
   "outputs": [],
   "source": [
    "data = df[['Lat', 'Lon', 'Rooms', 'Totsp', 'Kitsp', 'Dist', 'Metrdist', 'Walk', 'Tel',\\\n",
    "           'Bal', 'Floor', 'New', 'Price_duplicate']].fillna(0)\n",
    "\n",
    "train_data, test_data, train_labels, test_labels = \\\n",
    "cross_validation.train_test_split(data.iloc[:, :-1],\n",
    "                                  data.iloc[:, -1],\n",
    "                                  test_size = 0.1,\n",
    "                                  random_state=0)"
   ]
  },
  {
   "cell_type": "code",
   "execution_count": 222,
   "metadata": {
    "collapsed": false
   },
   "outputs": [
    {
     "data": {
      "text/plain": [
       "8976"
      ]
     },
     "execution_count": 222,
     "metadata": {},
     "output_type": "execute_result"
    }
   ],
   "source": [
    "len(data)"
   ]
  },
  {
   "cell_type": "code",
   "execution_count": 223,
   "metadata": {
    "collapsed": false
   },
   "outputs": [
    {
     "data": {
      "text/plain": [
       "LinearRegression(copy_X=True, fit_intercept=True, n_jobs=1, normalize=False)"
      ]
     },
     "execution_count": 223,
     "metadata": {},
     "output_type": "execute_result"
    }
   ],
   "source": [
    "model = LinearRegression()\n",
    "model.fit(X=train_data, y=train_labels)"
   ]
  },
  {
   "cell_type": "code",
   "execution_count": 224,
   "metadata": {
    "collapsed": false
   },
   "outputs": [
    {
     "name": "stdout",
     "output_type": "stream",
     "text": [
      "MSE: 119562692785335.375\n",
      "RMSE: 10934472.680\n",
      "MAE: 4946369.837\n"
     ]
    },
    {
     "data": {
      "image/png": "[encoded data removed]",
      "text/plain": [
       "<matplotlib.figure.Figure at 0x10f15bc18>"
      ]
     },
     "metadata": {},
     "output_type": "display_data"
    }
   ],
   "source": [
    "accuracy_report(test_labels, model.predict(test_data))"
   ]
  },
  {
   "cell_type": "markdown",
   "metadata": {},
   "source": [
    "### 1.5"
   ]
  },
  {
   "cell_type": "markdown",
   "metadata": {},
   "source": [
    "#### Try to fill Livesp based on Totsp and Kitsp"
   ]
  },
  {
   "cell_type": "code",
   "execution_count": 225,
   "metadata": {
    "collapsed": false
   },
   "outputs": [],
   "source": [
    "kitsp_dropna_index = df['Kitsp'].dropna().index"
   ]
  },
  {
   "cell_type": "code",
   "execution_count": 226,
   "metadata": {
    "collapsed": false
   },
   "outputs": [],
   "source": [
    "livesp_dropna_index = df.loc[kitsp_na_index, ['Totsp', 'Livesp', 'Kitsp']].dropna().index"
   ]
  },
  {
   "cell_type": "code",
   "execution_count": 227,
   "metadata": {
    "collapsed": false
   },
   "outputs": [],
   "source": [
    "livesp_na_index = []\n",
    "for i in kitsp_dropna_index:\n",
    "    if i not in livesp_dropna_index:\n",
    "        livesp_na_index.append(i)"
   ]
  },
  {
   "cell_type": "code",
   "execution_count": 228,
   "metadata": {
    "collapsed": true
   },
   "outputs": [],
   "source": [
    "train_data, test_data, train_labels, test_labels = \\\n",
    "cross_validation.train_test_split(df.loc[livesp_dropna_index, ['Totsp', 'Kitsp']],\n",
    "                                  df.loc[livesp_dropna_index, 'Livesp'],\n",
    "                                  test_size = 0.1,\n",
    "                                  random_state=0)"
   ]
  },
  {
   "cell_type": "code",
   "execution_count": 229,
   "metadata": {
    "collapsed": false
   },
   "outputs": [
    {
     "data": {
      "text/plain": [
       "LinearRegression(copy_X=True, fit_intercept=True, n_jobs=1, normalize=False)"
      ]
     },
     "execution_count": 229,
     "metadata": {},
     "output_type": "execute_result"
    }
   ],
   "source": [
    "model_fill_lvsp = LinearRegression()\n",
    "model_fill_lvsp.fit(X=train_data, y=train_labels)"
   ]
  },
  {
   "cell_type": "code",
   "execution_count": 230,
   "metadata": {
    "collapsed": false
   },
   "outputs": [
    {
     "name": "stdout",
     "output_type": "stream",
     "text": [
      "MSE: 9.911\n",
      "RMSE: 3.148\n",
      "MAE: 2.153\n"
     ]
    },
    {
     "data": {
      "image/png": "[encoded data removed]",
      "text/plain": [
       "<matplotlib.figure.Figure at 0x10ff33e48>"
      ]
     },
     "metadata": {},
     "output_type": "display_data"
    }
   ],
   "source": [
    "accuracy_report(test_labels, model_fill_lvsp.predict(test_data))"
   ]
  },
  {
   "cell_type": "code",
   "execution_count": 231,
   "metadata": {
    "collapsed": false
   },
   "outputs": [
    {
     "data": {
      "text/plain": [
       "LinearRegression(copy_X=True, fit_intercept=True, n_jobs=1, normalize=False)"
      ]
     },
     "execution_count": 231,
     "metadata": {},
     "output_type": "execute_result"
    }
   ],
   "source": [
    "model_fill_lvsp = LinearRegression()\n",
    "model_fill_lvsp.fit(X=df.loc[livesp_dropna_index, ['Totsp', 'Kitsp']], y=df.loc[livesp_dropna_index, 'Livesp'])"
   ]
  },
  {
   "cell_type": "code",
   "execution_count": 232,
   "metadata": {
    "collapsed": false
   },
   "outputs": [],
   "source": [
    "pred_lvsp = model_fill_lvsp.predict(df.loc[livesp_na_index, ['Totsp', 'Kitsp']])"
   ]
  },
  {
   "cell_type": "markdown",
   "metadata": {},
   "source": [
    "##### Fill NaNs of Livesp in new DF."
   ]
  },
  {
   "cell_type": "code",
   "execution_count": 233,
   "metadata": {
    "collapsed": false
   },
   "outputs": [],
   "source": [
    "df_fill_lvsp = df.copy()"
   ]
  },
  {
   "cell_type": "code",
   "execution_count": 234,
   "metadata": {
    "collapsed": false
   },
   "outputs": [],
   "source": [
    "df_fill_lvsp.loc[livesp_na_index, 'Livesp'] = pred_lvsp"
   ]
  },
  {
   "cell_type": "markdown",
   "metadata": {},
   "source": [
    "##### Try linear regression with filled Livespace"
   ]
  },
  {
   "cell_type": "markdown",
   "metadata": {},
   "source": [
    "###### Lat, Lon, Rooms, Totsp, Kitsp, Dist, Metrdist, Walk, Tel, Bal, Floor, New\n",
    "###### Livesp (filled using ols)"
   ]
  },
  {
   "cell_type": "code",
   "execution_count": 235,
   "metadata": {
    "collapsed": true
   },
   "outputs": [],
   "source": [
    "data = df_fill_lvsp[['Lat', 'Lon', 'Rooms', 'Totsp', 'Livesp', 'Kitsp', 'Dist', 'Metrdist', 'Walk', 'Tel',\\\n",
    "           'Bal', 'Floor', 'New', 'Price_duplicate']].dropna()\n",
    "\n",
    "train_data, test_data, train_labels, test_labels = \\\n",
    "cross_validation.train_test_split(data.iloc[:, :-1],\n",
    "                                  data.iloc[:, -1],\n",
    "                                  test_size = 0.1,\n",
    "                                  random_state=0)"
   ]
  },
  {
   "cell_type": "code",
   "execution_count": 236,
   "metadata": {
    "collapsed": false
   },
   "outputs": [
    {
     "data": {
      "text/plain": [
       "7101"
      ]
     },
     "execution_count": 236,
     "metadata": {},
     "output_type": "execute_result"
    }
   ],
   "source": [
    "len(data)"
   ]
  },
  {
   "cell_type": "code",
   "execution_count": 237,
   "metadata": {
    "collapsed": false
   },
   "outputs": [
    {
     "data": {
      "text/plain": [
       "LinearRegression(copy_X=True, fit_intercept=True, n_jobs=1, normalize=False)"
      ]
     },
     "execution_count": 237,
     "metadata": {},
     "output_type": "execute_result"
    }
   ],
   "source": [
    "model = LinearRegression()\n",
    "model.fit(X=train_data, y=train_labels)"
   ]
  },
  {
   "cell_type": "code",
   "execution_count": 238,
   "metadata": {
    "collapsed": false
   },
   "outputs": [
    {
     "name": "stdout",
     "output_type": "stream",
     "text": [
      "MSE: 43872751658106.609\n",
      "RMSE: 6623650.931\n",
      "MAE: 3495594.676\n"
     ]
    },
    {
     "data": {
      "image/png": "[encoded data removed]",
      "text/plain": [
       "<matplotlib.figure.Figure at 0x110edd048>"
      ]
     },
     "metadata": {},
     "output_type": "display_data"
    }
   ],
   "source": [
    "accuracy_report(test_labels, model.predict(test_data))"
   ]
  },
  {
   "cell_type": "markdown",
   "metadata": {},
   "source": [
    "# Ridge regression"
   ]
  },
  {
   "cell_type": "code",
   "execution_count": 239,
   "metadata": {
    "collapsed": true
   },
   "outputs": [],
   "source": [
    "from sklearn.linear_model import Ridge"
   ]
  },
  {
   "cell_type": "markdown",
   "metadata": {},
   "source": [
    "Now we will do only 1,3 and 5 models with corresponding NaNs processing"
   ]
  },
  {
   "cell_type": "markdown",
   "metadata": {},
   "source": [
    "### 2.1"
   ]
  },
  {
   "cell_type": "markdown",
   "metadata": {},
   "source": [
    "#### Lat, Lon, Rooms, Totsp, Livesp, Kitsp, Dist, Metrdist, Walk, Brick, Tel, Bal, Floor, Nfloors, New"
   ]
  },
  {
   "cell_type": "code",
   "execution_count": 240,
   "metadata": {
    "collapsed": true
   },
   "outputs": [],
   "source": [
    "data = df[['Lat', 'Lon', 'Rooms', 'Totsp', 'Livesp', 'Kitsp', 'Dist', 'Metrdist', 'Walk', 'Brick', 'Tel',\\\n",
    "           'Bal', 'Floor', 'Nfloors', 'New', 'Price_duplicate']].dropna()\n",
    "\n",
    "train_data, test_data, train_labels, test_labels = \\\n",
    "cross_validation.train_test_split(data.iloc[:, :-1],\n",
    "                                  data.iloc[:, -1],\n",
    "                                  test_size = 0.1,\n",
    "                                  random_state=0)"
   ]
  },
  {
   "cell_type": "code",
   "execution_count": 241,
   "metadata": {
    "collapsed": false
   },
   "outputs": [
    {
     "data": {
      "text/plain": [
       "2167"
      ]
     },
     "execution_count": 241,
     "metadata": {},
     "output_type": "execute_result"
    }
   ],
   "source": [
    "len(data)"
   ]
  },
  {
   "cell_type": "code",
   "execution_count": 242,
   "metadata": {
    "collapsed": false
   },
   "outputs": [
    {
     "data": {
      "text/plain": [
       "Ridge(alpha=100, copy_X=True, fit_intercept=True, max_iter=None,\n",
       "   normalize=False, random_state=None, solver='auto', tol=0.001)"
      ]
     },
     "execution_count": 242,
     "metadata": {},
     "output_type": "execute_result"
    }
   ],
   "source": [
    "model = Ridge(alpha=100)\n",
    "model.fit(X=train_data, y=train_labels)"
   ]
  },
  {
   "cell_type": "code",
   "execution_count": 243,
   "metadata": {
    "collapsed": false
   },
   "outputs": [
    {
     "name": "stdout",
     "output_type": "stream",
     "text": [
      "MSE: 56547833261953.438\n",
      "RMSE: 7519829.337\n",
      "MAE: 4268952.654\n"
     ]
    },
    {
     "data": {
      "image/png": "[encoded data removed]",
      "text/plain": [
       "<matplotlib.figure.Figure at 0x110b6a1d0>"
      ]
     },
     "metadata": {},
     "output_type": "display_data"
    }
   ],
   "source": [
    "accuracy_report(test_labels, model.predict(test_data))"
   ]
  },
  {
   "cell_type": "markdown",
   "metadata": {},
   "source": [
    "### 2.3"
   ]
  },
  {
   "cell_type": "markdown",
   "metadata": {},
   "source": [
    "#### Lat, Lon, Rooms, Totsp, Kitsp, Dist, Metrdist, Walk, Tel, Bal, Floor, New\n",
    "#### Drop these variables: Livesp (too much NaNs), Brick (too much NaNs), Nfloors (May be it's not important plus highly correlated with floors)"
   ]
  },
  {
   "cell_type": "code",
   "execution_count": 244,
   "metadata": {
    "collapsed": true
   },
   "outputs": [],
   "source": [
    "data = df[['Lat', 'Lon', 'Rooms', 'Totsp', 'Kitsp', 'Dist', 'Metrdist', 'Walk', 'Tel',\\\n",
    "           'Bal', 'Floor', 'New', 'Price_duplicate']].dropna()\n",
    "\n",
    "train_data, test_data, train_labels, test_labels = \\\n",
    "cross_validation.train_test_split(data.iloc[:, :-1],\n",
    "                                  data.iloc[:, -1],\n",
    "                                  test_size = 0.1,\n",
    "                                  random_state=0)"
   ]
  },
  {
   "cell_type": "code",
   "execution_count": 245,
   "metadata": {
    "collapsed": false
   },
   "outputs": [
    {
     "data": {
      "text/plain": [
       "7101"
      ]
     },
     "execution_count": 245,
     "metadata": {},
     "output_type": "execute_result"
    }
   ],
   "source": [
    "len(data)"
   ]
  },
  {
   "cell_type": "code",
   "execution_count": 246,
   "metadata": {
    "collapsed": false
   },
   "outputs": [
    {
     "data": {
      "text/plain": [
       "Ridge(alpha=100, copy_X=True, fit_intercept=True, max_iter=None,\n",
       "   normalize=False, random_state=None, solver='auto', tol=0.001)"
      ]
     },
     "execution_count": 246,
     "metadata": {},
     "output_type": "execute_result"
    }
   ],
   "source": [
    "model = Ridge(alpha=100)\n",
    "model.fit(X=train_data, y=train_labels)"
   ]
  },
  {
   "cell_type": "code",
   "execution_count": 247,
   "metadata": {
    "collapsed": false
   },
   "outputs": [
    {
     "name": "stdout",
     "output_type": "stream",
     "text": [
      "MSE: 41414884214443.859\n",
      "RMSE: 6435439.706\n",
      "MAE: 3420698.977\n"
     ]
    },
    {
     "data": {
      "image/png": "[encoded data removed]",
      "text/plain": [
       "<matplotlib.figure.Figure at 0x10f391a58>"
      ]
     },
     "metadata": {},
     "output_type": "display_data"
    }
   ],
   "source": [
    "accuracy_report(test_labels, model.predict(test_data))"
   ]
  },
  {
   "cell_type": "markdown",
   "metadata": {},
   "source": [
    "### 2.5"
   ]
  },
  {
   "cell_type": "markdown",
   "metadata": {},
   "source": [
    "##### Lat, Lon, Rooms, Totsp, Kitsp, Dist, Metrdist, Walk, Tel, Bal, Floor, New\n",
    "##### Livesp (filled using ols)"
   ]
  },
  {
   "cell_type": "code",
   "execution_count": 248,
   "metadata": {
    "collapsed": true
   },
   "outputs": [],
   "source": [
    "data = df_fill_lvsp[['Lat', 'Lon', 'Rooms', 'Totsp', 'Livesp', 'Kitsp', 'Dist', 'Metrdist', 'Walk', 'Tel',\\\n",
    "           'Bal', 'Floor', 'New', 'Price_duplicate']].dropna()\n",
    "\n",
    "train_data, test_data, train_labels, test_labels = \\\n",
    "cross_validation.train_test_split(data.iloc[:, :-1],\n",
    "                                  data.iloc[:, -1],\n",
    "                                  test_size = 0.1,\n",
    "                                  random_state=0)"
   ]
  },
  {
   "cell_type": "code",
   "execution_count": 249,
   "metadata": {
    "collapsed": false
   },
   "outputs": [
    {
     "data": {
      "text/plain": [
       "7101"
      ]
     },
     "execution_count": 249,
     "metadata": {},
     "output_type": "execute_result"
    }
   ],
   "source": [
    "len(data)"
   ]
  },
  {
   "cell_type": "code",
   "execution_count": 250,
   "metadata": {
    "collapsed": false
   },
   "outputs": [
    {
     "name": "stdout",
     "output_type": "stream",
     "text": [
      "MSE: 43771055016797.391\n",
      "RMSE: 6615969.696\n",
      "MAE: 3476043.100\n"
     ]
    },
    {
     "data": {
      "image/png": "[encoded data removed]",
      "text/plain": [
       "<matplotlib.figure.Figure at 0x10f8e2198>"
      ]
     },
     "metadata": {},
     "output_type": "display_data"
    }
   ],
   "source": [
    "model = Ridge(alpha=100)\n",
    "model.fit(X=train_data, y=train_labels)\n",
    "accuracy_report(test_labels, model.predict(test_data))"
   ]
  },
  {
   "cell_type": "markdown",
   "metadata": {},
   "source": [
    "# Lasso regression"
   ]
  },
  {
   "cell_type": "markdown",
   "metadata": {},
   "source": [
    "Here we will use only 3 and 5"
   ]
  },
  {
   "cell_type": "code",
   "execution_count": 251,
   "metadata": {
    "collapsed": true
   },
   "outputs": [],
   "source": [
    "from sklearn.linear_model import Lasso"
   ]
  },
  {
   "cell_type": "markdown",
   "metadata": {},
   "source": [
    "### 3.3"
   ]
  },
  {
   "cell_type": "markdown",
   "metadata": {},
   "source": [
    "##### Lat, Lon, Rooms, Totsp, Kitsp, Dist, Metrdist, Walk, Tel, Bal, Floor, New\n",
    "##### Drop these variables: Livesp (too much NaNs), Brick (too much NaNs), Nfloors (May be it's not important plus highly correlated with floors)"
   ]
  },
  {
   "cell_type": "code",
   "execution_count": 252,
   "metadata": {
    "collapsed": true
   },
   "outputs": [],
   "source": [
    "data = df[['Lat', 'Lon', 'Rooms', 'Totsp', 'Kitsp', 'Dist', 'Metrdist', 'Walk', 'Tel',\\\n",
    "           'Bal', 'Floor', 'New', 'Price_duplicate']].dropna()\n",
    "\n",
    "train_data, test_data, train_labels, test_labels = \\\n",
    "cross_validation.train_test_split(data.iloc[:, :-1],\n",
    "                                  data.iloc[:, -1],\n",
    "                                  test_size = 0.1,\n",
    "                                  random_state=0)"
   ]
  },
  {
   "cell_type": "code",
   "execution_count": 253,
   "metadata": {
    "collapsed": false
   },
   "outputs": [
    {
     "name": "stdout",
     "output_type": "stream",
     "text": [
      "MSE: 41462962302305.578\n",
      "RMSE: 6439174.039\n",
      "MAE: 3417211.207\n"
     ]
    },
    {
     "data": {
      "image/png": "[encoded data removed]",
      "text/plain": [
       "<matplotlib.figure.Figure at 0x10f1662b0>"
      ]
     },
     "metadata": {},
     "output_type": "display_data"
    }
   ],
   "source": [
    "model = Lasso(alpha=120000)\n",
    "model.fit(X=train_data, y=train_labels)\n",
    "accuracy_report(test_labels, model.predict(test_data))"
   ]
  },
  {
   "cell_type": "markdown",
   "metadata": {},
   "source": [
    "### 3.5"
   ]
  },
  {
   "cell_type": "markdown",
   "metadata": {},
   "source": [
    "##### Lat, Lon, Rooms, Totsp, Kitsp, Dist, Metrdist, Walk, Tel, Bal, Floor, New\n",
    "##### Livesp (filled using ols)"
   ]
  },
  {
   "cell_type": "code",
   "execution_count": 254,
   "metadata": {
    "collapsed": true
   },
   "outputs": [],
   "source": [
    "data = df_fill_lvsp[['Lat', 'Lon', 'Rooms', 'Totsp', 'Livesp', 'Kitsp', 'Dist', 'Metrdist', 'Walk', 'Tel',\\\n",
    "           'Bal', 'Floor', 'New', 'Price_duplicate']].dropna()\n",
    "\n",
    "train_data, test_data, train_labels, test_labels = \\\n",
    "cross_validation.train_test_split(data.iloc[:, :-1],\n",
    "                                  data.iloc[:, -1],\n",
    "                                  test_size = 0.1,\n",
    "                                  random_state=0)"
   ]
  },
  {
   "cell_type": "code",
   "execution_count": 255,
   "metadata": {
    "collapsed": false
   },
   "outputs": [
    {
     "name": "stdout",
     "output_type": "stream",
     "text": [
      "MSE: 43436176369706.914\n",
      "RMSE: 6590612.746\n",
      "MAE: 3464566.546\n"
     ]
    },
    {
     "data": {
      "image/png": "[encoded data removed]",
      "text/plain": [
       "<matplotlib.figure.Figure at 0x10f166f28>"
      ]
     },
     "metadata": {},
     "output_type": "display_data"
    }
   ],
   "source": [
    "model = Lasso(alpha=130000)\n",
    "model.fit(X=train_data, y=train_labels)\n",
    "accuracy_report(test_labels, model.predict(test_data))"
   ]
  },
  {
   "cell_type": "markdown",
   "metadata": {},
   "source": [
    "# Random Forest Regression"
   ]
  },
  {
   "cell_type": "markdown",
   "metadata": {},
   "source": [
    "Here we will use 3 and 5 too (but we will fill NaNs in Livwsp using RFReg too)."
   ]
  },
  {
   "cell_type": "code",
   "execution_count": 256,
   "metadata": {
    "collapsed": true
   },
   "outputs": [],
   "source": [
    "from sklearn.ensemble import RandomForestRegressor"
   ]
  },
  {
   "cell_type": "markdown",
   "metadata": {},
   "source": [
    "### 4.3"
   ]
  },
  {
   "cell_type": "markdown",
   "metadata": {},
   "source": [
    "##### Lat, Lon, Rooms, Totsp, Kitsp, Dist, Metrdist, Walk, Tel, Bal, Floor, New\n",
    "##### Drop these variables: Livesp (too much NaNs), Brick (too much NaNs), Nfloors (May be it's not important plus highly correlated with floors)"
   ]
  },
  {
   "cell_type": "code",
   "execution_count": 257,
   "metadata": {
    "collapsed": true
   },
   "outputs": [],
   "source": [
    "data = df[['Lat', 'Lon', 'Rooms', 'Totsp', 'Kitsp', 'Dist', 'Metrdist', 'Walk', 'Tel',\\\n",
    "           'Bal', 'Floor', 'New', 'Price_duplicate']].dropna()\n",
    "\n",
    "train_data, test_data, train_labels, test_labels = \\\n",
    "cross_validation.train_test_split(data.iloc[:, :-1],\n",
    "                                  data.iloc[:, -1],\n",
    "                                  test_size = 0.1,\n",
    "                                  random_state=0)"
   ]
  },
  {
   "cell_type": "code",
   "execution_count": 268,
   "metadata": {
    "collapsed": false
   },
   "outputs": [
    {
     "name": "stdout",
     "output_type": "stream",
     "text": [
      "MSE: 38075789723318.562\n",
      "RMSE: 6170558.299\n",
      "MAE: 1548184.587\n"
     ]
    },
    {
     "data": {
      "image/png": "[encoded data removed]",
      "text/plain": [
       "<matplotlib.figure.Figure at 0x10f8ed7b8>"
      ]
     },
     "metadata": {},
     "output_type": "display_data"
    }
   ],
   "source": [
    "model = RandomForestRegressor(n_estimators=500, max_depth=20)\n",
    "model.fit(X=train_data, y=train_labels)\n",
    "accuracy_report(test_labels, model.predict(test_data))"
   ]
  },
  {
   "cell_type": "markdown",
   "metadata": {},
   "source": [
    "### 4.5"
   ]
  },
  {
   "cell_type": "code",
   "execution_count": 269,
   "metadata": {
    "collapsed": true
   },
   "outputs": [],
   "source": [
    "train_data, test_data, train_labels, test_labels = \\\n",
    "cross_validation.train_test_split(df.loc[livesp_dropna_index, ['Totsp', 'Kitsp']],\n",
    "                                  df.loc[livesp_dropna_index, 'Livesp'],\n",
    "                                  test_size = 0.1,\n",
    "                                  random_state=0)"
   ]
  },
  {
   "cell_type": "code",
   "execution_count": 281,
   "metadata": {
    "collapsed": false
   },
   "outputs": [
    {
     "name": "stdout",
     "output_type": "stream",
     "text": [
      "MSE: 9.243\n",
      "RMSE: 3.040\n",
      "MAE: 1.836\n"
     ]
    },
    {
     "data": {
      "image/png": "[encoded data removed]",
      "text/plain": [
       "<matplotlib.figure.Figure at 0x10591e240>"
      ]
     },
     "metadata": {},
     "output_type": "display_data"
    }
   ],
   "source": [
    "model_fill_lvsp_RF = RandomForestRegressor(n_estimators=400, max_depth=20)\n",
    "model_fill_lvsp_RF.fit(X=train_data, y=train_labels)\n",
    "accuracy_report(test_labels, model_fill_lvsp_RF.predict(test_data))"
   ]
  },
  {
   "cell_type": "code",
   "execution_count": 282,
   "metadata": {
    "collapsed": false
   },
   "outputs": [
    {
     "data": {
      "text/plain": [
       "RandomForestRegressor(bootstrap=True, criterion='mse', max_depth=20,\n",
       "           max_features='auto', max_leaf_nodes=None, min_samples_leaf=1,\n",
       "           min_samples_split=2, min_weight_fraction_leaf=0.0,\n",
       "           n_estimators=400, n_jobs=1, oob_score=False, random_state=None,\n",
       "           verbose=0, warm_start=False)"
      ]
     },
     "execution_count": 282,
     "metadata": {},
     "output_type": "execute_result"
    }
   ],
   "source": [
    "model_fill_lvsp_RF = RandomForestRegressor(n_estimators=400, max_depth=20)\n",
    "model_fill_lvsp_RF.fit(X=df.loc[livesp_dropna_index, ['Totsp', 'Kitsp']], y=df.loc[livesp_dropna_index, 'Livesp'])"
   ]
  },
  {
   "cell_type": "code",
   "execution_count": 283,
   "metadata": {
    "collapsed": true
   },
   "outputs": [],
   "source": [
    "pred_lvsp_RF = model_fill_lvsp_RF.predict(df.loc[livesp_na_index, ['Totsp', 'Kitsp']])"
   ]
  },
  {
   "cell_type": "code",
   "execution_count": 284,
   "metadata": {
    "collapsed": true
   },
   "outputs": [],
   "source": [
    "df_fill_lvsp_RF = df.copy()"
   ]
  },
  {
   "cell_type": "code",
   "execution_count": 285,
   "metadata": {
    "collapsed": true
   },
   "outputs": [],
   "source": [
    "df_fill_lvsp_RF.loc[livesp_na_index, 'Livesp'] = pred_lvsp_RF"
   ]
  },
  {
   "cell_type": "code",
   "execution_count": 286,
   "metadata": {
    "collapsed": true
   },
   "outputs": [],
   "source": [
    "data = df_fill_lvsp_RF[['Lat', 'Lon', 'Rooms', 'Totsp', 'Livesp', 'Kitsp', 'Dist', 'Metrdist', 'Walk', 'Tel',\\\n",
    "           'Bal', 'Floor', 'New', 'Price_duplicate']].dropna()\n",
    "\n",
    "train_data, test_data, train_labels, test_labels = \\\n",
    "cross_validation.train_test_split(data.iloc[:, :-1],\n",
    "                                  data.iloc[:, -1],\n",
    "                                  test_size = 0.1,\n",
    "                                  random_state=0)"
   ]
  },
  {
   "cell_type": "code",
   "execution_count": 291,
   "metadata": {
    "collapsed": false
   },
   "outputs": [
    {
     "name": "stdout",
     "output_type": "stream",
     "text": [
      "MSE: 29154912181345.852\n",
      "RMSE: 5399528.885\n",
      "MAE: 1517823.173\n"
     ]
    },
    {
     "data": {
      "image/png": "[encoded data removed]",
      "text/plain": [
       "<matplotlib.figure.Figure at 0x10f8f3940>"
      ]
     },
     "metadata": {},
     "output_type": "display_data"
    }
   ],
   "source": [
    "model = RandomForestRegressor(n_estimators=400, max_depth=30)\n",
    "model.fit(X=train_data, y=train_labels)\n",
    "accuracy_report(test_labels, model.predict(test_data))"
   ]
  }
 ],
 "metadata": {
  "kernelspec": {
   "display_name": "Python 3",
   "language": "python",
   "name": "python3"
  },
  "language_info": {
   "codemirror_mode": {
    "name": "ipython",
    "version": 3
   },
   "file_extension": ".py",
   "mimetype": "text/x-python",
   "name": "python",
   "nbconvert_exporter": "python",
   "pygments_lexer": "ipython3",
   "version": "3.5.2"
  }
 },
 "nbformat": 4,
 "nbformat_minor": 0
}
