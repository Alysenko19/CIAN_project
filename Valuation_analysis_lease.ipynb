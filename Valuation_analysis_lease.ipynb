{
 "cells": [
  {
   "cell_type": "code",
   "execution_count": 1,
   "metadata": {
    "collapsed": true
   },
   "outputs": [],
   "source": [
    "import pandas as pd\n",
    "import numpy as np\n",
    "import seaborn as sns\n",
    "import matplotlib.pyplot as plt\n",
    "\n",
    "from statsmodels.formula.api import ols\n",
    "\n",
    "%matplotlib inline"
   ]
  },
  {
   "cell_type": "markdown",
   "metadata": {},
   "source": [
    "#### Data downloading"
   ]
  },
  {
   "cell_type": "code",
   "execution_count": 85,
   "metadata": {
    "collapsed": true
   },
   "outputs": [],
   "source": [
    "df1 = pd.read_csv('lease_result/flats_0_4000.csv')"
   ]
  },
  {
   "cell_type": "code",
   "execution_count": 86,
   "metadata": {
    "collapsed": true
   },
   "outputs": [],
   "source": [
    "df2 = pd.read_csv('lease_result/flats_4000_8000.csv')"
   ]
  },
  {
   "cell_type": "code",
   "execution_count": 87,
   "metadata": {
    "collapsed": true
   },
   "outputs": [],
   "source": [
    "df3 = pd.read_csv('lease_result/flats_8000_12000.csv')"
   ]
  },
  {
   "cell_type": "code",
   "execution_count": 88,
   "metadata": {
    "collapsed": true
   },
   "outputs": [],
   "source": [
    "df4 = pd.read_csv('lease_result/flats_12000_end.csv')"
   ]
  },
  {
   "cell_type": "code",
   "execution_count": 89,
   "metadata": {
    "collapsed": true
   },
   "outputs": [],
   "source": [
    "df5 = pd.read_csv('lease_result/flats_zap.csv')"
   ]
  },
  {
   "cell_type": "code",
   "execution_count": 90,
   "metadata": {
    "collapsed": true
   },
   "outputs": [],
   "source": [
    "df = pd.concat([df1, df2, df3, df4, df5])"
   ]
  },
  {
   "cell_type": "code",
   "execution_count": 91,
   "metadata": {
    "collapsed": false
   },
   "outputs": [],
   "source": [
    "df = df.iloc[:, 1:]"
   ]
  },
  {
   "cell_type": "code",
   "execution_count": 92,
   "metadata": {
    "collapsed": true
   },
   "outputs": [],
   "source": [
    "df = df[['Lat', 'Lon', 'District', 'Small_district', 'Rooms', 'Price', 'Price_duplicate', 'Totsp', 'Livesp',\\\n",
    " 'Kitsp', 'Dist', 'Stname', 'Metrdist', 'Walk', 'Rem', 'Brick', 'Tel', 'Bal', 'Floor', 'Nfloors', 'New','Link']]"
   ]
  },
  {
   "cell_type": "markdown",
   "metadata": {},
   "source": [
    "#### Our apartment"
   ]
  },
  {
   "cell_type": "code",
   "execution_count": 93,
   "metadata": {
    "collapsed": true
   },
   "outputs": [],
   "source": [
    "our_flat = {'lon': 37.604610,'lat': 55.866111, 'rooms': 1, 'totsp': 37.8, 'kitsp': 7.4, \\\n",
    "            'bal': 1, 'tel': 1, 'floor': 6/17, 'Metrdist': 5, 'Walk': 1}"
   ]
  },
  {
   "cell_type": "markdown",
   "metadata": {},
   "source": [
    "### Find comparable"
   ]
  },
  {
   "cell_type": "markdown",
   "metadata": {},
   "source": [
    "For Metro"
   ]
  },
  {
   "cell_type": "code",
   "execution_count": 338,
   "metadata": {
    "collapsed": false
   },
   "outputs": [],
   "source": [
    "df_comp = df[df['Small_district']=='Отрадное'].copy()"
   ]
  },
  {
   "cell_type": "code",
   "execution_count": 215,
   "metadata": {
    "collapsed": false
   },
   "outputs": [],
   "source": [
    "sp_comp = ((df_comp['Totsp'] <= 38) & (df_comp['Totsp'] >= 37))\n",
    "df_comp = df_comp[sp_comp].copy()"
   ]
  },
  {
   "cell_type": "code",
   "execution_count": 218,
   "metadata": {
    "collapsed": false
   },
   "outputs": [],
   "source": [
    "df_comp['Floor_index'] = df_comp['Floor']/df_comp['Nfloors']\n",
    "fl_comp = ((df_comp['Floor']>1) & (df_comp['Floor_index']<1))\n",
    "df_comp = df_comp[fl_comp]"
   ]
  },
  {
   "cell_type": "code",
   "execution_count": 220,
   "metadata": {
    "collapsed": false
   },
   "outputs": [],
   "source": [
    "df_comp = df_comp[df_comp['Bal'] == 1]"
   ]
  },
  {
   "cell_type": "code",
   "execution_count": 231,
   "metadata": {
    "collapsed": false
   },
   "outputs": [],
   "source": [
    "df_comp = df_comp[df_comp['Walk']==1]"
   ]
  },
  {
   "cell_type": "code",
   "execution_count": 248,
   "metadata": {
    "collapsed": false
   },
   "outputs": [
    {
     "data": {
      "text/html": [
       "<div>\n",
       "<table border=\"1\" class=\"dataframe\">\n",
       "  <thead>\n",
       "    <tr style=\"text-align: right;\">\n",
       "      <th></th>\n",
       "      <th>Lat</th>\n",
       "      <th>Lon</th>\n",
       "      <th>District</th>\n",
       "      <th>Small_district</th>\n",
       "      <th>Rooms</th>\n",
       "      <th>Price</th>\n",
       "      <th>Price_duplicate</th>\n",
       "      <th>Totsp</th>\n",
       "      <th>Livesp</th>\n",
       "      <th>Kitsp</th>\n",
       "      <th>...</th>\n",
       "      <th>Walk</th>\n",
       "      <th>Rem</th>\n",
       "      <th>Brick</th>\n",
       "      <th>Tel</th>\n",
       "      <th>Bal</th>\n",
       "      <th>Floor</th>\n",
       "      <th>Nfloors</th>\n",
       "      <th>New</th>\n",
       "      <th>Link</th>\n",
       "      <th>Floor_index</th>\n",
       "    </tr>\n",
       "  </thead>\n",
       "  <tbody>\n",
       "    <tr>\n",
       "      <th>928</th>\n",
       "      <td>55.861231</td>\n",
       "      <td>37.596309</td>\n",
       "      <td>2</td>\n",
       "      <td>Отрадное</td>\n",
       "      <td>1</td>\n",
       "      <td>33000</td>\n",
       "      <td>33000.0</td>\n",
       "      <td>38</td>\n",
       "      <td>10</td>\n",
       "      <td>20</td>\n",
       "      <td>...</td>\n",
       "      <td>1</td>\n",
       "      <td>евроремонт</td>\n",
       "      <td>0</td>\n",
       "      <td>0</td>\n",
       "      <td>1</td>\n",
       "      <td>11</td>\n",
       "      <td>17</td>\n",
       "      <td>NaN</td>\n",
       "      <td>http://www.cian.ru/rent/flat/151563096/</td>\n",
       "      <td>0.647059</td>\n",
       "    </tr>\n",
       "    <tr>\n",
       "      <th>1841</th>\n",
       "      <td>55.870991</td>\n",
       "      <td>37.617527</td>\n",
       "      <td>2</td>\n",
       "      <td>Отрадное</td>\n",
       "      <td>1</td>\n",
       "      <td>26000</td>\n",
       "      <td>26000.0</td>\n",
       "      <td>38</td>\n",
       "      <td>NaN</td>\n",
       "      <td>21</td>\n",
       "      <td>...</td>\n",
       "      <td>1</td>\n",
       "      <td>косметический</td>\n",
       "      <td>0</td>\n",
       "      <td>0</td>\n",
       "      <td>1</td>\n",
       "      <td>3</td>\n",
       "      <td>9</td>\n",
       "      <td>NaN</td>\n",
       "      <td>http://www.cian.ru/rent/flat/151343146/</td>\n",
       "      <td>0.333333</td>\n",
       "    </tr>\n",
       "    <tr>\n",
       "      <th>2319</th>\n",
       "      <td>55.875213</td>\n",
       "      <td>37.590686</td>\n",
       "      <td>2</td>\n",
       "      <td>Отрадное</td>\n",
       "      <td>1</td>\n",
       "      <td>33000</td>\n",
       "      <td>33000.0</td>\n",
       "      <td>38</td>\n",
       "      <td>NaN</td>\n",
       "      <td>18</td>\n",
       "      <td>...</td>\n",
       "      <td>1</td>\n",
       "      <td>евроремонт</td>\n",
       "      <td>0</td>\n",
       "      <td>0</td>\n",
       "      <td>1</td>\n",
       "      <td>13</td>\n",
       "      <td>22</td>\n",
       "      <td>1</td>\n",
       "      <td>http://www.cian.ru/rent/flat/151447955/</td>\n",
       "      <td>0.590909</td>\n",
       "    </tr>\n",
       "    <tr>\n",
       "      <th>124</th>\n",
       "      <td>55.857644</td>\n",
       "      <td>37.619603</td>\n",
       "      <td>2</td>\n",
       "      <td>Отрадное</td>\n",
       "      <td>1</td>\n",
       "      <td>32000</td>\n",
       "      <td>32000.0</td>\n",
       "      <td>38</td>\n",
       "      <td>12</td>\n",
       "      <td>18</td>\n",
       "      <td>...</td>\n",
       "      <td>1</td>\n",
       "      <td>отсутствует</td>\n",
       "      <td>1</td>\n",
       "      <td>0</td>\n",
       "      <td>1</td>\n",
       "      <td>10</td>\n",
       "      <td>16</td>\n",
       "      <td>1</td>\n",
       "      <td>http://www.cian.ru/rent/flat/151461014/</td>\n",
       "      <td>0.625000</td>\n",
       "    </tr>\n",
       "    <tr>\n",
       "      <th>976</th>\n",
       "      <td>55.861135</td>\n",
       "      <td>37.590973</td>\n",
       "      <td>2</td>\n",
       "      <td>Отрадное</td>\n",
       "      <td>1</td>\n",
       "      <td>50000</td>\n",
       "      <td>50000.0</td>\n",
       "      <td>37</td>\n",
       "      <td>10</td>\n",
       "      <td>20</td>\n",
       "      <td>...</td>\n",
       "      <td>1</td>\n",
       "      <td>косметический</td>\n",
       "      <td>0</td>\n",
       "      <td>0</td>\n",
       "      <td>1</td>\n",
       "      <td>14</td>\n",
       "      <td>17</td>\n",
       "      <td>NaN</td>\n",
       "      <td>http://www.cian.ru/rent/flat/151604814/</td>\n",
       "      <td>0.823529</td>\n",
       "    </tr>\n",
       "    <tr>\n",
       "      <th>1524</th>\n",
       "      <td>55.863949</td>\n",
       "      <td>37.607754</td>\n",
       "      <td>2</td>\n",
       "      <td>Отрадное</td>\n",
       "      <td>1</td>\n",
       "      <td>38000</td>\n",
       "      <td>38000.0</td>\n",
       "      <td>38</td>\n",
       "      <td>10</td>\n",
       "      <td>28</td>\n",
       "      <td>...</td>\n",
       "      <td>1</td>\n",
       "      <td>евроремонт</td>\n",
       "      <td>0</td>\n",
       "      <td>0</td>\n",
       "      <td>1</td>\n",
       "      <td>4</td>\n",
       "      <td>9</td>\n",
       "      <td>NaN</td>\n",
       "      <td>http://www.cian.ru/rent/flat/151210069/</td>\n",
       "      <td>0.444444</td>\n",
       "    </tr>\n",
       "    <tr>\n",
       "      <th>360</th>\n",
       "      <td>55.875213</td>\n",
       "      <td>37.590686</td>\n",
       "      <td>2</td>\n",
       "      <td>Отрадное</td>\n",
       "      <td>1</td>\n",
       "      <td>33000</td>\n",
       "      <td>33000.0</td>\n",
       "      <td>38</td>\n",
       "      <td>NaN</td>\n",
       "      <td>18</td>\n",
       "      <td>...</td>\n",
       "      <td>1</td>\n",
       "      <td>евроремонт</td>\n",
       "      <td>0</td>\n",
       "      <td>0</td>\n",
       "      <td>1</td>\n",
       "      <td>13</td>\n",
       "      <td>22</td>\n",
       "      <td>1</td>\n",
       "      <td>http://www.cian.ru/rent/flat/151448495/</td>\n",
       "      <td>0.590909</td>\n",
       "    </tr>\n",
       "    <tr>\n",
       "      <th>739</th>\n",
       "      <td>55.861135</td>\n",
       "      <td>37.590973</td>\n",
       "      <td>2</td>\n",
       "      <td>Отрадное</td>\n",
       "      <td>1</td>\n",
       "      <td>50000</td>\n",
       "      <td>50000.0</td>\n",
       "      <td>37</td>\n",
       "      <td>NaN</td>\n",
       "      <td>22</td>\n",
       "      <td>...</td>\n",
       "      <td>1</td>\n",
       "      <td>NaN</td>\n",
       "      <td>0</td>\n",
       "      <td>0</td>\n",
       "      <td>1</td>\n",
       "      <td>14</td>\n",
       "      <td>17</td>\n",
       "      <td>NaN</td>\n",
       "      <td>http://www.cian.ru/rent/flat/151616929/</td>\n",
       "      <td>0.823529</td>\n",
       "    </tr>\n",
       "    <tr>\n",
       "      <th>1129</th>\n",
       "      <td>55.870688</td>\n",
       "      <td>37.612461</td>\n",
       "      <td>2</td>\n",
       "      <td>Отрадное</td>\n",
       "      <td>1</td>\n",
       "      <td>34000</td>\n",
       "      <td>34000.0</td>\n",
       "      <td>38</td>\n",
       "      <td>10</td>\n",
       "      <td>21</td>\n",
       "      <td>...</td>\n",
       "      <td>1</td>\n",
       "      <td>косметический</td>\n",
       "      <td>0</td>\n",
       "      <td>0</td>\n",
       "      <td>1</td>\n",
       "      <td>17</td>\n",
       "      <td>18</td>\n",
       "      <td>NaN</td>\n",
       "      <td>http://www.cian.ru/rent/flat/151609055/</td>\n",
       "      <td>0.944444</td>\n",
       "    </tr>\n",
       "    <tr>\n",
       "      <th>2213</th>\n",
       "      <td>55.865510</td>\n",
       "      <td>37.616656</td>\n",
       "      <td>2</td>\n",
       "      <td>Отрадное</td>\n",
       "      <td>1</td>\n",
       "      <td>30000</td>\n",
       "      <td>30000.0</td>\n",
       "      <td>38</td>\n",
       "      <td>NaN</td>\n",
       "      <td>20</td>\n",
       "      <td>...</td>\n",
       "      <td>1</td>\n",
       "      <td>косметический</td>\n",
       "      <td>0</td>\n",
       "      <td>0</td>\n",
       "      <td>1</td>\n",
       "      <td>7</td>\n",
       "      <td>9</td>\n",
       "      <td>1</td>\n",
       "      <td>http://www.cian.ru/rent/flat/151619306/</td>\n",
       "      <td>0.777778</td>\n",
       "    </tr>\n",
       "  </tbody>\n",
       "</table>\n",
       "<p>10 rows × 23 columns</p>\n",
       "</div>"
      ],
      "text/plain": [
       "            Lat        Lon  District Small_district  Rooms  Price  \\\n",
       "928   55.861231  37.596309         2       Отрадное      1  33000   \n",
       "1841  55.870991  37.617527         2       Отрадное      1  26000   \n",
       "2319  55.875213  37.590686         2       Отрадное      1  33000   \n",
       "124   55.857644  37.619603         2       Отрадное      1  32000   \n",
       "976   55.861135  37.590973         2       Отрадное      1  50000   \n",
       "1524  55.863949  37.607754         2       Отрадное      1  38000   \n",
       "360   55.875213  37.590686         2       Отрадное      1  33000   \n",
       "739   55.861135  37.590973         2       Отрадное      1  50000   \n",
       "1129  55.870688  37.612461         2       Отрадное      1  34000   \n",
       "2213  55.865510  37.616656         2       Отрадное      1  30000   \n",
       "\n",
       "     Price_duplicate  Totsp  Livesp  Kitsp     ...       Walk            Rem  \\\n",
       "928          33000.0     38      10     20     ...          1     евроремонт   \n",
       "1841         26000.0     38     NaN     21     ...          1  косметический   \n",
       "2319         33000.0     38     NaN     18     ...          1     евроремонт   \n",
       "124          32000.0     38      12     18     ...          1    отсутствует   \n",
       "976          50000.0     37      10     20     ...          1  косметический   \n",
       "1524         38000.0     38      10     28     ...          1     евроремонт   \n",
       "360          33000.0     38     NaN     18     ...          1     евроремонт   \n",
       "739          50000.0     37     NaN     22     ...          1            NaN   \n",
       "1129         34000.0     38      10     21     ...          1  косметический   \n",
       "2213         30000.0     38     NaN     20     ...          1  косметический   \n",
       "\n",
       "      Brick  Tel Bal  Floor  Nfloors  New  \\\n",
       "928       0    0   1     11       17  NaN   \n",
       "1841      0    0   1      3        9  NaN   \n",
       "2319      0    0   1     13       22    1   \n",
       "124       1    0   1     10       16    1   \n",
       "976       0    0   1     14       17  NaN   \n",
       "1524      0    0   1      4        9  NaN   \n",
       "360       0    0   1     13       22    1   \n",
       "739       0    0   1     14       17  NaN   \n",
       "1129      0    0   1     17       18  NaN   \n",
       "2213      0    0   1      7        9    1   \n",
       "\n",
       "                                         Link  Floor_index  \n",
       "928   http://www.cian.ru/rent/flat/151563096/     0.647059  \n",
       "1841  http://www.cian.ru/rent/flat/151343146/     0.333333  \n",
       "2319  http://www.cian.ru/rent/flat/151447955/     0.590909  \n",
       "124   http://www.cian.ru/rent/flat/151461014/     0.625000  \n",
       "976   http://www.cian.ru/rent/flat/151604814/     0.823529  \n",
       "1524  http://www.cian.ru/rent/flat/151210069/     0.444444  \n",
       "360   http://www.cian.ru/rent/flat/151448495/     0.590909  \n",
       "739   http://www.cian.ru/rent/flat/151616929/     0.823529  \n",
       "1129  http://www.cian.ru/rent/flat/151609055/     0.944444  \n",
       "2213  http://www.cian.ru/rent/flat/151619306/     0.777778  \n",
       "\n",
       "[10 rows x 23 columns]"
      ]
     },
     "execution_count": 248,
     "metadata": {},
     "output_type": "execute_result"
    }
   ],
   "source": [
    "df_comp"
   ]
  },
  {
   "cell_type": "markdown",
   "metadata": {},
   "source": [
    "Very similar flat"
   ]
  },
  {
   "cell_type": "code",
   "execution_count": 233,
   "metadata": {
    "collapsed": false
   },
   "outputs": [
    {
     "data": {
      "text/plain": [
       "Lat                                                55.8612\n",
       "Lon                                                37.5963\n",
       "District                                                 2\n",
       "Small_district                                    Отрадное\n",
       "Rooms                                                    1\n",
       "Price                                                33000\n",
       "Price_duplicate                                    33000.0\n",
       "Totsp                                                   38\n",
       "Livesp                                                  10\n",
       "Kitsp                                                   20\n",
       "Dist                                               834.179\n",
       "Stname                                            Отрадное\n",
       "Metrdist                                                 5\n",
       "Walk                                                     1\n",
       "Rem                                             евроремонт\n",
       "Brick                                                    0\n",
       "Tel                                                      0\n",
       "Bal                                                      1\n",
       "Floor                                                   11\n",
       "Nfloors                                                 17\n",
       "New                                                    NaN\n",
       "Link               http://www.cian.ru/rent/flat/151563096/\n",
       "Floor_index                                       0.647059\n",
       "Name: 928, dtype: object"
      ]
     },
     "execution_count": 233,
     "metadata": {},
     "output_type": "execute_result"
    }
   ],
   "source": [
    "df_comp.loc[928, :]"
   ]
  },
  {
   "cell_type": "markdown",
   "metadata": {},
   "source": [
    "Поскольку тут отличается только параметр ремонта - сразу посморим на скорректированную формулу."
   ]
  },
  {
   "cell_type": "code",
   "execution_count": 266,
   "metadata": {
    "collapsed": false
   },
   "outputs": [
    {
     "data": {
      "text/plain": [
       "35244.0"
      ]
     },
     "execution_count": 266,
     "metadata": {},
     "output_type": "execute_result"
    }
   ],
   "source": [
    "Price0 = df_comp.loc[928, 'Price']*1.068\n",
    "Price0"
   ]
  },
  {
   "cell_type": "markdown",
   "metadata": {},
   "source": [
    "Создадим списк, куда будем складывать скорректированные цены"
   ]
  },
  {
   "cell_type": "code",
   "execution_count": 289,
   "metadata": {
    "collapsed": false
   },
   "outputs": [],
   "source": [
    "l_adj_prices = []\n",
    "l_adj_prices.append(Price0)"
   ]
  },
  {
   "cell_type": "markdown",
   "metadata": {},
   "source": [
    "---"
   ]
  },
  {
   "cell_type": "markdown",
   "metadata": {},
   "source": [
    "For Apartment size"
   ]
  },
  {
   "cell_type": "code",
   "execution_count": 360,
   "metadata": {
    "collapsed": true
   },
   "outputs": [],
   "source": [
    "df_comp2 = df[df['Small_district']=='Отрадное'].copy()"
   ]
  },
  {
   "cell_type": "markdown",
   "metadata": {},
   "source": [
    "Correct for floor"
   ]
  },
  {
   "cell_type": "code",
   "execution_count": 361,
   "metadata": {
    "collapsed": true
   },
   "outputs": [],
   "source": [
    "df_comp2['Floor_index'] = df_comp2['Floor']/df_comp2['Nfloors']\n",
    "fl_comp2 = ((df_comp2['Floor']>1) & (df_comp2['Floor_index']<1))\n",
    "df_comp2 = df_comp2[fl_comp2]"
   ]
  },
  {
   "cell_type": "markdown",
   "metadata": {},
   "source": [
    "Balcon and Walk"
   ]
  },
  {
   "cell_type": "code",
   "execution_count": 362,
   "metadata": {
    "collapsed": true
   },
   "outputs": [],
   "source": [
    "df_comp2 = df_comp2[df_comp2['Bal'] == 1]\n",
    "df_comp2 = df_comp2[df_comp2['Walk'] == 1]"
   ]
  },
  {
   "cell_type": "markdown",
   "metadata": {},
   "source": [
    "Proximity to metro"
   ]
  },
  {
   "cell_type": "code",
   "execution_count": 363,
   "metadata": {
    "collapsed": false
   },
   "outputs": [],
   "source": [
    "df_comp2 = df_comp2[(df_comp2['Metrdist']>=4) & (df_comp2['Metrdist']<=6)]"
   ]
  },
  {
   "cell_type": "code",
   "execution_count": 364,
   "metadata": {
    "collapsed": false
   },
   "outputs": [
    {
     "data": {
      "text/html": [
       "<div>\n",
       "<table border=\"1\" class=\"dataframe\">\n",
       "  <thead>\n",
       "    <tr style=\"text-align: right;\">\n",
       "      <th></th>\n",
       "      <th>Lat</th>\n",
       "      <th>Lon</th>\n",
       "      <th>District</th>\n",
       "      <th>Small_district</th>\n",
       "      <th>Rooms</th>\n",
       "      <th>Price</th>\n",
       "      <th>Price_duplicate</th>\n",
       "      <th>Totsp</th>\n",
       "      <th>Livesp</th>\n",
       "      <th>Kitsp</th>\n",
       "      <th>...</th>\n",
       "      <th>Walk</th>\n",
       "      <th>Rem</th>\n",
       "      <th>Brick</th>\n",
       "      <th>Tel</th>\n",
       "      <th>Bal</th>\n",
       "      <th>Floor</th>\n",
       "      <th>Nfloors</th>\n",
       "      <th>New</th>\n",
       "      <th>Link</th>\n",
       "      <th>Floor_index</th>\n",
       "    </tr>\n",
       "  </thead>\n",
       "  <tbody>\n",
       "    <tr>\n",
       "      <th>55</th>\n",
       "      <td>55.860600</td>\n",
       "      <td>37.596471</td>\n",
       "      <td>2</td>\n",
       "      <td>Отрадное</td>\n",
       "      <td>3</td>\n",
       "      <td>60000</td>\n",
       "      <td>60000.0</td>\n",
       "      <td>75</td>\n",
       "      <td>11.0</td>\n",
       "      <td>47</td>\n",
       "      <td>...</td>\n",
       "      <td>1</td>\n",
       "      <td>евроремонт</td>\n",
       "      <td>0</td>\n",
       "      <td>0</td>\n",
       "      <td>1</td>\n",
       "      <td>14</td>\n",
       "      <td>17</td>\n",
       "      <td>1</td>\n",
       "      <td>http://www.cian.ru/rent/flat/147673532/</td>\n",
       "      <td>0.823529</td>\n",
       "    </tr>\n",
       "    <tr>\n",
       "      <th>351</th>\n",
       "      <td>55.861767</td>\n",
       "      <td>37.610916</td>\n",
       "      <td>2</td>\n",
       "      <td>Отрадное</td>\n",
       "      <td>1</td>\n",
       "      <td>30000</td>\n",
       "      <td>30000.0</td>\n",
       "      <td>39</td>\n",
       "      <td>NaN</td>\n",
       "      <td>25</td>\n",
       "      <td>...</td>\n",
       "      <td>1</td>\n",
       "      <td>косметический</td>\n",
       "      <td>0</td>\n",
       "      <td>0</td>\n",
       "      <td>1</td>\n",
       "      <td>7</td>\n",
       "      <td>12</td>\n",
       "      <td>1</td>\n",
       "      <td>http://www.cian.ru/rent/flat/151053124/</td>\n",
       "      <td>0.583333</td>\n",
       "    </tr>\n",
       "    <tr>\n",
       "      <th>677</th>\n",
       "      <td>55.879046</td>\n",
       "      <td>37.610961</td>\n",
       "      <td>2</td>\n",
       "      <td>Отрадное</td>\n",
       "      <td>1</td>\n",
       "      <td>35000</td>\n",
       "      <td>35000.0</td>\n",
       "      <td>40</td>\n",
       "      <td>10.0</td>\n",
       "      <td>22</td>\n",
       "      <td>...</td>\n",
       "      <td>1</td>\n",
       "      <td>косметический</td>\n",
       "      <td>0</td>\n",
       "      <td>0</td>\n",
       "      <td>1</td>\n",
       "      <td>10</td>\n",
       "      <td>17</td>\n",
       "      <td>1</td>\n",
       "      <td>http://www.cian.ru/rent/flat/151557418/</td>\n",
       "      <td>0.588235</td>\n",
       "    </tr>\n",
       "    <tr>\n",
       "      <th>928</th>\n",
       "      <td>55.861231</td>\n",
       "      <td>37.596309</td>\n",
       "      <td>2</td>\n",
       "      <td>Отрадное</td>\n",
       "      <td>1</td>\n",
       "      <td>33000</td>\n",
       "      <td>33000.0</td>\n",
       "      <td>38</td>\n",
       "      <td>10.0</td>\n",
       "      <td>20</td>\n",
       "      <td>...</td>\n",
       "      <td>1</td>\n",
       "      <td>евроремонт</td>\n",
       "      <td>0</td>\n",
       "      <td>0</td>\n",
       "      <td>1</td>\n",
       "      <td>11</td>\n",
       "      <td>17</td>\n",
       "      <td>NaN</td>\n",
       "      <td>http://www.cian.ru/rent/flat/151563096/</td>\n",
       "      <td>0.647059</td>\n",
       "    </tr>\n",
       "    <tr>\n",
       "      <th>1318</th>\n",
       "      <td>55.860186</td>\n",
       "      <td>37.594755</td>\n",
       "      <td>2</td>\n",
       "      <td>Отрадное</td>\n",
       "      <td>2</td>\n",
       "      <td>50000</td>\n",
       "      <td>50000.0</td>\n",
       "      <td>54</td>\n",
       "      <td>10.0</td>\n",
       "      <td>34</td>\n",
       "      <td>...</td>\n",
       "      <td>1</td>\n",
       "      <td>евроремонт</td>\n",
       "      <td>0</td>\n",
       "      <td>0</td>\n",
       "      <td>1</td>\n",
       "      <td>4</td>\n",
       "      <td>17</td>\n",
       "      <td>NaN</td>\n",
       "      <td>http://www.cian.ru/rent/flat/151362963/</td>\n",
       "      <td>0.235294</td>\n",
       "    </tr>\n",
       "    <tr>\n",
       "      <th>1576</th>\n",
       "      <td>55.869486</td>\n",
       "      <td>37.596848</td>\n",
       "      <td>2</td>\n",
       "      <td>Отрадное</td>\n",
       "      <td>3</td>\n",
       "      <td>55000</td>\n",
       "      <td>55000.0</td>\n",
       "      <td>72</td>\n",
       "      <td>10.0</td>\n",
       "      <td>50</td>\n",
       "      <td>...</td>\n",
       "      <td>1</td>\n",
       "      <td>евроремонт</td>\n",
       "      <td>1</td>\n",
       "      <td>0</td>\n",
       "      <td>1</td>\n",
       "      <td>12</td>\n",
       "      <td>18</td>\n",
       "      <td>NaN</td>\n",
       "      <td>http://www.cian.ru/rent/flat/151242671/</td>\n",
       "      <td>0.666667</td>\n",
       "    </tr>\n",
       "    <tr>\n",
       "      <th>1602</th>\n",
       "      <td>55.867975</td>\n",
       "      <td>37.601537</td>\n",
       "      <td>2</td>\n",
       "      <td>Отрадное</td>\n",
       "      <td>3</td>\n",
       "      <td>38000</td>\n",
       "      <td>38000.0</td>\n",
       "      <td>54</td>\n",
       "      <td>NaN</td>\n",
       "      <td>33</td>\n",
       "      <td>...</td>\n",
       "      <td>1</td>\n",
       "      <td>NaN</td>\n",
       "      <td>0</td>\n",
       "      <td>0</td>\n",
       "      <td>1</td>\n",
       "      <td>6</td>\n",
       "      <td>9</td>\n",
       "      <td>NaN</td>\n",
       "      <td>http://www.cian.ru/rent/flat/151354326/</td>\n",
       "      <td>0.666667</td>\n",
       "    </tr>\n",
       "    <tr>\n",
       "      <th>1731</th>\n",
       "      <td>55.869486</td>\n",
       "      <td>37.596848</td>\n",
       "      <td>2</td>\n",
       "      <td>Отрадное</td>\n",
       "      <td>3</td>\n",
       "      <td>65000</td>\n",
       "      <td>65000.0</td>\n",
       "      <td>75</td>\n",
       "      <td>NaN</td>\n",
       "      <td>54</td>\n",
       "      <td>...</td>\n",
       "      <td>1</td>\n",
       "      <td>NaN</td>\n",
       "      <td>1</td>\n",
       "      <td>0</td>\n",
       "      <td>1</td>\n",
       "      <td>12</td>\n",
       "      <td>16</td>\n",
       "      <td>NaN</td>\n",
       "      <td>http://www.cian.ru/rent/flat/151326337/</td>\n",
       "      <td>0.750000</td>\n",
       "    </tr>\n",
       "    <tr>\n",
       "      <th>2297</th>\n",
       "      <td>55.864460</td>\n",
       "      <td>37.599094</td>\n",
       "      <td>2</td>\n",
       "      <td>Отрадное</td>\n",
       "      <td>3</td>\n",
       "      <td>43000</td>\n",
       "      <td>43000.0</td>\n",
       "      <td>60</td>\n",
       "      <td>12.0</td>\n",
       "      <td>45</td>\n",
       "      <td>...</td>\n",
       "      <td>1</td>\n",
       "      <td>косметический</td>\n",
       "      <td>0</td>\n",
       "      <td>0</td>\n",
       "      <td>1</td>\n",
       "      <td>11</td>\n",
       "      <td>12</td>\n",
       "      <td>1</td>\n",
       "      <td>http://www.cian.ru/rent/flat/151581558/</td>\n",
       "      <td>0.916667</td>\n",
       "    </tr>\n",
       "    <tr>\n",
       "      <th>1524</th>\n",
       "      <td>55.863949</td>\n",
       "      <td>37.607754</td>\n",
       "      <td>2</td>\n",
       "      <td>Отрадное</td>\n",
       "      <td>1</td>\n",
       "      <td>38000</td>\n",
       "      <td>38000.0</td>\n",
       "      <td>38</td>\n",
       "      <td>10.0</td>\n",
       "      <td>28</td>\n",
       "      <td>...</td>\n",
       "      <td>1</td>\n",
       "      <td>евроремонт</td>\n",
       "      <td>0</td>\n",
       "      <td>0</td>\n",
       "      <td>1</td>\n",
       "      <td>4</td>\n",
       "      <td>9</td>\n",
       "      <td>NaN</td>\n",
       "      <td>http://www.cian.ru/rent/flat/151210069/</td>\n",
       "      <td>0.444444</td>\n",
       "    </tr>\n",
       "    <tr>\n",
       "      <th>1609</th>\n",
       "      <td>55.862156</td>\n",
       "      <td>37.606307</td>\n",
       "      <td>2</td>\n",
       "      <td>Отрадное</td>\n",
       "      <td>3</td>\n",
       "      <td>55000</td>\n",
       "      <td>55000.0</td>\n",
       "      <td>65</td>\n",
       "      <td>8.5</td>\n",
       "      <td>43</td>\n",
       "      <td>...</td>\n",
       "      <td>1</td>\n",
       "      <td>косметический</td>\n",
       "      <td>0</td>\n",
       "      <td>0</td>\n",
       "      <td>1</td>\n",
       "      <td>2</td>\n",
       "      <td>12</td>\n",
       "      <td>NaN</td>\n",
       "      <td>http://www.cian.ru/rent/flat/151543096/</td>\n",
       "      <td>0.166667</td>\n",
       "    </tr>\n",
       "    <tr>\n",
       "      <th>3540</th>\n",
       "      <td>55.862358</td>\n",
       "      <td>37.592752</td>\n",
       "      <td>2</td>\n",
       "      <td>Отрадное</td>\n",
       "      <td>2</td>\n",
       "      <td>55000</td>\n",
       "      <td>55000.0</td>\n",
       "      <td>58</td>\n",
       "      <td>10.0</td>\n",
       "      <td>33</td>\n",
       "      <td>...</td>\n",
       "      <td>1</td>\n",
       "      <td>евроремонт</td>\n",
       "      <td>0</td>\n",
       "      <td>0</td>\n",
       "      <td>1</td>\n",
       "      <td>8</td>\n",
       "      <td>17</td>\n",
       "      <td>NaN</td>\n",
       "      <td>http://www.cian.ru/rent/flat/151582934/</td>\n",
       "      <td>0.470588</td>\n",
       "    </tr>\n",
       "    <tr>\n",
       "      <th>456</th>\n",
       "      <td>55.869486</td>\n",
       "      <td>37.596848</td>\n",
       "      <td>2</td>\n",
       "      <td>Отрадное</td>\n",
       "      <td>3</td>\n",
       "      <td>65000</td>\n",
       "      <td>65000.0</td>\n",
       "      <td>75</td>\n",
       "      <td>10.0</td>\n",
       "      <td>54</td>\n",
       "      <td>...</td>\n",
       "      <td>1</td>\n",
       "      <td>NaN</td>\n",
       "      <td>1</td>\n",
       "      <td>0</td>\n",
       "      <td>1</td>\n",
       "      <td>12</td>\n",
       "      <td>16</td>\n",
       "      <td>NaN</td>\n",
       "      <td>http://www.cian.ru/rent/flat/151422815/</td>\n",
       "      <td>0.750000</td>\n",
       "    </tr>\n",
       "  </tbody>\n",
       "</table>\n",
       "<p>13 rows × 23 columns</p>\n",
       "</div>"
      ],
      "text/plain": [
       "            Lat        Lon  District Small_district  Rooms  Price  \\\n",
       "55    55.860600  37.596471         2       Отрадное      3  60000   \n",
       "351   55.861767  37.610916         2       Отрадное      1  30000   \n",
       "677   55.879046  37.610961         2       Отрадное      1  35000   \n",
       "928   55.861231  37.596309         2       Отрадное      1  33000   \n",
       "1318  55.860186  37.594755         2       Отрадное      2  50000   \n",
       "1576  55.869486  37.596848         2       Отрадное      3  55000   \n",
       "1602  55.867975  37.601537         2       Отрадное      3  38000   \n",
       "1731  55.869486  37.596848         2       Отрадное      3  65000   \n",
       "2297  55.864460  37.599094         2       Отрадное      3  43000   \n",
       "1524  55.863949  37.607754         2       Отрадное      1  38000   \n",
       "1609  55.862156  37.606307         2       Отрадное      3  55000   \n",
       "3540  55.862358  37.592752         2       Отрадное      2  55000   \n",
       "456   55.869486  37.596848         2       Отрадное      3  65000   \n",
       "\n",
       "     Price_duplicate  Totsp  Livesp  Kitsp     ...       Walk            Rem  \\\n",
       "55           60000.0     75    11.0     47     ...          1     евроремонт   \n",
       "351          30000.0     39     NaN     25     ...          1  косметический   \n",
       "677          35000.0     40    10.0     22     ...          1  косметический   \n",
       "928          33000.0     38    10.0     20     ...          1     евроремонт   \n",
       "1318         50000.0     54    10.0     34     ...          1     евроремонт   \n",
       "1576         55000.0     72    10.0     50     ...          1     евроремонт   \n",
       "1602         38000.0     54     NaN     33     ...          1            NaN   \n",
       "1731         65000.0     75     NaN     54     ...          1            NaN   \n",
       "2297         43000.0     60    12.0     45     ...          1  косметический   \n",
       "1524         38000.0     38    10.0     28     ...          1     евроремонт   \n",
       "1609         55000.0     65     8.5     43     ...          1  косметический   \n",
       "3540         55000.0     58    10.0     33     ...          1     евроремонт   \n",
       "456          65000.0     75    10.0     54     ...          1            NaN   \n",
       "\n",
       "      Brick  Tel Bal  Floor  Nfloors  New  \\\n",
       "55        0    0   1     14       17    1   \n",
       "351       0    0   1      7       12    1   \n",
       "677       0    0   1     10       17    1   \n",
       "928       0    0   1     11       17  NaN   \n",
       "1318      0    0   1      4       17  NaN   \n",
       "1576      1    0   1     12       18  NaN   \n",
       "1602      0    0   1      6        9  NaN   \n",
       "1731      1    0   1     12       16  NaN   \n",
       "2297      0    0   1     11       12    1   \n",
       "1524      0    0   1      4        9  NaN   \n",
       "1609      0    0   1      2       12  NaN   \n",
       "3540      0    0   1      8       17  NaN   \n",
       "456       1    0   1     12       16  NaN   \n",
       "\n",
       "                                         Link  Floor_index  \n",
       "55    http://www.cian.ru/rent/flat/147673532/     0.823529  \n",
       "351   http://www.cian.ru/rent/flat/151053124/     0.583333  \n",
       "677   http://www.cian.ru/rent/flat/151557418/     0.588235  \n",
       "928   http://www.cian.ru/rent/flat/151563096/     0.647059  \n",
       "1318  http://www.cian.ru/rent/flat/151362963/     0.235294  \n",
       "1576  http://www.cian.ru/rent/flat/151242671/     0.666667  \n",
       "1602  http://www.cian.ru/rent/flat/151354326/     0.666667  \n",
       "1731  http://www.cian.ru/rent/flat/151326337/     0.750000  \n",
       "2297  http://www.cian.ru/rent/flat/151581558/     0.916667  \n",
       "1524  http://www.cian.ru/rent/flat/151210069/     0.444444  \n",
       "1609  http://www.cian.ru/rent/flat/151543096/     0.166667  \n",
       "3540  http://www.cian.ru/rent/flat/151582934/     0.470588  \n",
       "456   http://www.cian.ru/rent/flat/151422815/     0.750000  \n",
       "\n",
       "[13 rows x 23 columns]"
      ]
     },
     "execution_count": 364,
     "metadata": {},
     "output_type": "execute_result"
    }
   ],
   "source": [
    "df_comp2"
   ]
  },
  {
   "cell_type": "markdown",
   "metadata": {},
   "source": [
    "### Посмотрим на данные внимательнee"
   ]
  },
  {
   "cell_type": "code",
   "execution_count": 96,
   "metadata": {
    "collapsed": false
   },
   "outputs": [
    {
     "data": {
      "text/plain": [
       "15936"
      ]
     },
     "execution_count": 96,
     "metadata": {},
     "output_type": "execute_result"
    }
   ],
   "source": [
    "len(df)"
   ]
  },
  {
   "cell_type": "code",
   "execution_count": 94,
   "metadata": {
    "collapsed": false,
    "scrolled": true
   },
   "outputs": [
    {
     "name": "stdout",
     "output_type": "stream",
     "text": [
      "Lat 0\n",
      "Lon 0\n",
      "District 0\n",
      "Small_district 1566\n",
      "Rooms 0\n",
      "Price 112\n",
      "Price_duplicate 0\n",
      "Totsp 0\n",
      "Livesp 8425\n",
      "Kitsp 658\n",
      "Dist 0\n",
      "Stname 900\n",
      "Metrdist 900\n",
      "Walk 900\n",
      "Rem 2104\n",
      "Brick 1566\n",
      "Tel 0\n",
      "Bal 0\n",
      "Floor 4\n",
      "Nfloors 4\n",
      "New 9162\n",
      "Link 0\n"
     ]
    }
   ],
   "source": [
    "for c in df.columns:\n",
    "    print(c, len(df[c][df[c].isnull()]))"
   ]
  },
  {
   "cell_type": "code",
   "execution_count": 95,
   "metadata": {
    "collapsed": false
   },
   "outputs": [
    {
     "data": {
      "text/plain": [
       "<matplotlib.collections.PathCollection at 0x10ebb5ac8>"
      ]
     },
     "execution_count": 95,
     "metadata": {},
     "output_type": "execute_result"
    },
    {
     "data": {
      "image/png": "[encoded data removed]",
      "text/plain": [
       "<matplotlib.figure.Figure at 0x11694b748>"
      ]
     },
     "metadata": {},
     "output_type": "display_data"
    }
   ],
   "source": [
    "plt.figure(figsize=(10,10))\n",
    "plt.scatter(df['Lon'], df['Lat'])\n",
    "plt.scatter(our_flat['lon'], our_flat['lat'], color='red', marker='x', s=20, linewidths=20)"
   ]
  },
  {
   "cell_type": "markdown",
   "metadata": {},
   "source": [
    "Снова соберем отдельно данные по похожим квартирам"
   ]
  },
  {
   "cell_type": "code",
   "execution_count": 97,
   "metadata": {
    "collapsed": true
   },
   "outputs": [],
   "source": [
    "l_small_districts = ['Отрадное', 'Митино', 'Чертаново Южное', 'Перово', 'Кузьминки', 'Текстильщики', 'Царицыно', 'Печатники', \\\n",
    "                     'Ивановское', 'Новогиреево', 'Ясенево', 'Измайлово', 'Восточное Измайлово', 'Головинский', \\\n",
    "                     'Северное Медведково', 'Южное Медведково', 'Бабушкинский', 'Ховрино', 'Левобережный', 'Южное Тушино', \\\n",
    "                     'Северное Тушино']"
   ]
  },
  {
   "cell_type": "code",
   "execution_count": 98,
   "metadata": {
    "collapsed": false
   },
   "outputs": [
    {
     "name": "stdout",
     "output_type": "stream",
     "text": [
      "Отрадное :  129\n",
      "Митино :  443\n",
      "Чертаново Южное :  133\n",
      "Перово :  127\n",
      "Кузьминки :  174\n",
      "Текстильщики :  85\n",
      "Царицыно :  98\n",
      "Печатники :  100\n",
      "Ивановское :  130\n",
      "Новогиреево :  105\n",
      "Ясенево :  104\n",
      "Измайлово :  73\n",
      "Восточное Измайлово :  63\n",
      "Головинский :  103\n",
      "Северное Медведково :  93\n",
      "Южное Медведково :  70\n",
      "Бабушкинский :  80\n",
      "Ховрино :  120\n",
      "Левобережный :  88\n",
      "Южное Тушино :  172\n",
      "Северное Тушино :  302\n",
      "2792\n"
     ]
    }
   ],
   "source": [
    "l = []\n",
    "for d in l_small_districts:\n",
    "    l.append((d, len(df[df['Small_district'] == d])))\n",
    "s = 0\n",
    "for i in l:\n",
    "    print(i[0],': ',i[1])\n",
    "    s = s + i[1]\n",
    "print(s)"
   ]
  },
  {
   "cell_type": "markdown",
   "metadata": {},
   "source": [
    "### Отбор comparables"
   ]
  },
  {
   "cell_type": "markdown",
   "metadata": {},
   "source": [
    "#### Proximity to metro"
   ]
  },
  {
   "cell_type": "code",
   "execution_count": 182,
   "metadata": {
    "collapsed": true
   },
   "outputs": [],
   "source": [
    "df_adj_prox = df.loc[df['Small_district'].isin(l_small_districts)].copy()"
   ]
  },
  {
   "cell_type": "code",
   "execution_count": 183,
   "metadata": {
    "collapsed": false
   },
   "outputs": [
    {
     "data": {
      "text/plain": [
       "<matplotlib.collections.PathCollection at 0x118689b00>"
      ]
     },
     "execution_count": 183,
     "metadata": {},
     "output_type": "execute_result"
    },
    {
     "data": {
      "image/png": "[encoded data removed]",
      "text/plain": [
       "<matplotlib.figure.Figure at 0x1186d6f28>"
      ]
     },
     "metadata": {},
     "output_type": "display_data"
    }
   ],
   "source": [
    "plt.figure(figsize=(10,10))\n",
    "plt.scatter(df_adj_prox['Lon'], df_adj_prox['Lat'])\n",
    "plt.scatter(our_flat['lon'], our_flat['lat'], color='red', s=40, linewidths=5)"
   ]
  },
  {
   "cell_type": "markdown",
   "metadata": {},
   "source": [
    "Схожий метраж"
   ]
  },
  {
   "cell_type": "code",
   "execution_count": 184,
   "metadata": {
    "collapsed": true
   },
   "outputs": [],
   "source": [
    "sp_adj_prox = ((df_adj_prox['Totsp'] <= 38) & (df_adj_prox['Totsp'] >= 37))\n",
    "df_adj_prox = df_adj_prox[sp_adj_prox].copy()"
   ]
  },
  {
   "cell_type": "markdown",
   "metadata": {},
   "source": [
    "Корректировка на этаж"
   ]
  },
  {
   "cell_type": "code",
   "execution_count": 185,
   "metadata": {
    "collapsed": true
   },
   "outputs": [],
   "source": [
    "df_adj_prox['Floor_index'] = df_adj_prox['Floor']/df_adj_prox['Nfloors']"
   ]
  },
  {
   "cell_type": "code",
   "execution_count": 186,
   "metadata": {
    "collapsed": false
   },
   "outputs": [],
   "source": [
    "fl_adj = ((df_adj_prox['Floor']>1) & (df_adj_prox['Floor_index']<1))"
   ]
  },
  {
   "cell_type": "code",
   "execution_count": 187,
   "metadata": {
    "collapsed": false
   },
   "outputs": [],
   "source": [
    "df_adj_prox = df_adj_prox[fl_adj]"
   ]
  },
  {
   "cell_type": "markdown",
   "metadata": {},
   "source": [
    "Количество комнат"
   ]
  },
  {
   "cell_type": "code",
   "execution_count": 188,
   "metadata": {
    "collapsed": false
   },
   "outputs": [],
   "source": [
    "df_adj_prox = df_adj_prox[df_adj_prox['Rooms'] == 1]"
   ]
  },
  {
   "cell_type": "markdown",
   "metadata": {},
   "source": [
    "Балкон"
   ]
  },
  {
   "cell_type": "code",
   "execution_count": 189,
   "metadata": {
    "collapsed": true
   },
   "outputs": [],
   "source": [
    "df_adj_prox = df_adj_prox[df_adj_prox['Bal'] == 1]"
   ]
  },
  {
   "cell_type": "markdown",
   "metadata": {},
   "source": [
    "Остались смые похожие квартиры по всем параметрам, кроме расстояния до метро"
   ]
  },
  {
   "cell_type": "code",
   "execution_count": 196,
   "metadata": {
    "collapsed": false
   },
   "outputs": [],
   "source": [
    "df_adj_prox = df_adj_prox[df_adj_prox['Walk']==1].copy()"
   ]
  },
  {
   "cell_type": "code",
   "execution_count": 203,
   "metadata": {
    "collapsed": false
   },
   "outputs": [],
   "source": [
    "df_adj_prox['Price'] = list(map(float, list(df_adj_prox['Price_duplicate'])))"
   ]
  },
  {
   "cell_type": "markdown",
   "metadata": {},
   "source": [
    "Регрессия"
   ]
  },
  {
   "cell_type": "code",
   "execution_count": 208,
   "metadata": {
    "collapsed": true
   },
   "outputs": [],
   "source": [
    "model = ols('Price ~ Metrdist', data = df_adj_prox).fit()"
   ]
  },
  {
   "cell_type": "code",
   "execution_count": 209,
   "metadata": {
    "collapsed": false
   },
   "outputs": [
    {
     "data": {
      "text/html": [
       "<table class=\"simpletable\">\n",
       "<caption>OLS Regression Results</caption>\n",
       "<tr>\n",
       "  <th>Dep. Variable:</th>          <td>Price</td>      <th>  R-squared:         </th> <td>   0.030</td>\n",
       "</tr>\n",
       "<tr>\n",
       "  <th>Model:</th>                   <td>OLS</td>       <th>  Adj. R-squared:    </th> <td>   0.022</td>\n",
       "</tr>\n",
       "<tr>\n",
       "  <th>Method:</th>             <td>Least Squares</td>  <th>  F-statistic:       </th> <td>   3.738</td>\n",
       "</tr>\n",
       "<tr>\n",
       "  <th>Date:</th>             <td>Wed, 30 Nov 2016</td> <th>  Prob (F-statistic):</th>  <td>0.0555</td> \n",
       "</tr>\n",
       "<tr>\n",
       "  <th>Time:</th>                 <td>02:30:14</td>     <th>  Log-Likelihood:    </th> <td> -1209.4</td>\n",
       "</tr>\n",
       "<tr>\n",
       "  <th>No. Observations:</th>      <td>   122</td>      <th>  AIC:               </th> <td>   2423.</td>\n",
       "</tr>\n",
       "<tr>\n",
       "  <th>Df Residuals:</th>          <td>   120</td>      <th>  BIC:               </th> <td>   2428.</td>\n",
       "</tr>\n",
       "<tr>\n",
       "  <th>Df Model:</th>              <td>     1</td>      <th>                     </th>     <td> </td>   \n",
       "</tr>\n",
       "<tr>\n",
       "  <th>Covariance Type:</th>      <td>nonrobust</td>    <th>                     </th>     <td> </td>   \n",
       "</tr>\n",
       "</table>\n",
       "<table class=\"simpletable\">\n",
       "<tr>\n",
       "      <td></td>         <th>coef</th>     <th>std err</th>      <th>t</th>      <th>P>|t|</th> <th>[95.0% Conf. Int.]</th> \n",
       "</tr>\n",
       "<tr>\n",
       "  <th>Intercept</th> <td> 3.304e+04</td> <td>  901.911</td> <td>   36.629</td> <td> 0.000</td> <td> 3.13e+04  3.48e+04</td>\n",
       "</tr>\n",
       "<tr>\n",
       "  <th>Metrdist</th>  <td> -139.4507</td> <td>   72.124</td> <td>   -1.933</td> <td> 0.056</td> <td> -282.250     3.349</td>\n",
       "</tr>\n",
       "</table>\n",
       "<table class=\"simpletable\">\n",
       "<tr>\n",
       "  <th>Omnibus:</th>       <td>46.104</td> <th>  Durbin-Watson:     </th> <td>   1.946</td>\n",
       "</tr>\n",
       "<tr>\n",
       "  <th>Prob(Omnibus):</th> <td> 0.000</td> <th>  Jarque-Bera (JB):  </th> <td> 105.907</td>\n",
       "</tr>\n",
       "<tr>\n",
       "  <th>Skew:</th>          <td> 1.533</td> <th>  Prob(JB):          </th> <td>1.01e-23</td>\n",
       "</tr>\n",
       "<tr>\n",
       "  <th>Kurtosis:</th>      <td> 6.381</td> <th>  Cond. No.          </th> <td>    25.4</td>\n",
       "</tr>\n",
       "</table>"
      ],
      "text/plain": [
       "<class 'statsmodels.iolib.summary.Summary'>\n",
       "\"\"\"\n",
       "                            OLS Regression Results                            \n",
       "==============================================================================\n",
       "Dep. Variable:                  Price   R-squared:                       0.030\n",
       "Model:                            OLS   Adj. R-squared:                  0.022\n",
       "Method:                 Least Squares   F-statistic:                     3.738\n",
       "Date:                Wed, 30 Nov 2016   Prob (F-statistic):             0.0555\n",
       "Time:                        02:30:14   Log-Likelihood:                -1209.4\n",
       "No. Observations:                 122   AIC:                             2423.\n",
       "Df Residuals:                     120   BIC:                             2428.\n",
       "Df Model:                           1                                         \n",
       "Covariance Type:            nonrobust                                         \n",
       "==============================================================================\n",
       "                 coef    std err          t      P>|t|      [95.0% Conf. Int.]\n",
       "------------------------------------------------------------------------------\n",
       "Intercept   3.304e+04    901.911     36.629      0.000      3.13e+04  3.48e+04\n",
       "Metrdist    -139.4507     72.124     -1.933      0.056      -282.250     3.349\n",
       "==============================================================================\n",
       "Omnibus:                       46.104   Durbin-Watson:                   1.946\n",
       "Prob(Omnibus):                  0.000   Jarque-Bera (JB):              105.907\n",
       "Skew:                           1.533   Prob(JB):                     1.01e-23\n",
       "Kurtosis:                       6.381   Cond. No.                         25.4\n",
       "==============================================================================\n",
       "\n",
       "Warnings:\n",
       "[1] Standard Errors assume that the covariance matrix of the errors is correctly specified.\n",
       "\"\"\""
      ]
     },
     "execution_count": 209,
     "metadata": {},
     "output_type": "execute_result"
    }
   ],
   "source": [
    "model.summary()"
   ]
  },
  {
   "cell_type": "code",
   "execution_count": 236,
   "metadata": {
    "collapsed": false
   },
   "outputs": [
    {
     "data": {
      "text/plain": [
       "Intercept    33036.079369\n",
       "Metrdist      -139.450741\n",
       "dtype: float64"
      ]
     },
     "execution_count": 236,
     "metadata": {},
     "output_type": "execute_result"
    }
   ],
   "source": [
    "model.params"
   ]
  },
  {
   "cell_type": "markdown",
   "metadata": {},
   "source": [
    "##### Adjusted prices"
   ]
  },
  {
   "cell_type": "code",
   "execution_count": 256,
   "metadata": {
    "collapsed": true
   },
   "outputs": [],
   "source": [
    "Metro_adj1 = (model.params[0] + model.params[1]*5)/(model.params[0] + model.params[1]*15)"
   ]
  },
  {
   "cell_type": "code",
   "execution_count": 257,
   "metadata": {
    "collapsed": false
   },
   "outputs": [
    {
     "data": {
      "text/plain": [
       "Lat                                                 55.871\n",
       "Lon                                                37.6175\n",
       "District                                                 2\n",
       "Small_district                                    Отрадное\n",
       "Rooms                                                    1\n",
       "Price                                                26000\n",
       "Price_duplicate                                    26000.0\n",
       "Totsp                                                   38\n",
       "Livesp                                                 NaN\n",
       "Kitsp                                                   21\n",
       "Dist                                               912.747\n",
       "Stname                                            Отрадное\n",
       "Metrdist                                                15\n",
       "Walk                                                     1\n",
       "Rem                                          косметический\n",
       "Brick                                                    0\n",
       "Tel                                                      0\n",
       "Bal                                                      1\n",
       "Floor                                                    3\n",
       "Nfloors                                                  9\n",
       "New                                                    NaN\n",
       "Link               http://www.cian.ru/rent/flat/151343146/\n",
       "Floor_index                                       0.333333\n",
       "Name: 1841, dtype: object"
      ]
     },
     "execution_count": 257,
     "metadata": {},
     "output_type": "execute_result"
    }
   ],
   "source": [
    "price_cmop_metro1 = df_comp.loc[1841, :]\n",
    "price_cmop_metro1"
   ]
  },
  {
   "cell_type": "code",
   "execution_count": 290,
   "metadata": {
    "collapsed": false
   },
   "outputs": [
    {
     "data": {
      "text/plain": [
       "27769.468649677299"
      ]
     },
     "execution_count": 290,
     "metadata": {},
     "output_type": "execute_result"
    }
   ],
   "source": [
    "Price1 = price_cmop_metro1['Price']*Metro_adj1*1.022\n",
    "Price1"
   ]
  },
  {
   "cell_type": "code",
   "execution_count": 291,
   "metadata": {
    "collapsed": true
   },
   "outputs": [],
   "source": [
    "l_adj_prices.append(Price1)"
   ]
  },
  {
   "cell_type": "markdown",
   "metadata": {},
   "source": [
    "---"
   ]
  },
  {
   "cell_type": "code",
   "execution_count": 292,
   "metadata": {
    "collapsed": true
   },
   "outputs": [],
   "source": [
    "Metro_adj2 = (model.params[0] + model.params[1]*5)/(model.params[0] + model.params[1]*10)"
   ]
  },
  {
   "cell_type": "code",
   "execution_count": 293,
   "metadata": {
    "collapsed": false
   },
   "outputs": [
    {
     "data": {
      "text/plain": [
       "Lat                                                55.8655\n",
       "Lon                                                37.6167\n",
       "District                                                 2\n",
       "Small_district                                    Отрадное\n",
       "Rooms                                                    1\n",
       "Price                                                30000\n",
       "Price_duplicate                                    30000.0\n",
       "Totsp                                                   38\n",
       "Livesp                                                 NaN\n",
       "Kitsp                                                   20\n",
       "Dist                                               868.599\n",
       "Stname                                            Отрадное\n",
       "Metrdist                                                10\n",
       "Walk                                                     1\n",
       "Rem                                          косметический\n",
       "Brick                                                    0\n",
       "Tel                                                      0\n",
       "Bal                                                      1\n",
       "Floor                                                    7\n",
       "Nfloors                                                  9\n",
       "New                                                      1\n",
       "Link               http://www.cian.ru/rent/flat/151619306/\n",
       "Floor_index                                       0.777778\n",
       "Name: 2213, dtype: object"
      ]
     },
     "execution_count": 293,
     "metadata": {},
     "output_type": "execute_result"
    }
   ],
   "source": [
    "price_cmop_metro2 = df_comp.loc[2213, :]\n",
    "price_cmop_metro2"
   ]
  },
  {
   "cell_type": "code",
   "execution_count": 294,
   "metadata": {
    "collapsed": false
   },
   "outputs": [
    {
     "data": {
      "text/plain": [
       "31335.623786243104"
      ]
     },
     "execution_count": 294,
     "metadata": {},
     "output_type": "execute_result"
    }
   ],
   "source": [
    "Price2 = price_cmop_metro2['Price']*Metro_adj2*1.022\n",
    "Price2"
   ]
  },
  {
   "cell_type": "code",
   "execution_count": 295,
   "metadata": {
    "collapsed": true
   },
   "outputs": [],
   "source": [
    "l_adj_prices.append(Price2)"
   ]
  },
  {
   "cell_type": "markdown",
   "metadata": {},
   "source": [
    "---"
   ]
  },
  {
   "cell_type": "code",
   "execution_count": 296,
   "metadata": {
    "collapsed": true
   },
   "outputs": [],
   "source": [
    "Metro_adj3 = (model.params[0] + model.params[1]*5)/(model.params[0] + model.params[1]*20)"
   ]
  },
  {
   "cell_type": "code",
   "execution_count": 297,
   "metadata": {
    "collapsed": false
   },
   "outputs": [
    {
     "data": {
      "text/plain": [
       "Lat                                                55.8752\n",
       "Lon                                                37.5907\n",
       "District                                                 2\n",
       "Small_district                                    Отрадное\n",
       "Rooms                                                    1\n",
       "Price                                                33000\n",
       "Price_duplicate                                    33000.0\n",
       "Totsp                                                   38\n",
       "Livesp                                                 NaN\n",
       "Kitsp                                                   18\n",
       "Dist                                               946.799\n",
       "Stname                                            Отрадное\n",
       "Metrdist                                                20\n",
       "Walk                                                     1\n",
       "Rem                                             евроремонт\n",
       "Brick                                                    0\n",
       "Tel                                                      0\n",
       "Bal                                                      1\n",
       "Floor                                                   13\n",
       "Nfloors                                                 22\n",
       "New                                                      1\n",
       "Link               http://www.cian.ru/rent/flat/151448495/\n",
       "Floor_index                                       0.590909\n",
       "Name: 360, dtype: object"
      ]
     },
     "execution_count": 297,
     "metadata": {},
     "output_type": "execute_result"
    }
   ],
   "source": [
    "price_cmop_metro3 = df_comp.loc[360, :]\n",
    "price_cmop_metro3"
   ]
  },
  {
   "cell_type": "code",
   "execution_count": 298,
   "metadata": {
    "collapsed": false
   },
   "outputs": [
    {
     "data": {
      "text/plain": [
       "37681.328383175925"
      ]
     },
     "execution_count": 298,
     "metadata": {},
     "output_type": "execute_result"
    }
   ],
   "source": [
    "Price3 = price_cmop_metro3['Price']*Metro_adj3*1.068\n",
    "Price3"
   ]
  },
  {
   "cell_type": "code",
   "execution_count": 299,
   "metadata": {
    "collapsed": true
   },
   "outputs": [],
   "source": [
    "l_adj_prices.append(Price3)"
   ]
  },
  {
   "cell_type": "markdown",
   "metadata": {},
   "source": [
    "---"
   ]
  },
  {
   "cell_type": "code",
   "execution_count": 328,
   "metadata": {
    "collapsed": true
   },
   "outputs": [],
   "source": [
    "Metro_adj4 = (model.params[0] + model.params[1]*5)/(model.params[0] + model.params[1]*13)"
   ]
  },
  {
   "cell_type": "code",
   "execution_count": 329,
   "metadata": {
    "collapsed": false
   },
   "outputs": [
    {
     "data": {
      "text/plain": [
       "Lat                                                55.8707\n",
       "Lon                                                37.6125\n",
       "District                                                 2\n",
       "Small_district                                    Отрадное\n",
       "Rooms                                                    1\n",
       "Price                                                34000\n",
       "Price_duplicate                                    34000.0\n",
       "Totsp                                                   38\n",
       "Livesp                                                  10\n",
       "Kitsp                                                   21\n",
       "Dist                                               910.304\n",
       "Stname                                            Отрадное\n",
       "Metrdist                                                13\n",
       "Walk                                                     1\n",
       "Rem                                          косметический\n",
       "Brick                                                    0\n",
       "Tel                                                      0\n",
       "Bal                                                      1\n",
       "Floor                                                   17\n",
       "Nfloors                                                 18\n",
       "New                                                    NaN\n",
       "Link               http://www.cian.ru/rent/flat/151609055/\n",
       "Floor_index                                       0.944444\n",
       "Name: 1129, dtype: object"
      ]
     },
     "execution_count": 329,
     "metadata": {},
     "output_type": "execute_result"
    }
   ],
   "source": [
    "price_cmop_metro4 = df_comp.loc[1129, :]\n",
    "price_cmop_metro4"
   ]
  },
  {
   "cell_type": "code",
   "execution_count": 330,
   "metadata": {
    "collapsed": false
   },
   "outputs": [
    {
     "data": {
      "text/plain": [
       "35989.54636241035"
      ]
     },
     "execution_count": 330,
     "metadata": {},
     "output_type": "execute_result"
    }
   ],
   "source": [
    "Price4 = price_cmop_metro4['Price']*Metro_adj4*1.022\n",
    "Price4"
   ]
  },
  {
   "cell_type": "code",
   "execution_count": 331,
   "metadata": {
    "collapsed": true
   },
   "outputs": [],
   "source": [
    "l_adj_prices.append(Price4)"
   ]
  },
  {
   "cell_type": "code",
   "execution_count": 334,
   "metadata": {
    "collapsed": false
   },
   "outputs": [
    {
     "data": {
      "text/plain": [
       "(33603.993436301338, 5)"
      ]
     },
     "execution_count": 334,
     "metadata": {},
     "output_type": "execute_result"
    }
   ],
   "source": [
    "np.mean(l_adj_prices), len(l_adj_prices)"
   ]
  },
  {
   "cell_type": "markdown",
   "metadata": {},
   "source": [
    "---"
   ]
  },
  {
   "cell_type": "markdown",
   "metadata": {},
   "source": [
    "#### Apartment size"
   ]
  },
  {
   "cell_type": "code",
   "execution_count": 303,
   "metadata": {
    "collapsed": true
   },
   "outputs": [],
   "source": [
    "df_adj_size = df.loc[df['Small_district'].isin(l_small_districts)].copy()"
   ]
  },
  {
   "cell_type": "markdown",
   "metadata": {},
   "source": [
    "Correcting for floor"
   ]
  },
  {
   "cell_type": "code",
   "execution_count": 304,
   "metadata": {
    "collapsed": true
   },
   "outputs": [],
   "source": [
    "df_adj_size['Floor_index'] = df_adj_size['Floor']/df_adj_size['Nfloors']\n",
    "fl_adj = ((df_adj_size['Floor']>1) & (df_adj_size['Floor_index']<1))\n",
    "df_adj_size = df_adj_size[fl_adj]"
   ]
  },
  {
   "cell_type": "markdown",
   "metadata": {},
   "source": [
    "Number of rooms, Balcon, Walk"
   ]
  },
  {
   "cell_type": "code",
   "execution_count": 307,
   "metadata": {
    "collapsed": true
   },
   "outputs": [],
   "source": [
    "df_adj_size = df_adj_size[df_adj_size['Rooms'] == 1]\n",
    "df_adj_size = df_adj_size[df_adj_size['Bal'] == 1]\n",
    "df_adj_size = df_adj_size[df_adj_size['Walk']==1]"
   ]
  },
  {
   "cell_type": "markdown",
   "metadata": {},
   "source": [
    "Correcting for Metro proximity"
   ]
  },
  {
   "cell_type": "code",
   "execution_count": 320,
   "metadata": {
    "collapsed": false
   },
   "outputs": [],
   "source": [
    "df_adj_size = df_adj_size[(df_adj_size['Metrdist']>=4) & (df_adj_size['Metrdist']<=6)].copy()"
   ]
  },
  {
   "cell_type": "code",
   "execution_count": 321,
   "metadata": {
    "collapsed": false
   },
   "outputs": [],
   "source": [
    "df_adj_size['Price'] = list(map(float, list(df_adj_size['Price_duplicate'])))"
   ]
  },
  {
   "cell_type": "code",
   "execution_count": 351,
   "metadata": {
    "collapsed": true
   },
   "outputs": [],
   "source": [
    "model2 = ols('Price ~ Totsp', data = df_adj_size).fit()"
   ]
  },
  {
   "cell_type": "code",
   "execution_count": 352,
   "metadata": {
    "collapsed": false
   },
   "outputs": [
    {
     "data": {
      "text/html": [
       "<table class=\"simpletable\">\n",
       "<caption>OLS Regression Results</caption>\n",
       "<tr>\n",
       "  <th>Dep. Variable:</th>          <td>Price</td>      <th>  R-squared:         </th> <td>   0.181</td>\n",
       "</tr>\n",
       "<tr>\n",
       "  <th>Model:</th>                   <td>OLS</td>       <th>  Adj. R-squared:    </th> <td>   0.174</td>\n",
       "</tr>\n",
       "<tr>\n",
       "  <th>Method:</th>             <td>Least Squares</td>  <th>  F-statistic:       </th> <td>   26.31</td>\n",
       "</tr>\n",
       "<tr>\n",
       "  <th>Date:</th>             <td>Wed, 30 Nov 2016</td> <th>  Prob (F-statistic):</th> <td>1.14e-06</td>\n",
       "</tr>\n",
       "<tr>\n",
       "  <th>Time:</th>                 <td>13:42:12</td>     <th>  Log-Likelihood:    </th> <td> -1200.3</td>\n",
       "</tr>\n",
       "<tr>\n",
       "  <th>No. Observations:</th>      <td>   121</td>      <th>  AIC:               </th> <td>   2405.</td>\n",
       "</tr>\n",
       "<tr>\n",
       "  <th>Df Residuals:</th>          <td>   119</td>      <th>  BIC:               </th> <td>   2410.</td>\n",
       "</tr>\n",
       "<tr>\n",
       "  <th>Df Model:</th>              <td>     1</td>      <th>                     </th>     <td> </td>   \n",
       "</tr>\n",
       "<tr>\n",
       "  <th>Covariance Type:</th>      <td>nonrobust</td>    <th>                     </th>     <td> </td>   \n",
       "</tr>\n",
       "</table>\n",
       "<table class=\"simpletable\">\n",
       "<tr>\n",
       "      <td></td>         <th>coef</th>     <th>std err</th>      <th>t</th>      <th>P>|t|</th> <th>[95.0% Conf. Int.]</th> \n",
       "</tr>\n",
       "<tr>\n",
       "  <th>Intercept</th> <td> 1.476e+04</td> <td> 3740.353</td> <td>    3.947</td> <td> 0.000</td> <td> 7355.552  2.22e+04</td>\n",
       "</tr>\n",
       "<tr>\n",
       "  <th>Totsp</th>     <td>  481.1849</td> <td>   93.815</td> <td>    5.129</td> <td> 0.000</td> <td>  295.422   666.948</td>\n",
       "</tr>\n",
       "</table>\n",
       "<table class=\"simpletable\">\n",
       "<tr>\n",
       "  <th>Omnibus:</th>       <td>13.123</td> <th>  Durbin-Watson:     </th> <td>   1.943</td>\n",
       "</tr>\n",
       "<tr>\n",
       "  <th>Prob(Omnibus):</th> <td> 0.001</td> <th>  Jarque-Bera (JB):  </th> <td>  14.469</td>\n",
       "</tr>\n",
       "<tr>\n",
       "  <th>Skew:</th>          <td> 0.705</td> <th>  Prob(JB):          </th> <td>0.000721</td>\n",
       "</tr>\n",
       "<tr>\n",
       "  <th>Kurtosis:</th>      <td> 3.938</td> <th>  Cond. No.          </th> <td>    331.</td>\n",
       "</tr>\n",
       "</table>"
      ],
      "text/plain": [
       "<class 'statsmodels.iolib.summary.Summary'>\n",
       "\"\"\"\n",
       "                            OLS Regression Results                            \n",
       "==============================================================================\n",
       "Dep. Variable:                  Price   R-squared:                       0.181\n",
       "Model:                            OLS   Adj. R-squared:                  0.174\n",
       "Method:                 Least Squares   F-statistic:                     26.31\n",
       "Date:                Wed, 30 Nov 2016   Prob (F-statistic):           1.14e-06\n",
       "Time:                        13:42:12   Log-Likelihood:                -1200.3\n",
       "No. Observations:                 121   AIC:                             2405.\n",
       "Df Residuals:                     119   BIC:                             2410.\n",
       "Df Model:                           1                                         \n",
       "Covariance Type:            nonrobust                                         \n",
       "==============================================================================\n",
       "                 coef    std err          t      P>|t|      [95.0% Conf. Int.]\n",
       "------------------------------------------------------------------------------\n",
       "Intercept   1.476e+04   3740.353      3.947      0.000      7355.552  2.22e+04\n",
       "Totsp        481.1849     93.815      5.129      0.000       295.422   666.948\n",
       "==============================================================================\n",
       "Omnibus:                       13.123   Durbin-Watson:                   1.943\n",
       "Prob(Omnibus):                  0.001   Jarque-Bera (JB):               14.469\n",
       "Skew:                           0.705   Prob(JB):                     0.000721\n",
       "Kurtosis:                       3.938   Cond. No.                         331.\n",
       "==============================================================================\n",
       "\n",
       "Warnings:\n",
       "[1] Standard Errors assume that the covariance matrix of the errors is correctly specified.\n",
       "\"\"\""
      ]
     },
     "execution_count": 352,
     "metadata": {},
     "output_type": "execute_result"
    }
   ],
   "source": [
    "model2.summary()"
   ]
  },
  {
   "cell_type": "code",
   "execution_count": 353,
   "metadata": {
    "collapsed": false
   },
   "outputs": [
    {
     "data": {
      "text/plain": [
       "Intercept    14761.823748\n",
       "Totsp          481.184867\n",
       "dtype: float64"
      ]
     },
     "execution_count": 353,
     "metadata": {},
     "output_type": "execute_result"
    }
   ],
   "source": [
    "model2.params"
   ]
  },
  {
   "cell_type": "markdown",
   "metadata": {},
   "source": [
    "##### Adjusted prices"
   ]
  },
  {
   "cell_type": "code",
   "execution_count": 384,
   "metadata": {
    "collapsed": true
   },
   "outputs": [],
   "source": [
    "Size_adj1 = (model2.params[0] + model2.params[1]*37.8)/(model2.params[0] + model2.params[1]*75)"
   ]
  },
  {
   "cell_type": "code",
   "execution_count": 385,
   "metadata": {
    "collapsed": false
   },
   "outputs": [
    {
     "data": {
      "text/plain": [
       "Lat                                                55.8606\n",
       "Lon                                                37.5965\n",
       "District                                                 2\n",
       "Small_district                                    Отрадное\n",
       "Rooms                                                    3\n",
       "Price                                                60000\n",
       "Price_duplicate                                    60000.0\n",
       "Totsp                                                   75\n",
       "Livesp                                                  11\n",
       "Kitsp                                                   47\n",
       "Dist                                               829.107\n",
       "Stname                                            Отрадное\n",
       "Metrdist                                                 5\n",
       "Walk                                                     1\n",
       "Rem                                             евроремонт\n",
       "Brick                                                    0\n",
       "Tel                                                      0\n",
       "Bal                                                      1\n",
       "Floor                                                   14\n",
       "Nfloors                                                 17\n",
       "New                                                      1\n",
       "Link               http://www.cian.ru/rent/flat/147673532/\n",
       "Floor_index                                       0.823529\n",
       "Name: 55, dtype: object"
      ]
     },
     "execution_count": 385,
     "metadata": {},
     "output_type": "execute_result"
    }
   ],
   "source": [
    "df_comp2.loc[55, :]"
   ]
  },
  {
   "cell_type": "code",
   "execution_count": 387,
   "metadata": {
    "collapsed": false
   },
   "outputs": [],
   "source": [
    "Price5 = df_comp2.loc[55, 'Price']*Size_adj1*1.068"
   ]
  },
  {
   "cell_type": "code",
   "execution_count": 396,
   "metadata": {
    "collapsed": false
   },
   "outputs": [
    {
     "data": {
      "text/plain": [
       "41523.040301436449"
      ]
     },
     "execution_count": 396,
     "metadata": {},
     "output_type": "execute_result"
    }
   ],
   "source": [
    "Price5"
   ]
  },
  {
   "cell_type": "code",
   "execution_count": 391,
   "metadata": {
    "collapsed": true
   },
   "outputs": [],
   "source": [
    "l_adj_prices.append(Price5)"
   ]
  },
  {
   "cell_type": "markdown",
   "metadata": {},
   "source": [
    "---"
   ]
  },
  {
   "cell_type": "code",
   "execution_count": 389,
   "metadata": {
    "collapsed": true
   },
   "outputs": [],
   "source": [
    "Size_adj2 = (model2.params[0] + model2.params[1]*37.8)/(model2.params[0] + model2.params[1]*39)"
   ]
  },
  {
   "cell_type": "code",
   "execution_count": 390,
   "metadata": {
    "collapsed": false
   },
   "outputs": [
    {
     "data": {
      "text/plain": [
       "Lat                                                55.8618\n",
       "Lon                                                37.6109\n",
       "District                                                 2\n",
       "Small_district                                    Отрадное\n",
       "Rooms                                                    1\n",
       "Price                                                30000\n",
       "Price_duplicate                                    30000.0\n",
       "Totsp                                                   39\n",
       "Livesp                                                 NaN\n",
       "Kitsp                                                   25\n",
       "Dist                                               838.489\n",
       "Stname                                            Отрадное\n",
       "Metrdist                                                 4\n",
       "Walk                                                     1\n",
       "Rem                                          косметический\n",
       "Brick                                                    0\n",
       "Tel                                                      0\n",
       "Bal                                                      1\n",
       "Floor                                                    7\n",
       "Nfloors                                                 12\n",
       "New                                                      1\n",
       "Link               http://www.cian.ru/rent/flat/151053124/\n",
       "Floor_index                                       0.583333\n",
       "Name: 351, dtype: object"
      ]
     },
     "execution_count": 390,
     "metadata": {},
     "output_type": "execute_result"
    }
   ],
   "source": [
    "df_comp2.loc[351, :]"
   ]
  },
  {
   "cell_type": "code",
   "execution_count": 394,
   "metadata": {
    "collapsed": true
   },
   "outputs": [],
   "source": [
    "Price6 = df_comp2.loc[351, 'Price']*Size_adj2*1.022"
   ]
  },
  {
   "cell_type": "code",
   "execution_count": 395,
   "metadata": {
    "collapsed": false
   },
   "outputs": [
    {
     "data": {
      "text/plain": [
       "30131.971608794764"
      ]
     },
     "execution_count": 395,
     "metadata": {},
     "output_type": "execute_result"
    }
   ],
   "source": [
    "Price6"
   ]
  },
  {
   "cell_type": "code",
   "execution_count": 397,
   "metadata": {
    "collapsed": true
   },
   "outputs": [],
   "source": [
    "l_adj_prices.append(Price6)"
   ]
  },
  {
   "cell_type": "markdown",
   "metadata": {},
   "source": [
    "---"
   ]
  },
  {
   "cell_type": "code",
   "execution_count": 400,
   "metadata": {
    "collapsed": true
   },
   "outputs": [],
   "source": [
    "Size_adj3 = (model2.params[0] + model2.params[1]*37.8)/(model2.params[0] + model2.params[1]*54)"
   ]
  },
  {
   "cell_type": "code",
   "execution_count": 401,
   "metadata": {
    "collapsed": false
   },
   "outputs": [
    {
     "data": {
      "text/plain": [
       "Lat                                                55.8602\n",
       "Lon                                                37.5948\n",
       "District                                                 2\n",
       "Small_district                                    Отрадное\n",
       "Rooms                                                    2\n",
       "Price                                                50000\n",
       "Price_duplicate                                    50000.0\n",
       "Totsp                                                   54\n",
       "Livesp                                                  10\n",
       "Kitsp                                                   34\n",
       "Dist                                                825.78\n",
       "Stname                                            Отрадное\n",
       "Metrdist                                                 5\n",
       "Walk                                                     1\n",
       "Rem                                             евроремонт\n",
       "Brick                                                    0\n",
       "Tel                                                      0\n",
       "Bal                                                      1\n",
       "Floor                                                    4\n",
       "Nfloors                                                 17\n",
       "New                                                    NaN\n",
       "Link               http://www.cian.ru/rent/flat/151362963/\n",
       "Floor_index                                       0.235294\n",
       "Name: 1318, dtype: object"
      ]
     },
     "execution_count": 401,
     "metadata": {},
     "output_type": "execute_result"
    }
   ],
   "source": [
    "df_comp2.loc[1318, :]"
   ]
  },
  {
   "cell_type": "code",
   "execution_count": 402,
   "metadata": {
    "collapsed": true
   },
   "outputs": [],
   "source": [
    "Price7 = df_comp2.loc[1318, 'Price']*Size_adj3*1.068"
   ]
  },
  {
   "cell_type": "code",
   "execution_count": 403,
   "metadata": {
    "collapsed": false
   },
   "outputs": [
    {
     "data": {
      "text/plain": [
       "43183.895823242798"
      ]
     },
     "execution_count": 403,
     "metadata": {},
     "output_type": "execute_result"
    }
   ],
   "source": [
    "Price7"
   ]
  },
  {
   "cell_type": "code",
   "execution_count": 412,
   "metadata": {
    "collapsed": true
   },
   "outputs": [],
   "source": [
    "l_adj_prices.append(Price7)"
   ]
  },
  {
   "cell_type": "markdown",
   "metadata": {},
   "source": [
    "---"
   ]
  },
  {
   "cell_type": "code",
   "execution_count": 406,
   "metadata": {
    "collapsed": true
   },
   "outputs": [],
   "source": [
    "Size_adj4 = (model2.params[0] + model2.params[1]*37.8)/(model2.params[0] + model2.params[1]*65)"
   ]
  },
  {
   "cell_type": "code",
   "execution_count": 407,
   "metadata": {
    "collapsed": false
   },
   "outputs": [
    {
     "data": {
      "text/plain": [
       "Lat                                                55.8622\n",
       "Lon                                                37.6063\n",
       "District                                                 2\n",
       "Small_district                                    Отрадное\n",
       "Rooms                                                    3\n",
       "Price                                                55000\n",
       "Price_duplicate                                    55000.0\n",
       "Totsp                                                   65\n",
       "Livesp                                                 8.5\n",
       "Kitsp                                                   43\n",
       "Dist                                               841.616\n",
       "Stname                                            Отрадное\n",
       "Metrdist                                                 4\n",
       "Walk                                                     1\n",
       "Rem                                          косметический\n",
       "Brick                                                    0\n",
       "Tel                                                      0\n",
       "Bal                                                      1\n",
       "Floor                                                    2\n",
       "Nfloors                                                 12\n",
       "New                                                    NaN\n",
       "Link               http://www.cian.ru/rent/flat/151543096/\n",
       "Floor_index                                       0.166667\n",
       "Name: 1609, dtype: object"
      ]
     },
     "execution_count": 407,
     "metadata": {},
     "output_type": "execute_result"
    }
   ],
   "source": [
    "df_comp2.loc[1609, :]"
   ]
  },
  {
   "cell_type": "code",
   "execution_count": 408,
   "metadata": {
    "collapsed": true
   },
   "outputs": [],
   "source": [
    "Price8 = df_comp2.loc[1318, 'Price']*Size_adj4*1.022"
   ]
  },
  {
   "cell_type": "code",
   "execution_count": 415,
   "metadata": {
    "collapsed": false
   },
   "outputs": [],
   "source": [
    "l_adj_prices.append(Price8)"
   ]
  },
  {
   "cell_type": "code",
   "execution_count": 416,
   "metadata": {
    "collapsed": false
   },
   "outputs": [
    {
     "data": {
      "text/plain": [
       "(35492.425139992432, 9)"
      ]
     },
     "execution_count": 416,
     "metadata": {},
     "output_type": "execute_result"
    }
   ],
   "source": [
    "np.mean(l_adj_prices), len(l_adj_prices)"
   ]
  }
 ],
 "metadata": {
  "kernelspec": {
   "display_name": "Python 3",
   "language": "python",
   "name": "python3"
  },
  "language_info": {
   "codemirror_mode": {
    "name": "ipython",
    "version": 3
   },
   "file_extension": ".py",
   "mimetype": "text/x-python",
   "name": "python",
   "nbconvert_exporter": "python",
   "pygments_lexer": "ipython3",
   "version": "3.5.2"
  }
 },
 "nbformat": 4,
 "nbformat_minor": 0
}
