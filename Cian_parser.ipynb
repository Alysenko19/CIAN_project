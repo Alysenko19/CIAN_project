{
 "cells": [
  {
   "cell_type": "code",
   "execution_count": 1,
   "metadata": {
    "collapsed": true
   },
   "outputs": [],
   "source": [
    "import requests\n",
    "import re\n",
    "from bs4 import BeautifulSoup\n",
    "import pandas as pd\n",
    "import time\n",
    "import numpy as np"
   ]
  },
  {
   "cell_type": "markdown",
   "metadata": {},
   "source": [
    "# Страница с которой берем квартиры"
   ]
  },
  {
   "cell_type": "code",
   "execution_count": 2,
   "metadata": {
    "collapsed": true
   },
   "outputs": [],
   "source": [
    "district = 'http://www.cian.ru/cat.php?deal_type=sale&district%5B0%5D=13&district%5B1%5D=14&district%5B2%5D=15&\\\n",
    "district%5B3%5D=16&district%5B4%5D=17&district%5B5%5D=18&district%5B6%5D=19&district%5B7%5D=20&district%5B8%5D=21\\\n",
    "&district%5B9%5D=22&engine_version=2&offer_type=flat&p={}&room1=1&room2=1&room3=1&room4=1&room5=1&room6=1'"
   ]
  },
  {
   "cell_type": "code",
   "execution_count": 3,
   "metadata": {
    "collapsed": false
   },
   "outputs": [
    {
     "data": {
      "text/plain": [
       "'http://www.cian.ru/cat.php?deal_type=sale&district%5B0%5D=13&district%5B1%5D=14&district%5B2%5D=15&district%5B3%5D=16&district%5B4%5D=17&district%5B5%5D=18&district%5B6%5D=19&district%5B7%5D=20&district%5B8%5D=21&district%5B9%5D=22&engine_version=2&offer_type=flat&p={}&room1=1&room2=1&room3=1&room4=1&room5=1&room6=1'"
      ]
     },
     "execution_count": 3,
     "metadata": {},
     "output_type": "execute_result"
    }
   ],
   "source": [
    "district"
   ]
  },
  {
   "cell_type": "markdown",
   "metadata": {},
   "source": [
    "# Собираем базу ссылок на страницы квартир"
   ]
  },
  {
   "cell_type": "markdown",
   "metadata": {},
   "source": [
    "Для начала посмотрим на первую страницу - по ней определимся со всеми остальными (всего их 30)"
   ]
  },
  {
   "cell_type": "code",
   "execution_count": 4,
   "metadata": {
    "collapsed": true
   },
   "outputs": [],
   "source": [
    "first_page = requests.get(district.format(1))\n",
    "first_page = first_page.text\n",
    "first_page = BeautifulSoup(first_page, 'lxml')"
   ]
  },
  {
   "cell_type": "markdown",
   "metadata": {},
   "source": [
    "Все квартиры лежат теге div с id = content\n",
    "Положим нужный кусок html кода в переменную"
   ]
  },
  {
   "cell_type": "code",
   "execution_count": 5,
   "metadata": {
    "collapsed": false
   },
   "outputs": [],
   "source": [
    "flats = first_page.html.body.findAll('div', id='content')"
   ]
  },
  {
   "cell_type": "markdown",
   "metadata": {},
   "source": [
    "Углубляемся дальше - видим div c классом serp-list"
   ]
  },
  {
   "cell_type": "code",
   "execution_count": 6,
   "metadata": {
    "collapsed": false
   },
   "outputs": [],
   "source": [
    "flats = flats[0].findAll('div', attrs = {'class':'serp-list'})"
   ]
  },
  {
   "cell_type": "code",
   "execution_count": 7,
   "metadata": {
    "collapsed": false
   },
   "outputs": [],
   "source": [
    "flats = flats[0]"
   ]
  },
  {
   "cell_type": "code",
   "execution_count": 8,
   "metadata": {
    "collapsed": false,
    "scrolled": true
   },
   "outputs": [],
   "source": [
    "flats_cian = flats.findAll('div',\\\n",
    "              attrs = {'ng-class':\"{'serp-item_removed': offer.remove.state, 'serp-item_popup-opened': isPopupOpen}\"})"
   ]
  },
  {
   "cell_type": "markdown",
   "metadata": {},
   "source": [
    "Соберем ссылки на страницы квартир с первой страницы поиска"
   ]
  },
  {
   "cell_type": "code",
   "execution_count": 10,
   "metadata": {
    "collapsed": true
   },
   "outputs": [],
   "source": [
    "flats_one_page = []\n",
    "for i in range(len(flats_cian)):\n",
    "    flats_one_page.append(flats_cian[i].attrs['href'])"
   ]
  },
  {
   "cell_type": "code",
   "execution_count": 11,
   "metadata": {
    "collapsed": false,
    "scrolled": false
   },
   "outputs": [
    {
     "data": {
      "text/plain": [
       "['http://www.cian.ru/sale/flat/150922264/',\n",
       " 'http://www.cian.ru/sale/flat/2914021/',\n",
       " 'http://www.cian.ru/sale/flat/47073122/',\n",
       " 'http://www.cian.ru/sale/flat/149031353/',\n",
       " 'http://www.cian.ru/sale/flat/149031259/']"
      ]
     },
     "execution_count": 11,
     "metadata": {},
     "output_type": "execute_result"
    }
   ],
   "source": [
    "flats_one_page[0:5] # Посмотрим на первые пять"
   ]
  },
  {
   "cell_type": "markdown",
   "metadata": {},
   "source": [
    "Обернем сбор ссылок в функцию"
   ]
  },
  {
   "cell_type": "code",
   "execution_count": 12,
   "metadata": {
    "collapsed": false
   },
   "outputs": [],
   "source": [
    "def page_grabber(page):\n",
    "    flats_links = [] # список с ссылками с одной страницы поиска\n",
    "    p = len(page)\n",
    "    for i in range(p):\n",
    "        flats_links.append(page[i].attrs['href']) # один элемент - ссылка (то есть атрибут href тега div)\n",
    "    return(flats_links)"
   ]
  },
  {
   "cell_type": "markdown",
   "metadata": {},
   "source": [
    "Соберем все квартиры:"
   ]
  },
  {
   "cell_type": "code",
   "execution_count": 13,
   "metadata": {
    "collapsed": false,
    "scrolled": true
   },
   "outputs": [
    {
     "name": "stdout",
     "output_type": "stream",
     "text": [
      "The page number 1 wroks well\n",
      "Its requests.ok is True\n",
      "The page number 2 wroks well\n",
      "Its requests.ok is True\n",
      "The page number 3 wroks well\n",
      "Its requests.ok is True\n",
      "The page number 4 wroks well\n",
      "Its requests.ok is True\n",
      "The page number 5 wroks well\n",
      "Its requests.ok is True\n",
      "The page number 6 wroks well\n",
      "Its requests.ok is True\n",
      "The page number 7 wroks well\n",
      "Its requests.ok is True\n",
      "The page number 8 wroks well\n",
      "Its requests.ok is True\n",
      "The page number 9 wroks well\n",
      "Its requests.ok is True\n",
      "The page number 10 wroks well\n",
      "Its requests.ok is True\n",
      "The page number 11 wroks well\n",
      "Its requests.ok is True\n",
      "The page number 12 wroks well\n",
      "Its requests.ok is True\n",
      "The page number 13 wroks well\n",
      "Its requests.ok is True\n",
      "The page number 14 wroks well\n",
      "Its requests.ok is True\n",
      "The page number 15 wroks well\n",
      "Its requests.ok is True\n",
      "The page number 16 wroks well\n",
      "Its requests.ok is True\n",
      "The page number 17 wroks well\n",
      "Its requests.ok is True\n",
      "The page number 18 wroks well\n",
      "Its requests.ok is True\n",
      "The page number 19 wroks well\n",
      "Its requests.ok is True\n",
      "The page number 20 wroks well\n",
      "Its requests.ok is True\n",
      "The page number 21 wroks well\n",
      "Its requests.ok is True\n",
      "The page number 22 wroks well\n",
      "Its requests.ok is True\n",
      "The page number 23 wroks well\n",
      "Its requests.ok is True\n",
      "The page number 24 wroks well\n",
      "Its requests.ok is True\n",
      "The page number 25 wroks well\n",
      "Its requests.ok is True\n",
      "The page number 26 wroks well\n",
      "Its requests.ok is True\n",
      "The page number 27 wroks well\n",
      "Its requests.ok is True\n",
      "The page number 28 wroks well\n",
      "Its requests.ok is True\n",
      "The page number 29 wroks well\n",
      "Its requests.ok is True\n",
      "The page number 30 wroks well\n",
      "Its requests.ok is True\n"
     ]
    }
   ],
   "source": [
    "links = [] # Список, который заполним всеми квартирами (только те, что размещены внутри самомго сайта)\n",
    "\n",
    "for i in range(1,31):\n",
    "    # Получаем нужную страницу\n",
    "    search_page = requests.get(district.format(i))\n",
    "    search_page = search_page.text\n",
    "    search_page = BeautifulSoup(search_page, 'lxml')\n",
    "    \n",
    "    # Внутри нужной страницы добираемся до таблицы с квартирами\n",
    "    flats = search_page.html.body.findAll('div', id='content')\n",
    "    flats = flats[0].findAll('div', attrs = {'class':'serp-list'})\n",
    "    \n",
    "    # В этой переменной будет лежать нужный кусок страницы (в каждой итерации новая страница)\n",
    "    flats_cian = flats[0].findAll('div',\\\n",
    "              attrs = {'ng-class':\"{'serp-item_removed': offer.remove.state, 'serp-item_popup-opened': isPopupOpen}\"})\n",
    "    \n",
    "    # Берем ссылки с текущей страницы и кладем в наш общий список ссылок\n",
    "    links = links + page_grabber(flats_cian)\n",
    "    \n",
    "    # Каждую итерацию проверяем, что все нормально работает \n",
    "    print('The page number {} wroks well\\nIts requests.ok is {}'.format(i, requests.get(district.format(i)).ok))"
   ]
  },
  {
   "cell_type": "code",
   "execution_count": 14,
   "metadata": {
    "collapsed": false
   },
   "outputs": [
    {
     "data": {
      "text/plain": [
       "840"
      ]
     },
     "execution_count": 14,
     "metadata": {},
     "output_type": "execute_result"
    }
   ],
   "source": [
    "len(links)"
   ]
  },
  {
   "cell_type": "markdown",
   "metadata": {},
   "source": [
    "Собрали ссылки на 840 квартир."
   ]
  },
  {
   "cell_type": "markdown",
   "metadata": {},
   "source": [
    "---"
   ]
  },
  {
   "cell_type": "markdown",
   "metadata": {},
   "source": [
    "# Напишем функции, которые берут нужную информации по каждой квартире"
   ]
  },
  {
   "cell_type": "markdown",
   "metadata": {},
   "source": [
    "## Посмотрим, что нужно собрать\n",
    "- N – номер квартиры по порядку\n",
    "- Rooms – число комнат\n",
    "- Price – цена\n",
    "- Totsp – общая площадь квартиры, кв. м.\n",
    "- Livesp – жилая площадь квартиры, кв. м.\n",
    "- Kitsp – площадь кухни, кв. м.\n",
    "- Dist – расстояние от центра в км. (можно по Пифагору)\n",
    "- Metrdist – расстояние до метро в минутах\n",
    "- Walk – 1 – если пешком от метро, 0 – если на транспорте\n",
    "- Brick – 1 – кирпичный/монолит/жб, 0 – другой\n",
    "- Tel – 1 – если есть, 0 – нет\n",
    "- Bal – 1 – есть балкон/лоджия, 0 – нет\n",
    "- Floor – номер этажа, на котором расположена квартира\n",
    "- Nfloors – всего этажей в доме\n",
    "- New – 1 – первичный рынок, 0 - вторичка"
   ]
  },
  {
   "cell_type": "markdown",
   "metadata": {},
   "source": [
    " Посмотрим на вторую страницу (там доступно больше информации, поэтому по ней будет удобно настраивать парсер)."
   ]
  },
  {
   "cell_type": "code",
   "execution_count": 283,
   "metadata": {
    "collapsed": false
   },
   "outputs": [
    {
     "data": {
      "text/plain": [
       "'http://www.cian.ru/sale/flat/150695572/'"
      ]
     },
     "execution_count": 283,
     "metadata": {},
     "output_type": "execute_result"
    }
   ],
   "source": [
    "links[1]"
   ]
  },
  {
   "cell_type": "markdown",
   "metadata": {},
   "source": [
    "### Собираем данные"
   ]
  },
  {
   "cell_type": "markdown",
   "metadata": {},
   "source": [
    "Посмотрев на код страницы видим, что много информации лежит в таблице с классом object_descr_tab. Захватим этот кусок сайта."
   ]
  },
  {
   "cell_type": "markdown",
   "metadata": {},
   "source": [
    "############################################################################################################################"
   ]
  },
  {
   "cell_type": "code",
   "execution_count": 410,
   "metadata": {
    "collapsed": true
   },
   "outputs": [],
   "source": [
    "flat_page = requests.get(links[1])\n",
    "flat_page = flat_page.text\n",
    "flat_page = BeautifulSoup(flat_page, 'lxml')"
   ]
  },
  {
   "cell_type": "code",
   "execution_count": 411,
   "metadata": {
    "collapsed": true
   },
   "outputs": [],
   "source": [
    "inf_table = flat_page.findAll('table', class_ = 'object_descr_tab')\n",
    "inf_table = inf_table[0]"
   ]
  },
  {
   "cell_type": "markdown",
   "metadata": {},
   "source": [
    "############################################################################################################################"
   ]
  },
  {
   "cell_type": "markdown",
   "metadata": {},
   "source": [
    "### Пойдем по нужным параметрам подряд"
   ]
  },
  {
   "cell_type": "markdown",
   "metadata": {},
   "source": [
    "#### Число комнат"
   ]
  },
  {
   "cell_type": "code",
   "execution_count": 412,
   "metadata": {
    "collapsed": false
   },
   "outputs": [],
   "source": [
    "room = inf_table.findAll('div', class_='object_descr_title')"
   ]
  },
  {
   "cell_type": "code",
   "execution_count": 413,
   "metadata": {
    "collapsed": false
   },
   "outputs": [],
   "source": [
    "room = room[0]"
   ]
  },
  {
   "cell_type": "code",
   "execution_count": 414,
   "metadata": {
    "collapsed": false
   },
   "outputs": [],
   "source": [
    "room = re.findall(r'.?-комн. кв.' ,str(room))[0]"
   ]
  },
  {
   "cell_type": "code",
   "execution_count": 415,
   "metadata": {
    "collapsed": false
   },
   "outputs": [
    {
     "data": {
      "text/plain": [
       "4"
      ]
     },
     "execution_count": 415,
     "metadata": {},
     "output_type": "execute_result"
    }
   ],
   "source": [
    "# Берем первый символ, поскольку в фильтре на циане задано, что комнат может быть от 1 до 5 (больше - это \"многокомн. кв.\")\n",
    "int(room[0])"
   ]
  },
  {
   "cell_type": "markdown",
   "metadata": {},
   "source": [
    "Обернем это дело  функцию"
   ]
  },
  {
   "cell_type": "markdown",
   "metadata": {},
   "source": [
    "На сайте есть страницы квартир, где вместо количества комнат стоят слова \"многокомн. кв.\" - в этом случае будем считать, что квартир там 6. (как правио это большие квартиры от 200 кв. м., поэтому 6 еомнат - логичное предположение)"
   ]
  },
  {
   "cell_type": "code",
   "execution_count": 372,
   "metadata": {
    "collapsed": true
   },
   "outputs": [],
   "source": [
    "def room_grabber(table):\n",
    "    room = table.findAll('div', class_='object_descr_title')\n",
    "    try:\n",
    "        room = re.findall(r'.?-комн. кв.' ,str(room[0]))[0]\n",
    "    except:\n",
    "        if re.findall(r'многокомн' ,str(room[0]))[0] == 'многокомн':\n",
    "            room = [6]\n",
    "    return(int(room[0]))"
   ]
  },
  {
   "cell_type": "code",
   "execution_count": 373,
   "metadata": {
    "collapsed": false
   },
   "outputs": [
    {
     "data": {
      "text/plain": [
       "6"
      ]
     },
     "execution_count": 373,
     "metadata": {},
     "output_type": "execute_result"
    }
   ],
   "source": [
    "room_grabber(inf_table)"
   ]
  },
  {
   "cell_type": "markdown",
   "metadata": {},
   "source": [
    "#### Цена"
   ]
  },
  {
   "cell_type": "code",
   "execution_count": 416,
   "metadata": {
    "collapsed": true
   },
   "outputs": [],
   "source": [
    "price = inf_table.findAll('div', class_='object_descr_price_box')"
   ]
  },
  {
   "cell_type": "code",
   "execution_count": 417,
   "metadata": {
    "collapsed": false
   },
   "outputs": [
    {
     "data": {
      "text/plain": [
       "<div class=\"object_descr_price\">\n",
       "            \n",
       "                \n",
       "\n",
       "55 000 000 руб.\n",
       "\n",
       "            \n",
       "            \n",
       "\n",
       "\n",
       "            \n",
       "        </div>"
      ]
     },
     "execution_count": 417,
     "metadata": {},
     "output_type": "execute_result"
    }
   ],
   "source": [
    "price[0].findAll('div')[0]"
   ]
  },
  {
   "cell_type": "code",
   "execution_count": 418,
   "metadata": {
    "collapsed": false
   },
   "outputs": [
    {
     "name": "stdout",
     "output_type": "stream",
     "text": [
      " руб.\n",
      "55000000\n"
     ]
    }
   ],
   "source": [
    "p1 = price[0].findAll('div')[0].string.strip()\n",
    "print(p1[-5:]) # проверим, что выкинем только \" руб.\"\n",
    "p1 = int(p1[:-5].replace(' ', '')) # выкинули \" руб.\" и убрали пробелы\n",
    "print(p1)"
   ]
  },
  {
   "cell_type": "code",
   "execution_count": 419,
   "metadata": {
    "collapsed": false
   },
   "outputs": [],
   "source": [
    "p2 = price[0].findAll('div')[1].string.strip()"
   ]
  },
  {
   "cell_type": "code",
   "execution_count": 420,
   "metadata": {
    "collapsed": false
   },
   "outputs": [],
   "source": [
    "p2 = p2.replace(',', '.')"
   ]
  },
  {
   "cell_type": "code",
   "execution_count": 421,
   "metadata": {
    "collapsed": false
   },
   "outputs": [
    {
     "name": "stdout",
     "output_type": "stream",
     "text": [
      "55000000.0\n"
     ]
    }
   ],
   "source": [
    "p2 = float(p2)\n",
    "print(p2)"
   ]
  },
  {
   "cell_type": "markdown",
   "metadata": {},
   "source": [
    "Обернем поиск цены в функцию"
   ]
  },
  {
   "cell_type": "code",
   "execution_count": 354,
   "metadata": {
    "collapsed": false
   },
   "outputs": [],
   "source": [
    "def price_grabber(table):\n",
    "    '''\n",
    "    Будем возвращать цену списком. Судя по всему ЦИАН предоставил нам скрытый тег, в котором лежит цена в удобном для нас\n",
    "    виде - на всякий случай будем собирать цену в двух вариантах (можно будет проверить + если один вариант отпал - другой будет доступен).\n",
    "    В качестве нулевых значений возьмем NaN\n",
    "    '''\n",
    "    price = table.findAll('div', class_='object_descr_price_box')\n",
    "    \n",
    "    p1 = np.nan\n",
    "    p2 = np.nan\n",
    "    \n",
    "    try:\n",
    "        p1 = price[0].findAll('div')[0].string.strip()\n",
    "        p1 = int(p1[:-5].replace(' ', ''))\n",
    "    except:\n",
    "        pass\n",
    "    \n",
    "    try:\n",
    "        p2 = price[0].findAll('div')[1].string.strip()\n",
    "        p2 = float(p2.replace(',', '.'))\n",
    "    except:\n",
    "        pass\n",
    "    \n",
    "    return([p1,p2])"
   ]
  },
  {
   "cell_type": "code",
   "execution_count": 355,
   "metadata": {
    "collapsed": false
   },
   "outputs": [
    {
     "data": {
      "text/plain": [
       "[nan, 234530831.08]"
      ]
     },
     "execution_count": 355,
     "metadata": {},
     "output_type": "execute_result"
    }
   ],
   "source": [
    "price_grabber(inf_table)"
   ]
  },
  {
   "cell_type": "markdown",
   "metadata": {},
   "source": [
    "#### Расстояние до метро в минутах + Walk"
   ]
  },
  {
   "cell_type": "markdown",
   "metadata": {},
   "source": [
    "По тегу div находим нужный кусок. "
   ]
  },
  {
   "cell_type": "code",
   "execution_count": 30,
   "metadata": {
    "collapsed": true
   },
   "outputs": [],
   "source": [
    "metro = inf_table.findAll('div', class_='object_descr_metro')"
   ]
  },
  {
   "cell_type": "code",
   "execution_count": 31,
   "metadata": {
    "collapsed": false
   },
   "outputs": [],
   "source": [
    "metro = metro[0].findAll('span', class_='object_item_metro_comment')[0].string"
   ]
  },
  {
   "cell_type": "markdown",
   "metadata": {},
   "source": [
    "Через регулярный выражения найдем кусок с числами - это будут минуты"
   ]
  },
  {
   "cell_type": "code",
   "execution_count": 32,
   "metadata": {
    "collapsed": false
   },
   "outputs": [],
   "source": [
    "metrdist = int(re.findall(r'\\d+', metro)[0])"
   ]
  },
  {
   "cell_type": "code",
   "execution_count": 33,
   "metadata": {
    "collapsed": false
   },
   "outputs": [
    {
     "data": {
      "text/plain": [
       "9"
      ]
     },
     "execution_count": 33,
     "metadata": {},
     "output_type": "execute_result"
    }
   ],
   "source": [
    "metrdist"
   ]
  },
  {
   "cell_type": "markdown",
   "metadata": {},
   "source": [
    "Для определения walk сначала выкинем из строки все пробелы и переносы строк, что бы было проще использовать регулярное выражение. Затем найдем все, что будет идти после \"мин.\" - это и есть наш способ передвижения до дома."
   ]
  },
  {
   "cell_type": "code",
   "execution_count": 34,
   "metadata": {
    "collapsed": true
   },
   "outputs": [],
   "source": [
    "walk = metro.replace(' ', '')\n",
    "walk = walk.replace('\\n', '')"
   ]
  },
  {
   "cell_type": "code",
   "execution_count": 35,
   "metadata": {
    "collapsed": false
   },
   "outputs": [],
   "source": [
    "walk = re.findall(r'мин\\..+', walk)[0][4:]"
   ]
  },
  {
   "cell_type": "code",
   "execution_count": 36,
   "metadata": {
    "collapsed": false
   },
   "outputs": [
    {
     "data": {
      "text/plain": [
       "'пешком'"
      ]
     },
     "execution_count": 36,
     "metadata": {},
     "output_type": "execute_result"
    }
   ],
   "source": [
    "walk"
   ]
  },
  {
   "cell_type": "markdown",
   "metadata": {},
   "source": [
    "Снова обернем поиск этих двух величин в функцию"
   ]
  },
  {
   "cell_type": "code",
   "execution_count": 335,
   "metadata": {
    "collapsed": false
   },
   "outputs": [],
   "source": [
    "def metro(table):\n",
    "    try:\n",
    "        # Нужный кусок html\n",
    "        metro = table.findAll('div', class_='object_descr_metro')\n",
    "        metro = metro[0].findAll('span', class_='object_item_metro_comment')[0].string\n",
    "\n",
    "        # Минуты\n",
    "        metrdist = int(re.findall(r'\\d+', metro)[0])\n",
    "\n",
    "        # Walk\n",
    "        walk = metro.replace(' ', '')\n",
    "        walk = walk.replace('\\n', '')\n",
    "        walk = re.findall(r'мин\\..+', walk)[0][4:]\n",
    "        if walk == 'пешком':\n",
    "            walk = 1\n",
    "        elif walk == []:\n",
    "            walk = np.nan\n",
    "        else:\n",
    "            walk = 0\n",
    "    except:\n",
    "        metrdist = np.nan\n",
    "        walk = np.nan\n",
    "        \n",
    "    return({'metrdist': metrdist, 'walk': walk})"
   ]
  },
  {
   "cell_type": "code",
   "execution_count": 336,
   "metadata": {
    "collapsed": false
   },
   "outputs": [
    {
     "data": {
      "text/plain": [
       "{'metrdist': nan, 'walk': nan}"
      ]
     },
     "execution_count": 336,
     "metadata": {},
     "output_type": "execute_result"
    }
   ],
   "source": [
    "metro(inf_table)"
   ]
  },
  {
   "cell_type": "markdown",
   "metadata": {},
   "source": [
    "#### Материал стен: кирпичный/монолит/жб"
   ]
  },
  {
   "cell_type": "markdown",
   "metadata": {},
   "source": [
    "Сначала найдем нужный div (данные лежат в таблице под картой). Причем надо помнить, что эта секция может отсутствовать на странице квартиры, так что это надо учесть при поиске."
   ]
  },
  {
   "cell_type": "code",
   "execution_count": 273,
   "metadata": {
    "collapsed": true
   },
   "outputs": [],
   "source": [
    "house_table = flat_page.findAll('div', class_='offer_container object_descr cleared')"
   ]
  },
  {
   "cell_type": "code",
   "execution_count": 274,
   "metadata": {
    "collapsed": false
   },
   "outputs": [],
   "source": [
    "house_table = house_table[0].findAll('div', class_='bti__inner')"
   ]
  },
  {
   "cell_type": "code",
   "execution_count": 276,
   "metadata": {
    "collapsed": false
   },
   "outputs": [
    {
     "data": {
      "text/plain": [
       "1"
      ]
     },
     "execution_count": 276,
     "metadata": {},
     "output_type": "execute_result"
    }
   ],
   "source": [
    "len(house_table)"
   ]
  },
  {
   "cell_type": "markdown",
   "metadata": {},
   "source": [
    "В таблице, содержащей данные о доме, найдем первый тег tbody, так как именно в нем лежит информация о материале стен"
   ]
  },
  {
   "cell_type": "code",
   "execution_count": 245,
   "metadata": {
    "collapsed": false
   },
   "outputs": [],
   "source": [
    "first_table = house_table[0].findAll('tbody')[0]"
   ]
  },
  {
   "cell_type": "code",
   "execution_count": 249,
   "metadata": {
    "collapsed": true
   },
   "outputs": [],
   "source": [
    "first_table_tr = first_table.findAll('tr')"
   ]
  },
  {
   "cell_type": "markdown",
   "metadata": {},
   "source": [
    "Так будем искать нужные куски инфрмации"
   ]
  },
  {
   "cell_type": "code",
   "execution_count": 260,
   "metadata": {
    "collapsed": false
   },
   "outputs": [
    {
     "data": {
      "text/plain": [
       "<th>\n",
       "<div class=\"bti__data__name\">Материалы стен</div>\n",
       "<div class=\"bti__data__stretch\"></div>\n",
       "</th>"
      ]
     },
     "execution_count": 260,
     "metadata": {},
     "output_type": "execute_result"
    }
   ],
   "source": [
    "first_table_tr[1].th"
   ]
  },
  {
   "cell_type": "code",
   "execution_count": 261,
   "metadata": {
    "collapsed": false
   },
   "outputs": [
    {
     "data": {
      "text/plain": [
       "<td>кирпичный</td>"
      ]
     },
     "execution_count": 261,
     "metadata": {},
     "output_type": "execute_result"
    }
   ],
   "source": [
    "first_table_tr[1].td"
   ]
  },
  {
   "cell_type": "code",
   "execution_count": 280,
   "metadata": {
    "collapsed": true
   },
   "outputs": [],
   "source": [
    "def brick_grabber(flat_page):\n",
    "    \n",
    "    # Ищем на странице нужный кусок html кода\n",
    "    house_table = flat_page.findAll('div', class_='offer_container object_descr cleared')\n",
    "    house_table = house_table[0].findAll('div', class_='bti__inner')\n",
    "    \n",
    "    # Проверка на случай, если искомая секция вобще отсутствует на странице данной квартиры\n",
    "    if house_table == []:\n",
    "        brick = np.nan\n",
    "    else:\n",
    "        # Углубляемся в нужный кусок html кода\n",
    "        first_table = house_table[0].findAll('tbody')[0]\n",
    "        first_table_tr = first_table.findAll('tr') # Собрали все tr, то есть все секции первой малой таблицы\n",
    "\n",
    "        #Ищем нужный th с информацией о материале\n",
    "        for i in range(1,len(first_table_tr)):\n",
    "            try:\n",
    "                brick_str = re.findall(r'Материалы стен', str(first_table_tr[i].th))[0]\n",
    "                if brick_str == 'Материалы стен':\n",
    "                    # Ищем один из нужных нам флажков - кирпич, монолит или варианты ж/б\n",
    "                    brick = re.findall(r'кирпич|монолит|ж??б|желез.+бетон', str(first_table_tr[i].td))\n",
    "            except:\n",
    "                pass\n",
    "\n",
    "        # Проверяем результат регулярного выражения\n",
    "        if len(brick) == 0:\n",
    "            brick = 0\n",
    "        else:\n",
    "            brick = 1\n",
    "        \n",
    "    return(brick)"
   ]
  },
  {
   "cell_type": "code",
   "execution_count": 281,
   "metadata": {
    "collapsed": false
   },
   "outputs": [
    {
     "data": {
      "text/plain": [
       "nan"
      ]
     },
     "execution_count": 281,
     "metadata": {},
     "output_type": "execute_result"
    }
   ],
   "source": [
    "brick_grabber(flat_page)"
   ]
  },
  {
   "cell_type": "markdown",
   "metadata": {},
   "source": [
    "#### Расстояние от центра в км."
   ]
  },
  {
   "cell_type": "markdown",
   "metadata": {},
   "source": [
    "Для начала найдем координаты нашего дома. Для этого используем карту. Как видно из кода в куске страницы, посвященной карте, можно выудить ссылку, в которой прописаны искомые координты."
   ]
  },
  {
   "cell_type": "code",
   "execution_count": 284,
   "metadata": {
    "collapsed": false
   },
   "outputs": [
    {
     "data": {
      "text/plain": [
       "<a href=\"http://map.cian.ru/?deal_type=2&amp;flats=yes&amp;center=55.762586%2C37.597809&amp;room0=1&amp;room1=1&amp;room2=1&amp;room3=1&amp;room4=1\" rel=\"nofollow\" target=\"_blank\"><i></i>Посмотреть предложения рядом</a>"
      ]
     },
     "execution_count": 284,
     "metadata": {},
     "output_type": "execute_result"
    }
   ],
   "source": [
    "flat_page.find('div', attrs={'class':'map_info_button_extend'}).contents[1]"
   ]
  },
  {
   "cell_type": "code",
   "execution_count": 285,
   "metadata": {
    "collapsed": true
   },
   "outputs": [],
   "source": [
    "coords = flat_page.find('div', attrs={'class':'map_info_button_extend'}).contents[1]\n",
    "coords = re.split('&amp|center=|%2C', str(coords))\n",
    "coords_list = []\n",
    "for item in coords:\n",
    "    if item[0].isdigit():\n",
    "        coords_list.append(item)\n",
    "lat = float(coords_list[0])\n",
    "lon = float(coords_list[1])"
   ]
  },
  {
   "cell_type": "code",
   "execution_count": 286,
   "metadata": {
    "collapsed": false
   },
   "outputs": [
    {
     "data": {
      "text/plain": [
       "(55.762586, 37.597809)"
      ]
     },
     "execution_count": 286,
     "metadata": {},
     "output_type": "execute_result"
    }
   ],
   "source": [
    "lat, lon"
   ]
  },
  {
   "cell_type": "code",
   "execution_count": 288,
   "metadata": {
    "collapsed": true
   },
   "outputs": [],
   "source": [
    "def getCoords(flat_page):\n",
    "    coords = flat_page.find('div', attrs={'class':'map_info_button_extend'}).contents[1]\n",
    "    coords = re.split('&amp|center=|%2C', str(coords))\n",
    "    coords_list = []\n",
    "    for item in coords:\n",
    "        if item[0].isdigit():\n",
    "            coords_list.append(item)\n",
    "    lat = float(coords_list[0])\n",
    "    lon = float(coords_list[1])\n",
    "    return lat, lon"
   ]
  },
  {
   "cell_type": "code",
   "execution_count": 296,
   "metadata": {
    "collapsed": false
   },
   "outputs": [
    {
     "data": {
      "text/plain": [
       "(55.762586, 37.597809)"
      ]
     },
     "execution_count": 296,
     "metadata": {},
     "output_type": "execute_result"
    }
   ],
   "source": [
    "getCoords(flat_page)"
   ]
  },
  {
   "cell_type": "markdown",
   "metadata": {},
   "source": [
    "Теперь надо померить расстояние. В качестве центра будем брать \"[Нулевой километр](https://tools.wmflabs.org/geohack/geohack.php?language=ru&pagename=%D0%9D%D1%83%D0%BB%D0%B5%D0%B2%D0%BE%D0%B9_%D0%BA%D0%B8%D0%BB%D0%BE%D0%BC%D0%B5%D1%82%D1%80&params=55.755831_N_37.617673_E)\". Расстоние будем считать по Пифагору."
   ]
  },
  {
   "cell_type": "code",
   "execution_count": 290,
   "metadata": {
    "collapsed": true
   },
   "outputs": [],
   "source": [
    "null_coords = (55.755831, 37.617673)"
   ]
  },
  {
   "cell_type": "markdown",
   "metadata": {},
   "source": [
    "Зная расстояния между двумя координатами в градусах, можно вычислить расстояние на земной поверхности и перевести его в километры."
   ]
  },
  {
   "cell_type": "markdown",
   "metadata": {},
   "source": [
    "Используем формулы, приведенные ниже, где:\n",
    "- Фa и Фb — широты данных пунктов\n",
    "- Лa, Лb — долготы данных пунктов\n",
    "- d — расстояние между пунктами\n",
    "- R - раудис Земли"
   ]
  },
  {
   "cell_type": "markdown",
   "metadata": {},
   "source": [
    "$$d = arccos {sin(Фa)·sin(Фb) + cos(Фa)·cos(Фb)·cos(Лa - Лb)}$$\n",
    "\n",
    "$$L = d·R$$"
   ]
  },
  {
   "cell_type": "code",
   "execution_count": 299,
   "metadata": {
    "collapsed": true
   },
   "outputs": [],
   "source": [
    "# Широта (latitude):\n",
    "lat1 = getCoords(flat_page)[0]\n",
    "lat2 = null_coords[0]\n",
    "\n",
    "# Долгота (longtude):\n",
    "lon1 = getCoords(flat_page)[1]\n",
    "lon2 = null_coords[1]\n",
    "\n",
    "# Радиус Земли\n",
    "R = 6371"
   ]
  },
  {
   "cell_type": "code",
   "execution_count": 300,
   "metadata": {
    "collapsed": false
   },
   "outputs": [
    {
     "data": {
      "text/plain": [
       "52.636699067230666"
      ]
     },
     "execution_count": 300,
     "metadata": {},
     "output_type": "execute_result"
    }
   ],
   "source": [
    "d = np.arccos(\n",
    "    np.sin(lat1)*np.sin(lat2) + np.cos(lat1)*np.cos(lat2)*np.cos(lat1-lat2)\n",
    ")\n",
    "L = d*R\n",
    "L"
   ]
  },
  {
   "cell_type": "markdown",
   "metadata": {},
   "source": [
    "Сделаем функцию, считающую расстояние"
   ]
  },
  {
   "cell_type": "code",
   "execution_count": 306,
   "metadata": {
    "collapsed": true
   },
   "outputs": [],
   "source": [
    "house_coords = getCoords(flat_page)\n",
    "def dist_grabber(house_coords):\n",
    "    null_coords = (55.755831, 37.617673)\n",
    "    \n",
    "    # Радиус Земли\n",
    "    R = 6371\n",
    "    \n",
    "    # Широта (latitude):\n",
    "    lat1 = house_coords[0]\n",
    "    lat2 = null_coords[0]\n",
    "\n",
    "    # Долгота (longtude):\n",
    "    lon1 = house_coords[1]\n",
    "    lon2 = null_coords[1]\n",
    "    \n",
    "    d = np.arccos(\n",
    "    np.sin(lat1)*np.sin(lat2) + np.cos(lat1)*np.cos(lat2)*np.cos(lat1-lat2)\n",
    "    )\n",
    "    L = d*R\n",
    "    return(L)"
   ]
  },
  {
   "cell_type": "code",
   "execution_count": 307,
   "metadata": {
    "collapsed": false
   },
   "outputs": [
    {
     "data": {
      "text/plain": [
       "52.636699067230666"
      ]
     },
     "execution_count": 307,
     "metadata": {},
     "output_type": "execute_result"
    }
   ],
   "source": [
    "dist_grabber(house_coords)"
   ]
  },
  {
   "cell_type": "markdown",
   "metadata": {},
   "source": [
    "### Далее нужно зайти в таблицу поглубже"
   ]
  },
  {
   "cell_type": "markdown",
   "metadata": {},
   "source": [
    "############################################################################################################################"
   ]
  },
  {
   "cell_type": "code",
   "execution_count": 158,
   "metadata": {
    "collapsed": true
   },
   "outputs": [],
   "source": [
    "inner_table = inf_table.findAll('table', class_ = 'object_descr_props flat sale')\n",
    "inner_table = inner_table[0]"
   ]
  },
  {
   "cell_type": "markdown",
   "metadata": {},
   "source": [
    "Сложим все теги td (по сути все пункты маленькой таблицы) в список"
   ]
  },
  {
   "cell_type": "code",
   "execution_count": 159,
   "metadata": {
    "collapsed": false
   },
   "outputs": [],
   "source": [
    "table_td = inner_table.findAll('tr') # Теперь тут лежит внутренняя таблица (список td)"
   ]
  },
  {
   "cell_type": "markdown",
   "metadata": {},
   "source": [
    "############################################################################################################################"
   ]
  },
  {
   "cell_type": "markdown",
   "metadata": {},
   "source": [
    "#### Общая площадь квартиры, кв. м. + Площадь кухни, кв. м. + Жилая площадь квартиры, кв. м."
   ]
  },
  {
   "cell_type": "markdown",
   "metadata": {},
   "source": [
    "Начнем с общей площади. Найдем кусок с метрами."
   ]
  },
  {
   "cell_type": "code",
   "execution_count": 112,
   "metadata": {
    "collapsed": false
   },
   "outputs": [
    {
     "data": {
      "text/plain": [
       "['117\\xa0м']"
      ]
     },
     "execution_count": 112,
     "metadata": {},
     "output_type": "execute_result"
    }
   ],
   "source": [
    "totsp = re.findall(r'\\d+\\,?\\d+\\xa0м', str(table_td[4].td))\n",
    "totsp"
   ]
  },
  {
   "cell_type": "code",
   "execution_count": 113,
   "metadata": {
    "collapsed": false
   },
   "outputs": [
    {
     "data": {
      "text/plain": [
       "'117\\xa0м'"
      ]
     },
     "execution_count": 113,
     "metadata": {},
     "output_type": "execute_result"
    }
   ],
   "source": [
    "totsp = totsp[0].replace(',', '.')\n",
    "totsp"
   ]
  },
  {
   "cell_type": "markdown",
   "metadata": {},
   "source": [
    "На случай, если число дробное, то заменили запятую на точку и добавили возможность поиска такой комбинации в регулярное выражение"
   ]
  },
  {
   "cell_type": "code",
   "execution_count": 114,
   "metadata": {
    "collapsed": false
   },
   "outputs": [
    {
     "data": {
      "text/plain": [
       "117.0"
      ]
     },
     "execution_count": 114,
     "metadata": {},
     "output_type": "execute_result"
    }
   ],
   "source": [
    "totsp = float(re.findall(r'\\d+\\.?\\d+', totsp)[0])\n",
    "totsp"
   ]
  },
  {
   "cell_type": "code",
   "execution_count": 115,
   "metadata": {
    "collapsed": false
   },
   "outputs": [
    {
     "name": "stdout",
     "output_type": "stream",
     "text": [
      "117.0\n"
     ]
    }
   ],
   "source": [
    "#Ищем нужный th с общей площадью квартиры\n",
    "for i in range(1,len(table_td)):\n",
    "    # Положим сюда строку \"Общая площадь\" и поней будем искать нужный th\n",
    "    # (на случай, если кол-во параметров может отличаться в разных квартирах)\n",
    "    try:\n",
    "        totsp_str = re.findall(r'Общая площадь' ,table_td[i].th.string)[0]\n",
    "        if totsp_str == 'Общая площадь':\n",
    "            totsp = re.findall(r'\\d+\\,?\\d+\\xa0м', str(table_td[i].td))# Найдем кусок с метрами\n",
    "            # На случай, если число дробное, то заменили запятую на точку и добавили возможность \n",
    "            #поиска такой комбинации в регулярное выражение\n",
    "            totsp = totsp[0].replace(',', '.')\n",
    "            totsp = float(re.findall(r'\\d+\\.?\\d+', totsp)[0])\n",
    "            print(totsp)\n",
    "    except:\n",
    "        pass"
   ]
  },
  {
   "cell_type": "markdown",
   "metadata": {},
   "source": [
    "Снова завернем работающую функцию"
   ]
  },
  {
   "cell_type": "markdown",
   "metadata": {},
   "source": [
    "Однако, сделаем небольшую надстройку: если в графе о площади будет отсутствовать информация, то re.findall вернет пустой список. В этом случае заполним значение площади nan для данной квартиры"
   ]
  },
  {
   "cell_type": "code",
   "execution_count": 124,
   "metadata": {
    "collapsed": true
   },
   "outputs": [],
   "source": [
    "def totsp_grabber(inner_table):\n",
    "    \n",
    "    # Теперь тут лежит внутренняя таблица (список td)\n",
    "    table_totsp = inner_table.findAll('tr')\n",
    "    \n",
    "    #Ищем нужный th с общей площадью квартиры\n",
    "    for i in range(1,len(table_totsp)):\n",
    "        # Положим сюда строку \"Общая площадь\" и поней будем искать нужный th\n",
    "        # (на случай, если кол-во параметров может отличаться в разных квартирах)\n",
    "        try:\n",
    "            totsp_str = re.findall(r'Общая площадь' ,table_totsp[i].th.string)[0]\n",
    "            if totsp_str == 'Общая площадь':\n",
    "                totsp = re.findall(r'\\d+\\,?\\d+\\xa0м', str(table_totsp[i].td))# Найдем кусок с метрами\n",
    "                \n",
    "                # Надстройка на случай, если графа с площадью пуста\n",
    "                if totsp == []:\n",
    "                    totsp = np.nan\n",
    "                    break\n",
    "                \n",
    "                # На случай, если число дробное, то заменили запятую на точку и добавили возможность \n",
    "                #поиска такой комбинации в регулярное выражение\n",
    "                totsp = totsp[0].replace(',', '.')\n",
    "                totsp = float(re.findall(r'\\d+\\.?\\d+', totsp)[0])\n",
    "        except:\n",
    "            pass\n",
    "    return(totsp)"
   ]
  },
  {
   "cell_type": "code",
   "execution_count": 125,
   "metadata": {
    "collapsed": false
   },
   "outputs": [
    {
     "data": {
      "text/plain": [
       "117.0"
      ]
     },
     "execution_count": 125,
     "metadata": {},
     "output_type": "execute_result"
    }
   ],
   "source": [
    "totsp_grabber(inner_table)"
   ]
  },
  {
   "cell_type": "markdown",
   "metadata": {},
   "source": [
    "Поскольку площадь кухни и жилая площадь будут искаться аналогично, напишем функцию, которая будет искать все три параметра"
   ]
  },
  {
   "cell_type": "code",
   "execution_count": 118,
   "metadata": {
    "collapsed": true
   },
   "outputs": [],
   "source": [
    "def sp_grabber(inner_table, sp_pl = ['Общая площадь', 'Площадь кухни', 'Жилая площадь']):\n",
    "    \n",
    "    # Теперь тут лежит внутренняя таблица (список td)\n",
    "    table_td = inner_table.findAll('tr')\n",
    "    \n",
    "    # Список, куда будем класть наши значения искомых площадей\n",
    "    sp_list = []\n",
    "    \n",
    "    # Перебираем три метста\n",
    "    for s in sp_pl:\n",
    "        \n",
    "        # Поиск нужной цифры\n",
    "        for i in range(1,len(table_td)):\n",
    "            try:\n",
    "                sp_str = re.findall(r'{}'.format(s) ,table_td[i].th.string)[0] # В качестве s ставим искмую сейчас площадь\n",
    "                if sp_str == '{}'.format(s):\n",
    "                    sp = re.findall(r'\\d+\\,?\\d+\\xa0м', str(table_td[i].td))\n",
    "\n",
    "                    # Надстройка на случай, если графа с площадью пуста\n",
    "                    if sp == []:\n",
    "                        sp = np.nan\n",
    "                        sp_list.append(sp) # Добавим в список значение так же, если нужной информации нет\n",
    "                        break\n",
    "\n",
    "                    sp = sp[0].replace(',', '.')\n",
    "                    sp = float(re.findall(r'\\d+\\.?\\d+', sp)[0])\n",
    "                    \n",
    "                    # Добавим в список значение очередной площади\n",
    "                    sp_list.append(sp)\n",
    "            except:\n",
    "                pass\n",
    "    \n",
    "    # Словарь, в котором подпишем цифры удобным названием переменных\n",
    "    sp_dist = {}\n",
    "    sp_dist['totsp'] = sp_list[0]\n",
    "    sp_dist['kitsp'] = sp_list[1]\n",
    "    sp_dist['livesp'] = sp_list[2]\n",
    "    \n",
    "    # Вернем словарь со всеми нужными значениями\n",
    "    return(sp_dist)"
   ]
  },
  {
   "cell_type": "code",
   "execution_count": 119,
   "metadata": {
    "collapsed": false
   },
   "outputs": [
    {
     "data": {
      "text/plain": [
       "{'kitsp': 15.0, 'livesp': 89.0, 'totsp': 117.0}"
      ]
     },
     "execution_count": 119,
     "metadata": {},
     "output_type": "execute_result"
    }
   ],
   "source": [
    "sp_grabber(inner_table, sp_pl = ['Общая площадь', 'Площадь кухни', 'Жилая площадь'])"
   ]
  },
  {
   "cell_type": "markdown",
   "metadata": {
    "collapsed": true
   },
   "source": [
    "#### Номер этажа, на котором расположена квартира + Всего этажей в доме"
   ]
  },
  {
   "cell_type": "markdown",
   "metadata": {},
   "source": [
    "Вся информация про этажи находится во внутренней таблице, так что фнкция, которая ее вытаскивает похожа на предыдущую. Информация может быть представлена тремя вариантами:\n",
    "- число\n",
    "- число / число\n",
    "- информации нет"
   ]
  },
  {
   "cell_type": "markdown",
   "metadata": {},
   "source": [
    "Последний случай будет описан аналогично тому, как в предыдущей функции, если число одно, то будет возвращаться список длиной 1, а если чисел - два, то первый элемент списка будет этаж квартиры, второй - число отражающее количество этажей в доме всего."
   ]
  },
  {
   "cell_type": "code",
   "execution_count": 191,
   "metadata": {
    "collapsed": false
   },
   "outputs": [],
   "source": [
    "def floor_grabber(inner_table):\n",
    "    \n",
    "    # Теперь тут лежит внутренняя таблица (список td)\n",
    "    table_td = inner_table.findAll('tr')\n",
    "    \n",
    "    # Вытаскиваем этажи\n",
    "    for i in range(1,len(table_td)):\n",
    "        try:\n",
    "            th = re.findall(r'Этаж' ,table_td[i].th.string)[0]\n",
    "            if th == 'Этаж':\n",
    "                floor_td = table_td[i].td # тег со всей информацией об этажах\n",
    "                floor_td = re.findall(r'\\d+', str(floor_td)) # Теперь в переенной лежит список\n",
    "                # Одно число - только этаж квартиры, Два - еще суммарное количество этажей, Пустой - этой информции нет\n",
    "        except:\n",
    "            pass\n",
    "    \n",
    "    # Определяем какую информацию дать на выход\n",
    "    if len(floor_td) == 0:\n",
    "        floor = np.nan\n",
    "        nfloor = np.nan\n",
    "    elif len(floor_td) == 1:\n",
    "        floor = int(floor_td[0])\n",
    "        nfloor = np.nan\n",
    "    else:\n",
    "        floor = int(floor_td[0])\n",
    "        nfloor = int(floor_td[1])\n",
    "\n",
    "    return({'floor':floor, 'n_floor':nfloor})"
   ]
  },
  {
   "cell_type": "code",
   "execution_count": 192,
   "metadata": {
    "collapsed": false
   },
   "outputs": [
    {
     "data": {
      "text/plain": [
       "{'floor': 2, 'n_floor': 4}"
      ]
     },
     "execution_count": 192,
     "metadata": {},
     "output_type": "execute_result"
    }
   ],
   "source": [
    "floor_grabber(inner_table)"
   ]
  },
  {
   "cell_type": "markdown",
   "metadata": {
    "collapsed": false
   },
   "source": [
    "#### Балкон"
   ]
  },
  {
   "cell_type": "markdown",
   "metadata": {},
   "source": [
    "Поиск балкона тоже будет похож на предыдущие функции. Но теперь нам важно найти любую цифру в графе \"Балкон\" или слово \"есть\"."
   ]
  },
  {
   "cell_type": "code",
   "execution_count": 262,
   "metadata": {
    "collapsed": false
   },
   "outputs": [],
   "source": [
    "def bal_grabber(inner_table):\n",
    "    \n",
    "    # Теперь тут лежит внутренняя таблица (список td)\n",
    "    table_td = inner_table.findAll('tr')\n",
    "    \n",
    "    #Ищем нужный th с общей площадью квартиры\n",
    "    for i in range(1,len(table_td)):\n",
    "        # Положим сюда строку \"Балкон\" и поней будем искать нужный th\n",
    "        # (на случай, если кол-во параметров может отличаться в разных квартирах)\n",
    "        try:\n",
    "            bal_str = re.findall(r'Балкон' ,table_td[i].th.string)[0]\n",
    "            if bal_str == 'Балкон':\n",
    "                bal = re.findall(r'i>\\d+|есть', str(table_td[i].td))# Найдем кусок с метрами\n",
    "                # Если балконов нет, то реулярное выражение ничего не найдет и вернет пустой список\n",
    "                if bal == []:\n",
    "                    bal = 0\n",
    "                else:\n",
    "                    bal = 1\n",
    "        except:\n",
    "            pass\n",
    "        \n",
    "    return(bal)"
   ]
  },
  {
   "cell_type": "code",
   "execution_count": 263,
   "metadata": {
    "collapsed": false
   },
   "outputs": [
    {
     "data": {
      "text/plain": [
       "0"
      ]
     },
     "execution_count": 263,
     "metadata": {},
     "output_type": "execute_result"
    }
   ],
   "source": [
    "bal_grabber(inner_table)"
   ]
  },
  {
   "cell_type": "markdown",
   "metadata": {},
   "source": [
    "#### Телефон"
   ]
  },
  {
   "cell_type": "markdown",
   "metadata": {},
   "source": [
    "И снова функция похожая на предыдущие, так же с небольшими поправками"
   ]
  },
  {
   "cell_type": "code",
   "execution_count": 325,
   "metadata": {
    "collapsed": false
   },
   "outputs": [],
   "source": [
    "def tel_grabber(inner_table):\n",
    "    \n",
    "    # Теперь тут лежит внутренняя таблица (список td)\n",
    "    table_td = inner_table.findAll('tr')\n",
    "    \n",
    "    # На некоторых страницах отстутствует графа \"Телефон\", поэтому введем проверку на наличие этой строки с помощью индикатора\n",
    "    th_count = 0\n",
    "    \n",
    "    # Смотрим на td в поисках графы \"Телефон\"\n",
    "    for i in range(1,len(table_td)):\n",
    "        try:\n",
    "            # Накручиваем значение индикатора\n",
    "            th_count = th_count + 1\n",
    "            \n",
    "            th = re.findall(r'Телефон' ,table_td[i].th.string)[0]\n",
    "            \n",
    "            if th == 'Телефон':\n",
    "                th_count = 0\n",
    "                \n",
    "                tel = table_td[i].td.string\n",
    "                \n",
    "                # Проверка на текст в нужном куске html кода\n",
    "                if tel == 'да':\n",
    "                    tel = 1\n",
    "                else:\n",
    "                    tel = 0\n",
    "        except:\n",
    "            pass\n",
    "    \n",
    "    # Проверка индикатора\n",
    "    if th_count == len(table_td)-1:\n",
    "        tel = 0\n",
    "    \n",
    "    return(tel)"
   ]
  },
  {
   "cell_type": "code",
   "execution_count": 326,
   "metadata": {
    "collapsed": false
   },
   "outputs": [
    {
     "data": {
      "text/plain": [
       "0"
      ]
     },
     "execution_count": 326,
     "metadata": {},
     "output_type": "execute_result"
    }
   ],
   "source": [
    "tel_grabber(inner_table)"
   ]
  },
  {
   "cell_type": "markdown",
   "metadata": {},
   "source": [
    "#### Рынок (первичный / вторичный)"
   ]
  },
  {
   "cell_type": "markdown",
   "metadata": {},
   "source": [
    "Этот параметр будем искать по корню \"вторич\" в графе \"Тип дома\""
   ]
  },
  {
   "cell_type": "code",
   "execution_count": 208,
   "metadata": {
    "collapsed": true
   },
   "outputs": [],
   "source": [
    "def new_grabber(inner_table):\n",
    "    \n",
    "    # Теперь тут лежит внутренняя таблица (список td)\n",
    "    table_td = inner_table.findAll('tr')\n",
    "    \n",
    "    # Идем по всем td в поисках графы 'Тип дома'\n",
    "    for i in range(1,len(table_td)):\n",
    "        try:\n",
    "            new_str = re.findall(r'Тип дома' ,table_td[i].th.string)[0]\n",
    "            if new_str == 'Тип дома':\n",
    "                new = re.findall(r'вторич', str(table_td[i].td))\n",
    "                \n",
    "                # Проверка на наличия корня \"вторич\" в данной графе таблице\n",
    "                if new == []:\n",
    "                    new = 1\n",
    "                else:\n",
    "                    new = 0\n",
    "        except:\n",
    "            pass\n",
    "        \n",
    "    return(new)"
   ]
  },
  {
   "cell_type": "code",
   "execution_count": 209,
   "metadata": {
    "collapsed": false
   },
   "outputs": [
    {
     "data": {
      "text/plain": [
       "0"
      ]
     },
     "execution_count": 209,
     "metadata": {},
     "output_type": "execute_result"
    }
   ],
   "source": [
    "new_grabber(inner_table)"
   ]
  },
  {
   "cell_type": "markdown",
   "metadata": {},
   "source": [
    "# Теперь соберем базу квартир"
   ]
  },
  {
   "cell_type": "markdown",
   "metadata": {},
   "source": [
    "Напишем код, кторый достанет все квартиры"
   ]
  },
  {
   "cell_type": "markdown",
   "metadata": {},
   "source": [
    "- N – номер квартиры по порядку\n",
    "- Rooms – число комнат\n",
    "- Price – цена\n",
    "- Totsp – общая площадь квартиры, кв. м.\n",
    "- Livesp – жилая площадь квартиры, кв. м.\n",
    "- Kitsp – площадь кухни, кв. м.\n",
    "- Dist – расстояние от центра в км. (можно по Пифагору)\n",
    "- Metrdist – расстояние до метро в минутах\n",
    "- Walk – 1 – если пешком от метро, 0 – если на транспорте\n",
    "- Brick – 1 – кирпичный/монолит/жб, 0 – другой\n",
    "- Tel – 1 – если есть, 0 – нет\n",
    "- Bal – 1 – есть балкон/лоджия, 0 – нет\n",
    "- Floor – номер этажа, на котором расположена квартира\n",
    "- Nfloors – всего этажей в доме\n",
    "- New – 1 – первичный рынок, 0 - вторичка"
   ]
  },
  {
   "cell_type": "markdown",
   "metadata": {},
   "source": [
    "Добавим еще пару параметров"
   ]
  },
  {
   "cell_type": "markdown",
   "metadata": {},
   "source": [
    "- Price_duplicate - дубликат цены, полученный из соседнего тега (подробное обьяснение в описании функции) - для проверки\n",
    "- Link - ссылка на данную квартиру"
   ]
  },
  {
   "cell_type": "code",
   "execution_count": 374,
   "metadata": {
    "collapsed": false
   },
   "outputs": [
    {
     "name": "stdout",
     "output_type": "stream",
     "text": [
      "Page 1 is working well\n",
      "Page 2 is working well\n",
      "Page 3 is working well\n",
      "Page 4 is working well\n",
      "Page 5 is working well\n",
      "Page 6 is working well\n",
      "Page 7 is working well\n",
      "Page 8 is working well\n",
      "Page 9 is working well\n",
      "Page 10 is working well\n",
      "Page 11 is working well\n",
      "Page 12 is working well\n",
      "Page 13 is working well\n",
      "Page 14 is working well\n",
      "Page 15 is working well\n",
      "Page 16 is working well\n",
      "Page 17 is working well\n",
      "Page 18 is working well\n",
      "Page 19 is working well\n",
      "Page 20 is working well\n",
      "Page 21 is working well\n",
      "Page 22 is working well\n",
      "Page 23 is working well\n",
      "Page 24 is working well\n",
      "Page 25 is working well\n",
      "Page 26 is working well\n",
      "Page 27 is working well\n",
      "Page 28 is working well\n",
      "Page 29 is working well\n",
      "Page 30 is working well\n",
      "Page 31 is working well\n",
      "Page 32 is working well\n",
      "Page 33 is working well\n",
      "Page 34 is working well\n",
      "Page 35 is working well\n",
      "Page 36 is working well\n",
      "Page 37 is working well\n",
      "Page 38 is working well\n",
      "Page 39 is working well\n",
      "Page 40 is working well\n",
      "Page 41 is working well\n",
      "Page 42 is working well\n",
      "Page 43 is working well\n",
      "Page 44 is working well\n",
      "Page 45 is working well\n",
      "Page 46 is working well\n",
      "Page 47 is working well\n",
      "Page 48 is working well\n",
      "Page 49 is working well\n",
      "Page 50 is working well\n",
      "Page 51 is working well\n",
      "Page 52 is working well\n",
      "Page 53 is working well\n",
      "Page 54 is working well\n",
      "Page 55 is working well\n",
      "Page 56 is working well\n",
      "Page 57 is working well\n",
      "Page 58 is working well\n",
      "Page 59 is working well\n",
      "Page 60 is working well\n",
      "Page 61 is working well\n",
      "Page 62 is working well\n",
      "Page 63 is working well\n",
      "Page 64 is working well\n",
      "Page 65 is working well\n",
      "Page 66 is working well\n",
      "Page 67 is working well\n",
      "Page 68 is working well\n",
      "Page 69 is working well\n",
      "Page 70 is working well\n",
      "Page 71 is working well\n",
      "Page 72 is working well\n",
      "Page 73 is working well\n",
      "Page 74 is working well\n",
      "Page 75 is working well\n",
      "Page 76 is working well\n",
      "Page 77 is working well\n",
      "Page 78 is working well\n",
      "Page 79 is working well\n",
      "Page 80 is working well\n",
      "Page 81 is working well\n",
      "Page 82 is working well\n",
      "Page 83 is working well\n",
      "Page 84 is working well\n",
      "Page 85 is working well\n",
      "Page 86 is working well\n",
      "Page 87 is working well\n",
      "Page 88 is working well\n",
      "Page 89 is working well\n",
      "Page 90 is working well\n",
      "Page 91 is working well\n",
      "Page 92 is working well\n",
      "Page 93 is working well\n",
      "Page 94 is working well\n",
      "Page 95 is working well\n",
      "Page 96 is working well\n",
      "Page 97 is working well\n",
      "Page 98 is working well\n",
      "Page 99 is working well\n",
      "Page 100 is working well\n",
      "Page 101 is working well\n",
      "Page 102 is working well\n",
      "Page 103 is working well\n",
      "Page 104 is working well\n",
      "Page 105 is working well\n",
      "Page 106 is working well\n",
      "Page 107 is working well\n",
      "Page 108 is working well\n",
      "Page 109 is working well\n",
      "Page 110 is working well\n",
      "Page 111 is working well\n",
      "Page 112 is working well\n",
      "Page 113 is working well\n",
      "Page 114 is working well\n",
      "Page 115 is working well\n",
      "Page 116 is working well\n",
      "Page 117 is working well\n",
      "Page 118 is working well\n",
      "Page 119 is working well\n",
      "Page 120 is working well\n",
      "Page 121 is working well\n",
      "Page 122 is working well\n",
      "Page 123 is working well\n",
      "Page 124 is working well\n",
      "Page 125 is working well\n",
      "Page 126 is working well\n",
      "Page 127 is working well\n",
      "Page 128 is working well\n",
      "Page 129 is working well\n",
      "Page 130 is working well\n",
      "Page 131 is working well\n",
      "Page 132 is working well\n",
      "Page 133 is working well\n",
      "Page 134 is working well\n",
      "Page 135 is working well\n",
      "Page 136 is working well\n",
      "Page 137 is working well\n",
      "Page 138 is working well\n",
      "Page 139 is working well\n",
      "Page 140 is working well\n",
      "Page 141 is working well\n",
      "Page 142 is working well\n",
      "Page 143 is working well\n",
      "Page 144 is working well\n",
      "Page 145 is working well\n",
      "Page 146 is working well\n",
      "Page 147 is working well\n",
      "Page 148 is working well\n",
      "Page 149 is working well\n",
      "Page 150 is working well\n",
      "Page 151 is working well\n",
      "Page 152 is working well\n",
      "Page 153 is working well\n",
      "Page 154 is working well\n",
      "Page 155 is working well\n",
      "Page 156 is working well\n",
      "Page 157 is working well\n",
      "Page 158 is working well\n",
      "Page 159 is working well\n",
      "Page 160 is working well\n",
      "Page 161 is working well\n",
      "Page 162 is working well\n",
      "Page 163 is working well\n",
      "Page 164 is working well\n",
      "Page 165 is working well\n",
      "Page 166 is working well\n",
      "Page 167 is working well\n",
      "Page 168 is working well\n",
      "Page 169 is working well\n",
      "Page 170 is working well\n",
      "Page 171 is working well\n",
      "Page 172 is working well\n",
      "Page 173 is working well\n",
      "Page 174 is working well\n",
      "Page 175 is working well\n",
      "Page 176 is working well\n",
      "Page 177 is working well\n",
      "Page 178 is working well\n",
      "Page 179 is working well\n",
      "Page 180 is working well\n",
      "Page 181 is working well\n",
      "Page 182 is working well\n",
      "Page 183 is working well\n",
      "Page 184 is working well\n",
      "Page 185 is working well\n",
      "Page 186 is working well\n",
      "Page 187 is working well\n",
      "Page 188 is working well\n",
      "Page 189 is working well\n",
      "Page 190 is working well\n",
      "Page 191 is working well\n",
      "Page 192 is working well\n",
      "Page 193 is working well\n",
      "Page 194 is working well\n",
      "Page 195 is working well\n",
      "Page 196 is working well\n",
      "Page 197 is working well\n",
      "Page 198 is working well\n",
      "Page 199 is working well\n",
      "Page 200 is working well\n",
      "Page 201 is working well\n",
      "Page 202 is working well\n",
      "Page 203 is working well\n",
      "Page 204 is working well\n",
      "Page 205 is working well\n",
      "Page 206 is working well\n",
      "Page 207 is working well\n",
      "Page 208 is working well\n",
      "Page 209 is working well\n",
      "Page 210 is working well\n",
      "Page 211 is working well\n",
      "Page 212 is working well\n",
      "Page 213 is working well\n",
      "Page 214 is working well\n",
      "Page 215 is working well\n",
      "Page 216 is working well\n",
      "Page 217 is working well\n",
      "Page 218 is working well\n",
      "Page 219 is working well\n",
      "Page 220 is working well\n",
      "Page 221 is working well\n",
      "Page 222 is working well\n",
      "Page 223 is working well\n",
      "Page 224 is working well\n",
      "Page 225 is working well\n",
      "Page 226 is working well\n",
      "Page 227 is working well\n",
      "Page 228 is working well\n",
      "Page 229 is working well\n",
      "Page 230 is working well\n",
      "Page 231 is working well\n",
      "Page 232 is working well\n",
      "Page 233 is working well\n",
      "Page 234 is working well\n",
      "Page 235 is working well\n",
      "Page 236 is working well\n",
      "Page 237 is working well\n",
      "Page 238 is working well\n",
      "Page 239 is working well\n",
      "Page 240 is working well\n",
      "Page 241 is working well\n",
      "Page 242 is working well\n",
      "Page 243 is working well\n",
      "Page 244 is working well\n",
      "Page 245 is working well\n",
      "Page 246 is working well\n",
      "Page 247 is working well\n",
      "Page 248 is working well\n",
      "Page 249 is working well\n",
      "Page 250 is working well\n",
      "Page 251 is working well\n",
      "Page 252 is working well\n",
      "Page 253 is working well\n",
      "Page 254 is working well\n",
      "Page 255 is working well\n",
      "Page 256 is working well\n",
      "Page 257 is working well\n",
      "Page 258 is working well\n",
      "Page 259 is working well\n",
      "Page 260 is working well\n",
      "Page 261 is working well\n",
      "Page 262 is working well\n",
      "Page 263 is working well\n",
      "Page 264 is working well\n",
      "Page 265 is working well\n",
      "Page 266 is working well\n",
      "Page 267 is working well\n",
      "Page 268 is working well\n",
      "Page 269 is working well\n",
      "Page 270 is working well\n",
      "Page 271 is working well\n",
      "Page 272 is working well\n",
      "Page 273 is working well\n",
      "Page 274 is working well\n",
      "Page 275 is working well\n",
      "Page 276 is working well\n",
      "Page 277 is working well\n",
      "Page 278 is working well\n",
      "Page 279 is working well\n",
      "Page 280 is working well\n",
      "Page 281 is working well\n",
      "Page 282 is working well\n",
      "Page 283 is working well\n",
      "Page 284 is working well\n",
      "Page 285 is working well\n",
      "Page 286 is working well\n",
      "Page 287 is working well\n",
      "Page 288 is working well\n",
      "Page 289 is working well\n",
      "Page 290 is working well\n",
      "Page 291 is working well\n",
      "Page 292 is working well\n",
      "Page 293 is working well\n",
      "Page 294 is working well\n",
      "Page 295 is working well\n",
      "Page 296 is working well\n",
      "Page 297 is working well\n",
      "Page 298 is working well\n",
      "Page 299 is working well\n",
      "Page 300 is working well\n",
      "Page 301 is working well\n",
      "Page 302 is working well\n",
      "Page 303 is working well\n",
      "Page 304 is working well\n",
      "Page 305 is working well\n",
      "Page 306 is working well\n",
      "Page 307 is working well\n",
      "Page 308 is working well\n",
      "Page 309 is working well\n",
      "Page 310 is working well\n",
      "Page 311 is working well\n",
      "Page 312 is working well\n",
      "Page 313 is working well\n",
      "Page 314 is working well\n",
      "Page 315 is working well\n",
      "Page 316 is working well\n",
      "Page 317 is working well\n",
      "Page 318 is working well\n",
      "Page 319 is working well\n",
      "Page 320 is working well\n",
      "Page 321 is working well\n",
      "Page 322 is working well\n",
      "Page 323 is working well\n",
      "Page 324 is working well\n",
      "Page 325 is working well\n",
      "Page 326 is working well\n",
      "Page 327 is working well\n",
      "Page 328 is working well\n",
      "Page 329 is working well\n",
      "Page 330 is working well\n",
      "Page 331 is working well\n",
      "Page 332 is working well\n",
      "Page 333 is working well\n",
      "Page 334 is working well\n",
      "Page 335 is working well\n",
      "Page 336 is working well\n",
      "Page 337 is working well\n",
      "Page 338 is working well\n",
      "Page 339 is working well\n",
      "Page 340 is working well\n",
      "Page 341 is working well\n",
      "Page 342 is working well\n",
      "Page 343 is working well\n",
      "Page 344 is working well\n",
      "Page 345 is working well\n",
      "Page 346 is working well\n",
      "Page 347 is working well\n",
      "Page 348 is working well\n",
      "Page 349 is working well\n",
      "Page 350 is working well\n",
      "Page 351 is working well\n",
      "Page 352 is working well\n",
      "Page 353 is working well\n",
      "Page 354 is working well\n",
      "Page 355 is working well\n",
      "Page 356 is working well\n",
      "Page 357 is working well\n",
      "Page 358 is working well\n",
      "Page 359 is working well\n",
      "Page 360 is working well\n",
      "Page 361 is working well\n",
      "Page 362 is working well\n",
      "Page 363 is working well\n",
      "Page 364 is working well\n",
      "Page 365 is working well\n",
      "Page 366 is working well\n",
      "Page 367 is working well\n",
      "Page 368 is working well\n",
      "Page 369 is working well\n",
      "Page 370 is working well\n",
      "Page 371 is working well\n",
      "Page 372 is working well\n",
      "Page 373 is working well\n",
      "Page 374 is working well\n",
      "Page 375 is working well\n",
      "Page 376 is working well\n",
      "Page 377 is working well\n",
      "Page 378 is working well\n",
      "Page 379 is working well\n",
      "Page 380 is working well\n",
      "Page 381 is working well\n",
      "Page 382 is working well\n",
      "Page 383 is working well\n",
      "Page 384 is working well\n",
      "Page 385 is working well\n",
      "Page 386 is working well\n",
      "Page 387 is working well\n",
      "Page 388 is working well\n",
      "Page 389 is working well\n",
      "Page 390 is working well\n",
      "Page 391 is working well\n",
      "Page 392 is working well\n",
      "Page 393 is working well\n",
      "Page 394 is working well\n",
      "Page 395 is working well\n",
      "Page 396 is working well\n",
      "Page 397 is working well\n",
      "Page 398 is working well\n",
      "Page 399 is working well\n",
      "Page 400 is working well\n",
      "Page 401 is working well\n",
      "Page 402 is working well\n",
      "Page 403 is working well\n",
      "Page 404 is working well\n",
      "Page 405 is working well\n",
      "Page 406 is working well\n",
      "Page 407 is working well\n",
      "Page 408 is working well\n",
      "Page 409 is working well\n",
      "Page 410 is working well\n",
      "Page 411 is working well\n",
      "Page 412 is working well\n",
      "Page 413 is working well\n",
      "Page 414 is working well\n",
      "Page 415 is working well\n",
      "Page 416 is working well\n",
      "Page 417 is working well\n",
      "Page 418 is working well\n",
      "Page 419 is working well\n",
      "Page 420 is working well\n",
      "Page 421 is working well\n",
      "Page 422 is working well\n",
      "Page 423 is working well\n",
      "Page 424 is working well\n",
      "Page 425 is working well\n",
      "Page 426 is working well\n",
      "Page 427 is working well\n",
      "Page 428 is working well\n",
      "Page 429 is working well\n",
      "Page 430 is working well\n",
      "Page 431 is working well\n",
      "Page 432 is working well\n",
      "Page 433 is working well\n",
      "Page 434 is working well\n",
      "Page 435 is working well\n",
      "Page 436 is working well\n",
      "Page 437 is working well\n",
      "Page 438 is working well\n",
      "Page 439 is working well\n",
      "Page 440 is working well\n",
      "Page 441 is working well\n",
      "Page 442 is working well\n",
      "Page 443 is working well\n",
      "Page 444 is working well\n",
      "Page 445 is working well\n",
      "Page 446 is working well\n",
      "Page 447 is working well\n",
      "Page 448 is working well\n",
      "Page 449 is working well\n",
      "Page 450 is working well\n",
      "Page 451 is working well\n",
      "Page 452 is working well\n",
      "Page 453 is working well\n",
      "Page 454 is working well\n",
      "Page 455 is working well\n",
      "Page 456 is working well\n",
      "Page 457 is working well\n",
      "Page 458 is working well\n",
      "Page 459 is working well\n",
      "Page 460 is working well\n",
      "Page 461 is working well\n",
      "Page 462 is working well\n",
      "Page 463 is working well\n",
      "Page 464 is working well\n",
      "Page 465 is working well\n",
      "Page 466 is working well\n",
      "Page 467 is working well\n",
      "Page 468 is working well\n",
      "Page 469 is working well\n",
      "Page 470 is working well\n",
      "Page 471 is working well\n",
      "Page 472 is working well\n",
      "Page 473 is working well\n",
      "Page 474 is working well\n",
      "Page 475 is working well\n",
      "Page 476 is working well\n",
      "Page 477 is working well\n",
      "Page 478 is working well\n",
      "Page 479 is working well\n",
      "Page 480 is working well\n",
      "Page 481 is working well\n",
      "Page 482 is working well\n",
      "Page 483 is working well\n",
      "Page 484 is working well\n",
      "Page 485 is working well\n",
      "Page 486 is working well\n",
      "Page 487 is working well\n",
      "Page 488 is working well\n",
      "Page 489 is working well\n",
      "Page 490 is working well\n",
      "Page 491 is working well\n",
      "Page 492 is working well\n",
      "Page 493 is working well\n",
      "Page 494 is working well\n",
      "Page 495 is working well\n",
      "Page 496 is working well\n",
      "Page 497 is working well\n",
      "Page 498 is working well\n",
      "Page 499 is working well\n",
      "Page 500 is working well\n",
      "Page 501 is working well\n",
      "Page 502 is working well\n",
      "Page 503 is working well\n",
      "Page 504 is working well\n",
      "Page 505 is working well\n",
      "Page 506 is working well\n",
      "Page 507 is working well\n",
      "Page 508 is working well\n",
      "Page 509 is working well\n",
      "Page 510 is working well\n",
      "Page 511 is working well\n",
      "Page 512 is working well\n",
      "Page 513 is working well\n",
      "Page 514 is working well\n",
      "Page 515 is working well\n",
      "Page 516 is working well\n",
      "Page 517 is working well\n",
      "Page 518 is working well\n",
      "Page 519 is working well\n",
      "Page 520 is working well\n",
      "Page 521 is working well\n",
      "Page 522 is working well\n",
      "Page 523 is working well\n",
      "Page 524 is working well\n",
      "Page 525 is working well\n",
      "Page 526 is working well\n",
      "Page 527 is working well\n",
      "Page 528 is working well\n",
      "Page 529 is working well\n",
      "Page 530 is working well\n",
      "Page 531 is working well\n",
      "Page 532 is working well\n",
      "Page 533 is working well\n",
      "Page 534 is working well\n",
      "Page 535 is working well\n",
      "Page 536 is working well\n",
      "Page 537 is working well\n",
      "Page 538 is working well\n",
      "Page 539 is working well\n",
      "Page 540 is working well\n",
      "Page 541 is working well\n",
      "Page 542 is working well\n",
      "Page 543 is working well\n",
      "Page 544 is working well\n",
      "Page 545 is working well\n",
      "Page 546 is working well\n",
      "Page 547 is working well\n",
      "Page 548 is working well\n",
      "Page 549 is working well\n",
      "Page 550 is working well\n",
      "Page 551 is working well\n",
      "Page 552 is working well\n",
      "Page 553 is working well\n",
      "Page 554 is working well\n",
      "Page 555 is working well\n",
      "Page 556 is working well\n",
      "Page 557 is working well\n",
      "Page 558 is working well\n",
      "Page 559 is working well\n",
      "Page 560 is working well\n",
      "Page 561 is working well\n",
      "Page 562 is working well\n",
      "Page 563 is working well\n",
      "Page 564 is working well\n",
      "Page 565 is working well\n",
      "Page 566 is working well\n",
      "Page 567 is working well\n",
      "Page 568 is working well\n",
      "Page 569 is working well\n",
      "Page 570 is working well\n",
      "Page 571 is working well\n",
      "Page 572 is working well\n",
      "Page 573 is working well\n",
      "Page 574 is working well\n",
      "Page 575 is working well\n",
      "Page 576 is working well\n",
      "Page 577 is working well\n",
      "Page 578 is working well\n",
      "Page 579 is working well\n",
      "Page 580 is working well\n",
      "Page 581 is working well\n",
      "Page 582 is working well\n",
      "Page 583 is working well\n",
      "Page 584 is working well\n",
      "Page 585 is working well\n",
      "Page 586 is working well\n",
      "Page 587 is working well\n",
      "Page 588 is working well\n",
      "Page 589 is working well\n",
      "Page 590 is working well\n",
      "Page 591 is working well\n",
      "Page 592 is working well\n",
      "Page 593 is working well\n",
      "Page 594 is working well\n",
      "Page 595 is working well\n",
      "Page 596 is working well\n",
      "Page 597 is working well\n",
      "Page 598 is working well\n",
      "Page 599 is working well\n",
      "Page 600 is working well\n",
      "Page 601 is working well\n",
      "Page 602 is working well\n",
      "Page 603 is working well\n",
      "Page 604 is working well\n",
      "Page 605 is working well\n",
      "Page 606 is working well\n",
      "Page 607 is working well\n",
      "Page 608 is working well\n",
      "Page 609 is working well\n",
      "Page 610 is working well\n",
      "Page 611 is working well\n",
      "Page 612 is working well\n",
      "Page 613 is working well\n",
      "Page 614 is working well\n",
      "Page 615 is working well\n",
      "Page 616 is working well\n",
      "Page 617 is working well\n",
      "Page 618 is working well\n",
      "Page 619 is working well\n",
      "Page 620 is working well\n",
      "Page 621 is working well\n",
      "Page 622 is working well\n",
      "Page 623 is working well\n",
      "Page 624 is working well\n",
      "Page 625 is working well\n",
      "Page 626 is working well\n",
      "Page 627 is working well\n",
      "Page 628 is working well\n",
      "Page 629 is working well\n",
      "Page 630 is working well\n",
      "Page 631 is working well\n",
      "Page 632 is working well\n",
      "Page 633 is working well\n",
      "Page 634 is working well\n",
      "Page 635 is working well\n",
      "Page 636 is working well\n",
      "Page 637 is working well\n",
      "Page 638 is working well\n",
      "Page 639 is working well\n",
      "Page 640 is working well\n",
      "Page 641 is working well\n",
      "Page 642 is working well\n",
      "Page 643 is working well\n",
      "Page 644 is working well\n",
      "Page 645 is working well\n",
      "Page 646 is working well\n",
      "Page 647 is working well\n",
      "Page 648 is working well\n",
      "Page 649 is working well\n",
      "Page 650 is working well\n",
      "Page 651 is working well\n",
      "Page 652 is working well\n",
      "Page 653 is working well\n",
      "Page 654 is working well\n",
      "Page 655 is working well\n",
      "Page 656 is working well\n",
      "Page 657 is working well\n",
      "Page 658 is working well\n",
      "Page 659 is working well\n",
      "Page 660 is working well\n",
      "Page 661 is working well\n",
      "Page 662 is working well\n",
      "Page 663 is working well\n",
      "Page 664 is working well\n",
      "Page 665 is working well\n",
      "Page 666 is working well\n",
      "Page 667 is working well\n",
      "Page 668 is working well\n",
      "Page 669 is working well\n",
      "Page 670 is working well\n",
      "Page 671 is working well\n",
      "Page 672 is working well\n",
      "Page 673 is working well\n",
      "Page 674 is working well\n",
      "Page 675 is working well\n",
      "Page 676 is working well\n",
      "Page 677 is working well\n",
      "Page 678 is working well\n",
      "Page 679 is working well\n",
      "Page 680 is working well\n",
      "Page 681 is working well\n",
      "Page 682 is working well\n",
      "Page 683 is working well\n",
      "Page 684 is working well\n",
      "Page 685 is working well\n",
      "Page 686 is working well\n",
      "Page 687 is working well\n",
      "Page 688 is working well\n",
      "Page 689 is working well\n",
      "Page 690 is working well\n",
      "Page 691 is working well\n",
      "Page 692 is working well\n",
      "Page 693 is working well\n",
      "Page 694 is working well\n",
      "Page 695 is working well\n",
      "Page 696 is working well\n",
      "Page 697 is working well\n",
      "Page 698 is working well\n",
      "Page 699 is working well\n",
      "Page 700 is working well\n",
      "Page 701 is working well\n",
      "Page 702 is working well\n",
      "Page 703 is working well\n",
      "Page 704 is working well\n",
      "Page 705 is working well\n",
      "Page 706 is working well\n",
      "Page 707 is working well\n",
      "Page 708 is working well\n",
      "Page 709 is working well\n",
      "Page 710 is working well\n",
      "Page 711 is working well\n",
      "Page 712 is working well\n",
      "Page 713 is working well\n",
      "Page 714 is working well\n",
      "Page 715 is working well\n",
      "Page 716 is working well\n",
      "Page 717 is working well\n",
      "Page 718 is working well\n",
      "Page 719 is working well\n",
      "Page 720 is working well\n",
      "Page 721 is working well\n",
      "Page 722 is working well\n",
      "Page 723 is working well\n",
      "Page 724 is working well\n",
      "Page 725 is working well\n",
      "Page 726 is working well\n",
      "Page 727 is working well\n",
      "Page 728 is working well\n",
      "Page 729 is working well\n",
      "Page 730 is working well\n",
      "Page 731 is working well\n",
      "Page 732 is working well\n",
      "Page 733 is working well\n",
      "Page 734 is working well\n",
      "Page 735 is working well\n",
      "Page 736 is working well\n",
      "Page 737 is working well\n",
      "Page 738 is working well\n",
      "Page 739 is working well\n",
      "Page 740 is working well\n",
      "Page 741 is working well\n",
      "Page 742 is working well\n",
      "Page 743 is working well\n",
      "Page 744 is working well\n",
      "Page 745 is working well\n",
      "Page 746 is working well\n",
      "Page 747 is working well\n",
      "Page 748 is working well\n",
      "Page 749 is working well\n",
      "Page 750 is working well\n",
      "Page 751 is working well\n",
      "Page 752 is working well\n",
      "Page 753 is working well\n",
      "Page 754 is working well\n",
      "Page 755 is working well\n",
      "Page 756 is working well\n",
      "Page 757 is working well\n",
      "Page 758 is working well\n",
      "Page 759 is working well\n",
      "Page 760 is working well\n",
      "Page 761 is working well\n",
      "Page 762 is working well\n",
      "Page 763 is working well\n",
      "Page 764 is working well\n",
      "Page 765 is working well\n",
      "Page 766 is working well\n",
      "Page 767 is working well\n",
      "Page 768 is working well\n",
      "Page 769 is working well\n",
      "Page 770 is working well\n",
      "Page 771 is working well\n",
      "Page 772 is working well\n",
      "Page 773 is working well\n",
      "Page 774 is working well\n",
      "Page 775 is working well\n",
      "Page 776 is working well\n",
      "Page 777 is working well\n",
      "Page 778 is working well\n",
      "Page 779 is working well\n",
      "Page 780 is working well\n",
      "Page 781 is working well\n",
      "Page 782 is working well\n",
      "Page 783 is working well\n",
      "Page 784 is working well\n",
      "Page 785 is working well\n",
      "Page 786 is working well\n",
      "Page 787 is working well\n",
      "Page 788 is working well\n",
      "Page 789 is working well\n",
      "Page 790 is working well\n",
      "Page 791 is working well\n",
      "Page 792 is working well\n",
      "Page 793 is working well\n",
      "Page 794 is working well\n",
      "Page 795 is working well\n",
      "Page 796 is working well\n",
      "Page 797 is working well\n",
      "Page 798 is working well\n",
      "Page 799 is working well\n",
      "Page 800 is working well\n",
      "Page 801 is working well\n",
      "Page 802 is working well\n",
      "Page 803 is working well\n",
      "Page 804 is working well\n",
      "Page 805 is working well\n",
      "Page 806 is working well\n",
      "Page 807 is working well\n",
      "Page 808 is working well\n",
      "Page 809 is working well\n",
      "Page 810 is working well\n",
      "Page 811 is working well\n",
      "Page 812 is working well\n",
      "Page 813 is working well\n",
      "Page 814 is working well\n",
      "Page 815 is working well\n",
      "Page 816 is working well\n",
      "Page 817 is working well\n",
      "Page 818 is working well\n",
      "Page 819 is working well\n",
      "Page 820 is working well\n",
      "Page 821 is working well\n",
      "Page 822 is working well\n",
      "Page 823 is working well\n",
      "Page 824 is working well\n",
      "Page 825 is working well\n",
      "Page 826 is working well\n",
      "Page 827 is working well\n",
      "Page 828 is working well\n",
      "Page 829 is working well\n",
      "Page 830 is working well\n",
      "Page 831 is working well\n",
      "Page 832 is working well\n",
      "Page 833 is working well\n",
      "Page 834 is working well\n",
      "Page 835 is working well\n",
      "Page 836 is working well\n",
      "Page 837 is working well\n",
      "Page 838 is working well\n",
      "Page 839 is working well\n",
      "Page 840 is working well\n"
     ]
    }
   ],
   "source": [
    "flats_dict = {}\n",
    "N = 0\n",
    "\n",
    "for l in links:\n",
    "    \n",
    "    # Это будет номер квартиры\n",
    "    N = N + 1\n",
    "    \n",
    "    # Соберем все, что написано выше, вместе\n",
    "    flat_page = requests.get(l)\n",
    "    flat_page = flat_page.text\n",
    "    flat_page = BeautifulSoup(flat_page, 'lxml')\n",
    "    inf_table = flat_page.findAll('table', class_ = 'object_descr_tab')\n",
    "    inf_table = inf_table[0]\n",
    "    inner_table = inf_table.findAll('table', class_ = 'object_descr_props flat sale')\n",
    "    inner_table = inner_table[0]\n",
    "    \n",
    "    getCoords(flat_page)\n",
    "    house_coords = getCoords(flat_page)\n",
    "    \n",
    "    flats_dict[N] = {\n",
    "        'Rooms': room_grabber(inf_table),\n",
    "        'Price': price_grabber(inf_table)[0],\n",
    "        'Price_duplicate': price_grabber(inf_table)[1],\n",
    "        'Totsp': sp_grabber(inner_table, sp_pl = ['Общая площадь', 'Площадь кухни', 'Жилая площадь'])['totsp'],\n",
    "        'Livesp': sp_grabber(inner_table, sp_pl = ['Общая площадь', 'Площадь кухни', 'Жилая площадь'])['kitsp'],\n",
    "        'Kitsp': sp_grabber(inner_table, sp_pl = ['Общая площадь', 'Площадь кухни', 'Жилая площадь'])['livesp'],\n",
    "        'Dist': dist_grabber(house_coords),\n",
    "        'Metrdist': metro(inf_table)['metrdist'],\n",
    "        'Walk': metro(inf_table)['walk'],\n",
    "        'Brick': brick_grabber(flat_page),\n",
    "        'Tel': tel_grabber(inner_table),\n",
    "        'Bal': bal_grabber(inner_table),\n",
    "        'Floor': floor_grabber(inner_table)['floor'],\n",
    "        'Nfloors': floor_grabber(inner_table)['n_floor'],\n",
    "        'New': new_grabber(inner_table),\n",
    "        'Link': l\n",
    "    }\n",
    "    \n",
    "    print('Page {} is working well'.format(N))"
   ]
  },
  {
   "cell_type": "markdown",
   "metadata": {},
   "source": [
    "Мы собрали данные по всем найденным квартирам. Теперь положим это дело в удобный DataFrame"
   ]
  },
  {
   "cell_type": "code",
   "execution_count": 378,
   "metadata": {
    "collapsed": false
   },
   "outputs": [],
   "source": [
    "df_flats = pd.DataFrame(flats_dict).T"
   ]
  },
  {
   "cell_type": "markdown",
   "metadata": {},
   "source": [
    "Посмотрим на результат парсинга:"
   ]
  },
  {
   "cell_type": "code",
   "execution_count": 425,
   "metadata": {
    "collapsed": false
   },
   "outputs": [
    {
     "data": {
      "text/html": [
       "<div>\n",
       "<table border=\"1\" class=\"dataframe\">\n",
       "  <thead>\n",
       "    <tr style=\"text-align: right;\">\n",
       "      <th></th>\n",
       "      <th>Bal</th>\n",
       "      <th>Brick</th>\n",
       "      <th>Dist</th>\n",
       "      <th>Floor</th>\n",
       "      <th>Kitsp</th>\n",
       "      <th>Link</th>\n",
       "      <th>Livesp</th>\n",
       "      <th>Metrdist</th>\n",
       "      <th>New</th>\n",
       "      <th>Nfloors</th>\n",
       "      <th>Price</th>\n",
       "      <th>Price_duplicate</th>\n",
       "      <th>Rooms</th>\n",
       "      <th>Tel</th>\n",
       "      <th>Totsp</th>\n",
       "      <th>Walk</th>\n",
       "    </tr>\n",
       "  </thead>\n",
       "  <tbody>\n",
       "    <tr>\n",
       "      <th>count</th>\n",
       "      <td>840</td>\n",
       "      <td>482</td>\n",
       "      <td>840.000000</td>\n",
       "      <td>840</td>\n",
       "      <td>750</td>\n",
       "      <td>840</td>\n",
       "      <td>311</td>\n",
       "      <td>824</td>\n",
       "      <td>840</td>\n",
       "      <td>798</td>\n",
       "      <td>818</td>\n",
       "      <td>840</td>\n",
       "      <td>840</td>\n",
       "      <td>840</td>\n",
       "      <td>840</td>\n",
       "      <td>824</td>\n",
       "    </tr>\n",
       "    <tr>\n",
       "      <th>unique</th>\n",
       "      <td>2</td>\n",
       "      <td>2</td>\n",
       "      <td>472.000000</td>\n",
       "      <td>23</td>\n",
       "      <td>262</td>\n",
       "      <td>833</td>\n",
       "      <td>82</td>\n",
       "      <td>19</td>\n",
       "      <td>2</td>\n",
       "      <td>32</td>\n",
       "      <td>410</td>\n",
       "      <td>430</td>\n",
       "      <td>6</td>\n",
       "      <td>2</td>\n",
       "      <td>305</td>\n",
       "      <td>2</td>\n",
       "    </tr>\n",
       "    <tr>\n",
       "      <th>top</th>\n",
       "      <td>0</td>\n",
       "      <td>1</td>\n",
       "      <td>155.575171</td>\n",
       "      <td>2</td>\n",
       "      <td>30</td>\n",
       "      <td>http://www.cian.ru/sale/flat/147839229/</td>\n",
       "      <td>10</td>\n",
       "      <td>5</td>\n",
       "      <td>0</td>\n",
       "      <td>5</td>\n",
       "      <td>16500000</td>\n",
       "      <td>16500000</td>\n",
       "      <td>2</td>\n",
       "      <td>0</td>\n",
       "      <td>38</td>\n",
       "      <td>1</td>\n",
       "    </tr>\n",
       "    <tr>\n",
       "      <th>freq</th>\n",
       "      <td>427</td>\n",
       "      <td>391</td>\n",
       "      <td>67.000000</td>\n",
       "      <td>160</td>\n",
       "      <td>42</td>\n",
       "      <td>2</td>\n",
       "      <td>77</td>\n",
       "      <td>203</td>\n",
       "      <td>659</td>\n",
       "      <td>115</td>\n",
       "      <td>19</td>\n",
       "      <td>19</td>\n",
       "      <td>341</td>\n",
       "      <td>500</td>\n",
       "      <td>20</td>\n",
       "      <td>778</td>\n",
       "    </tr>\n",
       "  </tbody>\n",
       "</table>\n",
       "</div>"
      ],
      "text/plain": [
       "        Bal  Brick        Dist  Floor  Kitsp  \\\n",
       "count   840    482  840.000000    840    750   \n",
       "unique    2      2  472.000000     23    262   \n",
       "top       0      1  155.575171      2     30   \n",
       "freq    427    391   67.000000    160     42   \n",
       "\n",
       "                                           Link  Livesp  Metrdist  New  \\\n",
       "count                                       840     311       824  840   \n",
       "unique                                      833      82        19    2   \n",
       "top     http://www.cian.ru/sale/flat/147839229/      10         5    0   \n",
       "freq                                          2      77       203  659   \n",
       "\n",
       "        Nfloors     Price  Price_duplicate  Rooms  Tel  Totsp  Walk  \n",
       "count       798       818              840    840  840    840   824  \n",
       "unique       32       410              430      6    2    305     2  \n",
       "top           5  16500000         16500000      2    0     38     1  \n",
       "freq        115        19               19    341  500     20   778  "
      ]
     },
     "execution_count": 425,
     "metadata": {},
     "output_type": "execute_result"
    }
   ],
   "source": [
    "df_flats.describe()"
   ]
  },
  {
   "cell_type": "code",
   "execution_count": 401,
   "metadata": {
    "collapsed": false
   },
   "outputs": [
    {
     "name": "stdout",
     "output_type": "stream",
     "text": [
      "Bal 0\n",
      "Brick 358\n",
      "Dist 0\n",
      "Floor 0\n",
      "Kitsp 90\n",
      "Link 0\n",
      "Livesp 529\n",
      "Metrdist 16\n",
      "New 0\n",
      "Nfloors 42\n",
      "Price 22\n",
      "Price_duplicate 0\n",
      "Rooms 0\n",
      "Tel 0\n",
      "Totsp 0\n",
      "Walk 16\n"
     ]
    }
   ],
   "source": [
    "for c in df_flats.columns:\n",
    "    print(c, len(df_flats[c][df_flats[c].isnull()]))"
   ]
  },
  {
   "cell_type": "markdown",
   "metadata": {},
   "source": [
    "Сохраним результат в csv файл"
   ]
  },
  {
   "cell_type": "code",
   "execution_count": 422,
   "metadata": {
    "collapsed": false
   },
   "outputs": [],
   "source": [
    "df_flats.to_csv('flats_from_CIAN.csv')"
   ]
  }
 ],
 "metadata": {
  "kernelspec": {
   "display_name": "Python 3",
   "language": "python",
   "name": "python3"
  },
  "language_info": {
   "codemirror_mode": {
    "name": "ipython",
    "version": 3
   },
   "file_extension": ".py",
   "mimetype": "text/x-python",
   "name": "python",
   "nbconvert_exporter": "python",
   "pygments_lexer": "ipython3",
   "version": "3.5.2"
  }
 },
 "nbformat": 4,
 "nbformat_minor": 0
}
